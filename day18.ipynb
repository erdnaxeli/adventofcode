{
 "cells": [
  {
   "cell_type": "markdown",
   "metadata": {},
   "source": [
    "# Day 18\n",
    "\n",
    "## Part 1\n",
    "\n",
    "Given a map like this:\n",
    "```\n",
    "#################\n",
    "#i.G..c...e..H.p#\n",
    "########.########\n",
    "#j.A..b...f..D.o#\n",
    "########@########\n",
    "#k.E..a...g..B.n#\n",
    "########.########\n",
    "#l.F..d...h..C.m#\n",
    "#################\n",
    "```\n",
    "\n",
    "Where `@` is us, `x` is a key opening a door `X`, `#` a wall, we need to find the shortest path to get all the keys."
   ]
  },
  {
   "cell_type": "code",
   "execution_count": 1,
   "metadata": {},
   "outputs": [],
   "source": [
    "def count_keys(map_):\n",
    "    keys = 0\n",
    "    for line in map_:\n",
    "        for v in line:\n",
    "            if v.islower():\n",
    "                keys += 1\n",
    "            \n",
    "    return keys"
   ]
  },
  {
   "cell_type": "code",
   "execution_count": 2,
   "metadata": {},
   "outputs": [],
   "source": [
    "def compute_path(map_):\n",
    "    \"\"\"Compute a path.\n",
    "    \n",
    "    A path is a list of tuples `(x, y, keys)`, `keys` being an ordered tuple\n",
    "    of keys.\n",
    "    At each intersections, it tries every path.\n",
    "    \n",
    "    Returns a list of tuples `(path, keys)`.\n",
    "    \"\"\"\n",
    "    for y, line in enumerate(map_):\n",
    "        for x, v in enumerate(line):\n",
    "            if v == \"@\":\n",
    "                path = [(x, y, [])]\n",
    "                candidates = [path]\n",
    "\n",
    "    result = []\n",
    "    keys_count = count_keys(map_)\n",
    "\n",
    "    while True:\n",
    "        try:\n",
    "            path = candidates.pop(0)\n",
    "        except IndexError:\n",
    "            return result\n",
    "\n",
    "        px, py, keys = path[-1]\n",
    "        for x, y in (px - 1, py), (px + 1, py), (px, py - 1), (px, py + 1):\n",
    "            if (x, y, keys) in path:\n",
    "                # We were already here we the same set of keys, this is a dead end,\n",
    "                # let's stop.\n",
    "                continue\n",
    "            elif map_[y][x] == \"#\":\n",
    "                continue\n",
    "            elif map_[y][x].isupper():\n",
    "                # It's door!\n",
    "                key = map_[y][x].lower()\n",
    "                if key in keys:\n",
    "                    # We have the key, let's use it and go forward.\n",
    "                    subpath = path + [(x, y, keys)]\n",
    "                    candidates.append(subpath)\n",
    "                else:\n",
    "                    # We don't have this door's key, we can't go through it.\n",
    "                    continue\n",
    "            elif map_[y][x].islower() and map_[y][x] not in keys:\n",
    "                # It's a key! Pick it up!\n",
    "                subkeys = sorted(keys + [map_[y][x]])\n",
    "                subpath = path + [(x, y, subkeys)]\n",
    "\n",
    "                if len(subkeys) == keys_count:\n",
    "                    # We found all the keys!\n",
    "                    result.append(subpath)\n",
    "                    continue\n",
    "\n",
    "                candidates.append(subpath)\n",
    "            else:\n",
    "                # Empty path, let's go\n",
    "                subpath = path + [(x, y, keys)]\n",
    "                candidates.append(subpath)"
   ]
  },
  {
   "cell_type": "code",
   "execution_count": 3,
   "metadata": {},
   "outputs": [],
   "source": [
    "def get_min_len(map_):\n",
    "    map_ = [[v for v in line] for line in map_.splitlines() if line]\n",
    "    result = compute_path(map_)\n",
    "    keys_count = count_keys(map_)\n",
    "\n",
    "    min_path = None\n",
    "    for path in result:\n",
    "        if len(path[-1][2]) != keys_count:\n",
    "            continue\n",
    "\n",
    "        if min_path is None:\n",
    "            min_path = len(path)\n",
    "        \n",
    "    return min_path"
   ]
  },
  {
   "cell_type": "code",
   "execution_count": 4,
   "metadata": {},
   "outputs": [
    {
     "name": "stdout",
     "output_type": "stream",
     "text": [
      "CPU times: user 24.3 ms, sys: 22 µs, total: 24.3 ms\n",
      "Wall time: 24.5 ms\n"
     ]
    },
    {
     "data": {
      "text/plain": [
       "133"
      ]
     },
     "execution_count": 4,
     "metadata": {},
     "output_type": "execute_result"
    }
   ],
   "source": [
    "%%time\n",
    "\n",
    "get_min_len(\"\"\"\n",
    "########################\n",
    "#...............b.C.D.f#\n",
    "#.######################\n",
    "#.....@.a.B.c.d.A.e.F.g#\n",
    "########################\n",
    "\"\"\")  # 132"
   ]
  },
  {
   "cell_type": "markdown",
   "metadata": {},
   "source": [
    "We get 133 because we can the origin."
   ]
  },
  {
   "cell_type": "code",
   "execution_count": 5,
   "metadata": {},
   "outputs": [
    {
     "ename": "KeyboardInterrupt",
     "evalue": "",
     "output_type": "error",
     "traceback": [
      "\u001b[0;31m---------------------------------------------------------------------------\u001b[0m",
      "\u001b[0;31mKeyboardInterrupt\u001b[0m                         Traceback (most recent call last)",
      "\u001b[0;32m<timed eval>\u001b[0m in \u001b[0;36m<module>\u001b[0;34m\u001b[0m\n",
      "\u001b[0;32m<ipython-input-3-f2596275875f>\u001b[0m in \u001b[0;36mget_min_len\u001b[0;34m(map_)\u001b[0m\n\u001b[1;32m      1\u001b[0m \u001b[0;32mdef\u001b[0m \u001b[0mget_min_len\u001b[0m\u001b[0;34m(\u001b[0m\u001b[0mmap_\u001b[0m\u001b[0;34m)\u001b[0m\u001b[0;34m:\u001b[0m\u001b[0;34m\u001b[0m\u001b[0;34m\u001b[0m\u001b[0m\n\u001b[1;32m      2\u001b[0m     \u001b[0mmap_\u001b[0m \u001b[0;34m=\u001b[0m \u001b[0;34m[\u001b[0m\u001b[0;34m[\u001b[0m\u001b[0mv\u001b[0m \u001b[0;32mfor\u001b[0m \u001b[0mv\u001b[0m \u001b[0;32min\u001b[0m \u001b[0mline\u001b[0m\u001b[0;34m]\u001b[0m \u001b[0;32mfor\u001b[0m \u001b[0mline\u001b[0m \u001b[0;32min\u001b[0m \u001b[0mmap_\u001b[0m\u001b[0;34m.\u001b[0m\u001b[0msplitlines\u001b[0m\u001b[0;34m(\u001b[0m\u001b[0;34m)\u001b[0m \u001b[0;32mif\u001b[0m \u001b[0mline\u001b[0m\u001b[0;34m]\u001b[0m\u001b[0;34m\u001b[0m\u001b[0;34m\u001b[0m\u001b[0m\n\u001b[0;32m----> 3\u001b[0;31m     \u001b[0mresult\u001b[0m \u001b[0;34m=\u001b[0m \u001b[0mcompute_path\u001b[0m\u001b[0;34m(\u001b[0m\u001b[0mmap_\u001b[0m\u001b[0;34m)\u001b[0m\u001b[0;34m\u001b[0m\u001b[0;34m\u001b[0m\u001b[0m\n\u001b[0m\u001b[1;32m      4\u001b[0m     \u001b[0mkeys_count\u001b[0m \u001b[0;34m=\u001b[0m \u001b[0mcount_keys\u001b[0m\u001b[0;34m(\u001b[0m\u001b[0mmap_\u001b[0m\u001b[0;34m)\u001b[0m\u001b[0;34m\u001b[0m\u001b[0;34m\u001b[0m\u001b[0m\n\u001b[1;32m      5\u001b[0m \u001b[0;34m\u001b[0m\u001b[0m\n",
      "\u001b[0;32m<ipython-input-2-23ac8459d2a6>\u001b[0m in \u001b[0;36mcompute_path\u001b[0;34m(map_)\u001b[0m\n\u001b[1;32m     19\u001b[0m     \u001b[0;32mwhile\u001b[0m \u001b[0;32mTrue\u001b[0m\u001b[0;34m:\u001b[0m\u001b[0;34m\u001b[0m\u001b[0;34m\u001b[0m\u001b[0m\n\u001b[1;32m     20\u001b[0m         \u001b[0;32mtry\u001b[0m\u001b[0;34m:\u001b[0m\u001b[0;34m\u001b[0m\u001b[0;34m\u001b[0m\u001b[0m\n\u001b[0;32m---> 21\u001b[0;31m             \u001b[0mpath\u001b[0m \u001b[0;34m=\u001b[0m \u001b[0mcandidates\u001b[0m\u001b[0;34m.\u001b[0m\u001b[0mpop\u001b[0m\u001b[0;34m(\u001b[0m\u001b[0;36m0\u001b[0m\u001b[0;34m)\u001b[0m\u001b[0;34m\u001b[0m\u001b[0;34m\u001b[0m\u001b[0m\n\u001b[0m\u001b[1;32m     22\u001b[0m         \u001b[0;32mexcept\u001b[0m \u001b[0mIndexError\u001b[0m\u001b[0;34m:\u001b[0m\u001b[0;34m\u001b[0m\u001b[0;34m\u001b[0m\u001b[0m\n\u001b[1;32m     23\u001b[0m             \u001b[0;32mreturn\u001b[0m \u001b[0mresult\u001b[0m\u001b[0;34m\u001b[0m\u001b[0;34m\u001b[0m\u001b[0m\n",
      "\u001b[0;31mKeyboardInterrupt\u001b[0m: "
     ]
    }
   ],
   "source": [
    "%%time\n",
    "\n",
    "get_min_len(\"\"\"\n",
    "#################\n",
    "#i.G..c...e..H.p#\n",
    "########.########\n",
    "#j.A..b...f..D.o#\n",
    "########@########\n",
    "#k.E..a...g..B.n#\n",
    "########.########\n",
    "#l.F..d...h..C.m#\n",
    "#################\n",
    "\"\"\")"
   ]
  },
  {
   "cell_type": "markdown",
   "metadata": {},
   "source": [
    "Idée : on trie les chemins pour tester seulement les plus courts. Dès qu'on en a trouvé un, on enregistre sa taille et on drop tous les chemins plus grands."
   ]
  }
 ],
 "metadata": {
  "kernelspec": {
   "display_name": "Python 3",
   "language": "python",
   "name": "python3"
  },
  "language_info": {
   "codemirror_mode": {
    "name": "ipython",
    "version": 3
   },
   "file_extension": ".py",
   "mimetype": "text/x-python",
   "name": "python",
   "nbconvert_exporter": "python",
   "pygments_lexer": "ipython3",
   "version": "3.7.1"
  }
 },
 "nbformat": 4,
 "nbformat_minor": 4
}
