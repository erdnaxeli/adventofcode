{
 "cells": [
  {
   "cell_type": "markdown",
   "metadata": {},
   "source": [
    "# Day 11\n",
    "\n",
    "## Part 1\n",
    "\n",
    "We need to run an Intcode program, to paint some grid.\n",
    "The program:\n",
    "1. takes 0 or 1 as input if the current cell is black or white\n",
    "2. outputs 0 or 1 if the cell should be paint in black or white\n",
    "3. outputs 0 or 1 to turn left or right\n",
    "4. move one cell forward\n",
    "5. loops"
   ]
  },
  {
   "cell_type": "markdown",
   "metadata": {},
   "source": [
    "Let's reuse our Intcode interpreter from day9."
   ]
  },
  {
   "cell_type": "code",
   "execution_count": null,
   "metadata": {},
   "outputs": [],
   "source": [
    "%autoawait trio"
   ]
  },
  {
   "cell_type": "code",
   "execution_count": 2,
   "metadata": {},
   "outputs": [],
   "source": [
    "from collections import defaultdict\n",
    "\n",
    "import trio\n",
    "\n",
    "\n",
    "class Computer:\n",
    "    def __init__(self, program):\n",
    "        self.position = 0\n",
    "        self.relative_base = 0\n",
    "        self.parameters_mode = None\n",
    "        self.program = program.copy()\n",
    "\n",
    "    def set_input_output(self, buffer_max=10):\n",
    "        input_write, input_read = trio.open_memory_channel(buffer_max)\n",
    "        output_write, output_read = trio.open_memory_channel(buffer_max)\n",
    "        \n",
    "        self.input, self.output = input_read, output_write\n",
    "        \n",
    "        return input_write, output_read\n",
    "        \n",
    "    @staticmethod\n",
    "    def log(*args):\n",
    "        if False:\n",
    "            print(*args)\n",
    "\n",
    "    def get_param_value(self, param):\n",
    "        param_address = self.get_param_address(param)\n",
    "        \n",
    "        try:\n",
    "            value = self.program[param_address]\n",
    "        except IndexError:\n",
    "            self.extend(param_address)\n",
    "            value = self.program[param_address]\n",
    "            \n",
    "        return value\n",
    "\n",
    "    def get_param_address(self, param):\n",
    "        mode = self.parameters_mode[param]\n",
    "\n",
    "        if mode == 0:  # position mode\n",
    "            return self.program[self.position + param]\n",
    "        elif mode == 1:  # immediate mode\n",
    "            return self.position + param\n",
    "        elif mode == 2:  # relative mode:\n",
    "            param_position = self.position + param\n",
    "            return self.relative_base + self.program[param_position]\n",
    "        else:\n",
    "            raise ValueError(\"Unknown paremeter mode\")\n",
    "\n",
    "    def read_instruction(self):\n",
    "        # read instruction and split it into opcode and parameters mode\n",
    "        try:\n",
    "            instruction = self.program[self.position]\n",
    "        except IndexError:\n",
    "            # end of program\n",
    "            return None\n",
    "\n",
    "        opcode = instruction % 100\n",
    "        self.parameters_mode = defaultdict(lambda: 0)\n",
    "\n",
    "        value = instruction // 100\n",
    "        i = 1\n",
    "        while value > 0:\n",
    "            self.parameters_mode[i] = value % 10\n",
    "            value //= 10\n",
    "            i += 1\n",
    "\n",
    "        self.log(self.position, '>', instruction, opcode, dict(self.parameters_mode))\n",
    "        return opcode\n",
    "    \n",
    "    def write(self, address, value):\n",
    "        try:\n",
    "            self.program[address] = value\n",
    "        except IndexError:\n",
    "            self.extend(address)\n",
    "            self.program[address] = value\n",
    "            \n",
    "    def extend(self, address):\n",
    "        self.program.extend([0] * (1 + address - len(self.program)))\n",
    "\n",
    "    async def compute_close(self):\n",
    "        \"\"\"Run the programm, but close the output when terminated.\"\"\"\n",
    "        async with self.output:\n",
    "            await self.compute()\n",
    "            \n",
    "        \n",
    "    async def compute(self):\n",
    "        \"\"\"Compute the final state of a program, and return it.\n",
    "\n",
    "        `program` is a list of int.\n",
    "        `read_input` is a method returning a value each time it is called.\n",
    "        `write_output` is a method taking a value as parameter.\n",
    "        \"\"\"\n",
    "        # init state\n",
    "        self.position = 0\n",
    "\n",
    "        # run program\n",
    "        while True:\n",
    "            opcode = self.read_instruction()\n",
    "            if opcode is None:\n",
    "                # end of program\n",
    "                log(\"Stop: EOF\")\n",
    "                return\n",
    "\n",
    "            # execute opcode\n",
    "            if opcode == 1:\n",
    "                # add x y\n",
    "                x = self.get_param_value(1)\n",
    "                y = self.get_param_value(2)\n",
    "                result_addr = self.get_param_address(3)\n",
    "\n",
    "                result = x + y\n",
    "                self.write(result_addr, result)\n",
    "                self.log(\"add\", x, y, result_addr, result)\n",
    "\n",
    "                step = 4\n",
    "            elif opcode == 2:\n",
    "                # mult x y\n",
    "                x = self.get_param_value(1)\n",
    "                y = self.get_param_value(2)\n",
    "                result_addr = self.get_param_address(3)\n",
    "\n",
    "                result = x * y\n",
    "                self.write(result_addr, result)\n",
    "                self.log(\"mult\", x, y, result_addr, result)\n",
    "\n",
    "                step = 4\n",
    "            elif opcode == 3:\n",
    "                # read x\n",
    "                result_addr = self.get_param_address(1)\n",
    "\n",
    "                value = await self.input.receive()\n",
    "                self.write(result_addr, value)\n",
    "                self.log(\"read\", value, result_addr)\n",
    "\n",
    "                step = 2\n",
    "            elif opcode == 4:\n",
    "                # write x\n",
    "                value = self.get_param_value(1)\n",
    "                await self.output.send(value)\n",
    "                self.log(\"write\", value)\n",
    "\n",
    "                step = 2\n",
    "            elif opcode == 5:\n",
    "                # jump-if-true x y\n",
    "                value = self.get_param_value(1)\n",
    "                jump_addr = self.get_param_value(2)\n",
    "\n",
    "                self.log(\"jump-if-true\", value, jump_addr)\n",
    "\n",
    "                if value:\n",
    "                    self.position = jump_addr\n",
    "                    step = 0\n",
    "                else:\n",
    "                    step = 3\n",
    "            elif opcode == 6:\n",
    "                # jump-if-false x y\n",
    "                value = self.get_param_value(1)\n",
    "                jump_addr = self.get_param_value(2)\n",
    "\n",
    "                self.log(\"jump-if-false\", value, jump_addr)\n",
    "\n",
    "                if not value:\n",
    "                    self.position = jump_addr\n",
    "                    step = 0\n",
    "                else:\n",
    "                    step = 3\n",
    "            elif opcode == 7:\n",
    "                # lt x y z\n",
    "                x = self.get_param_value(1)\n",
    "                y = self.get_param_value(2)\n",
    "                result_addr = self.get_param_address(3)\n",
    "\n",
    "                self.log(\"lt\", x, y, result_addr)\n",
    "\n",
    "                if x < y:\n",
    "                    self.write(result_addr, 1)\n",
    "                else:\n",
    "                    self.write(result_addr, 0)\n",
    "\n",
    "                step = 4\n",
    "            elif opcode == 8:\n",
    "                # eq x y z\n",
    "                x = self.get_param_value(1)\n",
    "                y = self.get_param_value(2)\n",
    "                result_addr = self.get_param_address(3)\n",
    "\n",
    "                self.log(\"eq\", x, y, result_addr)\n",
    "\n",
    "                if x == y:\n",
    "                    self.write(result_addr, 1)\n",
    "                else:\n",
    "                    self.write(result_addr, 0)\n",
    "\n",
    "                step = 4\n",
    "            elif opcode == 9:\n",
    "                # relative_base_add x\n",
    "                x = self.get_param_value(1)\n",
    "                self.relative_base += x\n",
    "                \n",
    "                self.log(\"relative_base_add\", x)\n",
    "                \n",
    "                step = 2\n",
    "            elif opcode == 99:\n",
    "                # end of program\n",
    "                self.log(\"stop\")\n",
    "                break\n",
    "            else:\n",
    "                # unknown instruction\n",
    "                self.log(\"unknown opcode\")\n",
    "                break\n",
    "\n",
    "            self.position += step\n",
    "\n",
    "        return self.program"
   ]
  },
  {
   "cell_type": "markdown",
   "metadata": {},
   "source": [
    "We need to count how many cells are painted at least once."
   ]
  },
  {
   "cell_type": "code",
   "execution_count": 3,
   "metadata": {},
   "outputs": [],
   "source": [
    "from collections import defaultdict, namedtuple\n",
    "\n",
    "Point = namedtuple(\"Point\", (\"x\", \"y\"))"
   ]
  },
  {
   "cell_type": "code",
   "execution_count": 4,
   "metadata": {},
   "outputs": [],
   "source": [
    "def turn_right(direction):\n",
    "    \"\"\"Return the new direction turned 90° to the right.\"\"\"\n",
    "    return Point(direction.y, direction.x * -1)"
   ]
  },
  {
   "cell_type": "code",
   "execution_count": 5,
   "metadata": {},
   "outputs": [
    {
     "data": {
      "text/plain": [
       "Point(x=1, y=0)"
      ]
     },
     "execution_count": 5,
     "metadata": {},
     "output_type": "execute_result"
    }
   ],
   "source": [
    "turn_right(Point(0, 1))"
   ]
  },
  {
   "cell_type": "code",
   "execution_count": 6,
   "metadata": {},
   "outputs": [
    {
     "data": {
      "text/plain": [
       "Point(x=0, y=-1)"
      ]
     },
     "execution_count": 6,
     "metadata": {},
     "output_type": "execute_result"
    }
   ],
   "source": [
    "turn_right(Point(1, 0))"
   ]
  },
  {
   "cell_type": "code",
   "execution_count": 7,
   "metadata": {},
   "outputs": [
    {
     "data": {
      "text/plain": [
       "Point(x=-1, y=0)"
      ]
     },
     "execution_count": 7,
     "metadata": {},
     "output_type": "execute_result"
    }
   ],
   "source": [
    "turn_right(Point(0, -1))"
   ]
  },
  {
   "cell_type": "code",
   "execution_count": 8,
   "metadata": {},
   "outputs": [
    {
     "data": {
      "text/plain": [
       "Point(x=0, y=1)"
      ]
     },
     "execution_count": 8,
     "metadata": {},
     "output_type": "execute_result"
    }
   ],
   "source": [
    "turn_right(Point(-1, 0))"
   ]
  },
  {
   "cell_type": "code",
   "execution_count": 9,
   "metadata": {},
   "outputs": [],
   "source": [
    "def turn_left(direction):\n",
    "    \"\"\"Return the new direction turned 90° to the right.\"\"\"\n",
    "    return Point(direction.y * -1, direction.x)"
   ]
  },
  {
   "cell_type": "code",
   "execution_count": 10,
   "metadata": {},
   "outputs": [
    {
     "data": {
      "text/plain": [
       "Point(x=-1, y=0)"
      ]
     },
     "execution_count": 10,
     "metadata": {},
     "output_type": "execute_result"
    }
   ],
   "source": [
    "turn_left(Point(0, 1))"
   ]
  },
  {
   "cell_type": "code",
   "execution_count": 11,
   "metadata": {},
   "outputs": [
    {
     "data": {
      "text/plain": [
       "Point(x=0, y=-1)"
      ]
     },
     "execution_count": 11,
     "metadata": {},
     "output_type": "execute_result"
    }
   ],
   "source": [
    "turn_left(Point(-1, 0))"
   ]
  },
  {
   "cell_type": "code",
   "execution_count": 12,
   "metadata": {},
   "outputs": [
    {
     "data": {
      "text/plain": [
       "Point(x=1, y=0)"
      ]
     },
     "execution_count": 12,
     "metadata": {},
     "output_type": "execute_result"
    }
   ],
   "source": [
    "turn_left(Point(0, -1))"
   ]
  },
  {
   "cell_type": "code",
   "execution_count": 13,
   "metadata": {},
   "outputs": [
    {
     "data": {
      "text/plain": [
       "Point(x=0, y=1)"
      ]
     },
     "execution_count": 13,
     "metadata": {},
     "output_type": "execute_result"
    }
   ],
   "source": [
    "turn_left(Point(1, 0))"
   ]
  },
  {
   "cell_type": "code",
   "execution_count": 14,
   "metadata": {},
   "outputs": [],
   "source": [
    "async def manage_computer(input_, output, result):\n",
    "    grid = defaultdict(lambda: 0)\n",
    "    \n",
    "    cell = Point(0, 0)\n",
    "    direction = Point(0, 1)  # we start facing up\n",
    "    \n",
    "    # init\n",
    "    await input_.send(grid[cell])\n",
    "    \n",
    "    # to close output when we exit\n",
    "    async with output:\n",
    "        async for value in output:\n",
    "            # the first value is the color to paint\n",
    "            grid[cell] = value\n",
    "            \n",
    "            # the second is to turn left or right\n",
    "            turn = await output.receive()\n",
    "            if turn == 0:\n",
    "                direction = turn_left(direction)\n",
    "            else:\n",
    "                direction = turn_right(direction)\n",
    "                \n",
    "            cell = Point(\n",
    "                cell.x + direction.x,\n",
    "                cell.y + direction.y,\n",
    "            )\n",
    "            \n",
    "            # send new cell color\n",
    "            await input_.send(grid[cell])\n",
    "            \n",
    "    await result.send(grid)"
   ]
  },
  {
   "cell_type": "code",
   "execution_count": 15,
   "metadata": {},
   "outputs": [],
   "source": [
    "program = [3,8,1005,8,319,1106,0,11,0,0,0,104,1,104,0,3,8,102,-1,8,10,1001,10,1,10,4,10,108,1,8,10,4,10,101,0,8,28,2,1105,12,10,1006,0,12,3,8,102,-1,8,10,101,1,10,10,4,10,1008,8,0,10,4,10,102,1,8,58,2,107,7,10,1006,0,38,2,1008,3,10,3,8,1002,8,-1,10,1001,10,1,10,4,10,108,0,8,10,4,10,1001,8,0,90,3,8,1002,8,-1,10,101,1,10,10,4,10,108,0,8,10,4,10,101,0,8,112,1006,0,65,1,1103,1,10,1006,0,91,3,8,102,-1,8,10,101,1,10,10,4,10,108,1,8,10,4,10,101,0,8,144,1006,0,32,3,8,1002,8,-1,10,101,1,10,10,4,10,108,1,8,10,4,10,102,1,8,169,1,109,12,10,1006,0,96,1006,0,5,3,8,102,-1,8,10,1001,10,1,10,4,10,108,1,8,10,4,10,101,0,8,201,3,8,102,-1,8,10,1001,10,1,10,4,10,108,0,8,10,4,10,1001,8,0,223,1,4,9,10,2,8,5,10,1,3,4,10,3,8,1002,8,-1,10,1001,10,1,10,4,10,108,1,8,10,4,10,101,0,8,257,1,1,9,10,1006,0,87,3,8,102,-1,8,10,1001,10,1,10,4,10,1008,8,0,10,4,10,102,1,8,287,2,1105,20,10,1,1006,3,10,1,3,4,10,101,1,9,9,1007,9,1002,10,1005,10,15,99,109,641,104,0,104,1,21102,1,932972962600,1,21101,0,336,0,1106,0,440,21101,838483681940,0,1,21101,0,347,0,1106,0,440,3,10,104,0,104,1,3,10,104,0,104,0,3,10,104,0,104,1,3,10,104,0,104,1,3,10,104,0,104,0,3,10,104,0,104,1,21101,3375393987,0,1,21101,394,0,0,1105,1,440,21102,46174071847,1,1,21102,1,405,0,1106,0,440,3,10,104,0,104,0,3,10,104,0,104,0,21101,988648461076,0,1,21101,428,0,0,1106,0,440,21101,0,709580452200,1,21101,439,0,0,1105,1,440,99,109,2,22101,0,-1,1,21101,40,0,2,21102,1,471,3,21102,461,1,0,1106,0,504,109,-2,2106,0,0,0,1,0,0,1,109,2,3,10,204,-1,1001,466,467,482,4,0,1001,466,1,466,108,4,466,10,1006,10,498,1102,0,1,466,109,-2,2105,1,0,0,109,4,1202,-1,1,503,1207,-3,0,10,1006,10,521,21102,1,0,-3,22102,1,-3,1,21201,-2,0,2,21101,0,1,3,21102,540,1,0,1106,0,545,109,-4,2106,0,0,109,5,1207,-3,1,10,1006,10,568,2207,-4,-2,10,1006,10,568,22101,0,-4,-4,1105,1,636,22102,1,-4,1,21201,-3,-1,2,21202,-2,2,3,21102,1,587,0,1105,1,545,22101,0,1,-4,21102,1,1,-1,2207,-4,-2,10,1006,10,606,21101,0,0,-1,22202,-2,-1,-2,2107,0,-3,10,1006,10,628,21201,-1,0,1,21101,0,628,0,106,0,503,21202,-2,-1,-2,22201,-4,-2,-4,109,-5,2106,0,0]\n",
    "\n",
    "computer = Computer(program)\n",
    "input_, output = computer.set_input_output()\n",
    "\n",
    "result_write, result_read = trio.open_memory_channel(1)\n",
    "\n",
    "async with trio.open_nursery() as nursery:\n",
    "    nursery.start_soon(manage_computer, input_, output, result_write)\n",
    "    nursery.start_soon(computer.compute_close)\n",
    "\n",
    "grid = await result_read.receive()"
   ]
  },
  {
   "cell_type": "code",
   "execution_count": 16,
   "metadata": {},
   "outputs": [
    {
     "data": {
      "text/plain": [
       "2211"
      ]
     },
     "execution_count": 16,
     "metadata": {},
     "output_type": "execute_result"
    }
   ],
   "source": [
    "len(grid) - 1  # the last cell is not painted"
   ]
  },
  {
   "cell_type": "markdown",
   "metadata": {},
   "source": [
    "## Part 2\n",
    "\n",
    "We made a mistake, the painting robot need to start on a **white** cell."
   ]
  },
  {
   "cell_type": "code",
   "execution_count": 17,
   "metadata": {},
   "outputs": [],
   "source": [
    "async def manage_computer(input_, output, result):\n",
    "    grid = defaultdict(lambda: 0)\n",
    "    \n",
    "    cell = Point(0, 0)\n",
    "    direction = Point(0, 1)  # we start facing up\n",
    "    \n",
    "    # init\n",
    "    grid[cell] = 1\n",
    "    await input_.send(grid[cell])\n",
    "    \n",
    "    # to close output when we exit\n",
    "    async with output:\n",
    "        async for value in output:\n",
    "            # the first value is the color to paint\n",
    "            grid[cell] = value\n",
    "            \n",
    "            # the second is to turn left or right\n",
    "            turn = await output.receive()\n",
    "            if turn == 0:\n",
    "                direction = turn_left(direction)\n",
    "            else:\n",
    "                direction = turn_right(direction)\n",
    "                \n",
    "            cell = Point(\n",
    "                cell.x + direction.x,\n",
    "                cell.y + direction.y,\n",
    "            )\n",
    "            \n",
    "            # send new cell color\n",
    "            await input_.send(grid[cell])\n",
    "            \n",
    "    await result.send(grid)"
   ]
  },
  {
   "cell_type": "code",
   "execution_count": 18,
   "metadata": {},
   "outputs": [],
   "source": [
    "program = [3,8,1005,8,319,1106,0,11,0,0,0,104,1,104,0,3,8,102,-1,8,10,1001,10,1,10,4,10,108,1,8,10,4,10,101,0,8,28,2,1105,12,10,1006,0,12,3,8,102,-1,8,10,101,1,10,10,4,10,1008,8,0,10,4,10,102,1,8,58,2,107,7,10,1006,0,38,2,1008,3,10,3,8,1002,8,-1,10,1001,10,1,10,4,10,108,0,8,10,4,10,1001,8,0,90,3,8,1002,8,-1,10,101,1,10,10,4,10,108,0,8,10,4,10,101,0,8,112,1006,0,65,1,1103,1,10,1006,0,91,3,8,102,-1,8,10,101,1,10,10,4,10,108,1,8,10,4,10,101,0,8,144,1006,0,32,3,8,1002,8,-1,10,101,1,10,10,4,10,108,1,8,10,4,10,102,1,8,169,1,109,12,10,1006,0,96,1006,0,5,3,8,102,-1,8,10,1001,10,1,10,4,10,108,1,8,10,4,10,101,0,8,201,3,8,102,-1,8,10,1001,10,1,10,4,10,108,0,8,10,4,10,1001,8,0,223,1,4,9,10,2,8,5,10,1,3,4,10,3,8,1002,8,-1,10,1001,10,1,10,4,10,108,1,8,10,4,10,101,0,8,257,1,1,9,10,1006,0,87,3,8,102,-1,8,10,1001,10,1,10,4,10,1008,8,0,10,4,10,102,1,8,287,2,1105,20,10,1,1006,3,10,1,3,4,10,101,1,9,9,1007,9,1002,10,1005,10,15,99,109,641,104,0,104,1,21102,1,932972962600,1,21101,0,336,0,1106,0,440,21101,838483681940,0,1,21101,0,347,0,1106,0,440,3,10,104,0,104,1,3,10,104,0,104,0,3,10,104,0,104,1,3,10,104,0,104,1,3,10,104,0,104,0,3,10,104,0,104,1,21101,3375393987,0,1,21101,394,0,0,1105,1,440,21102,46174071847,1,1,21102,1,405,0,1106,0,440,3,10,104,0,104,0,3,10,104,0,104,0,21101,988648461076,0,1,21101,428,0,0,1106,0,440,21101,0,709580452200,1,21101,439,0,0,1105,1,440,99,109,2,22101,0,-1,1,21101,40,0,2,21102,1,471,3,21102,461,1,0,1106,0,504,109,-2,2106,0,0,0,1,0,0,1,109,2,3,10,204,-1,1001,466,467,482,4,0,1001,466,1,466,108,4,466,10,1006,10,498,1102,0,1,466,109,-2,2105,1,0,0,109,4,1202,-1,1,503,1207,-3,0,10,1006,10,521,21102,1,0,-3,22102,1,-3,1,21201,-2,0,2,21101,0,1,3,21102,540,1,0,1106,0,545,109,-4,2106,0,0,109,5,1207,-3,1,10,1006,10,568,2207,-4,-2,10,1006,10,568,22101,0,-4,-4,1105,1,636,22102,1,-4,1,21201,-3,-1,2,21202,-2,2,3,21102,1,587,0,1105,1,545,22101,0,1,-4,21102,1,1,-1,2207,-4,-2,10,1006,10,606,21101,0,0,-1,22202,-2,-1,-2,2107,0,-3,10,1006,10,628,21201,-1,0,1,21101,0,628,0,106,0,503,21202,-2,-1,-2,22201,-4,-2,-4,109,-5,2106,0,0]\n",
    "\n",
    "computer = Computer(program)\n",
    "input_, output = computer.set_input_output()\n",
    "\n",
    "result_write, result_read = trio.open_memory_channel(1)\n",
    "\n",
    "async with trio.open_nursery() as nursery:\n",
    "    nursery.start_soon(manage_computer, input_, output, result_write)\n",
    "    nursery.start_soon(computer.compute_close)\n",
    "\n",
    "grid = await result_read.receive()"
   ]
  },
  {
   "cell_type": "code",
   "execution_count": 19,
   "metadata": {},
   "outputs": [
    {
     "data": {
      "text/plain": [
       "<matplotlib.image.AxesImage at 0x7f32dc43bf28>"
      ]
     },
     "execution_count": 19,
     "metadata": {},
     "output_type": "execute_result"
    },
    {
     "data": {
      "image/png": "[encoded data removed]",
      "text/plain": [
       "<Figure size 432x288 with 1 Axes>"
      ]
     },
     "metadata": {
      "needs_background": "light"
     },
     "output_type": "display_data"
    }
   ],
   "source": [
    "import numpy as np\n",
    "from matplotlib import pyplot as plt\n",
    "\n",
    "max_x = min_x = max_y = min_y = 0\n",
    "for point in grid:\n",
    "    max_x = max(point.x, max_x)\n",
    "    min_x = min(point.x, min_x)\n",
    "    max_y = max(point.y, max_y)\n",
    "    min_y = min(point.y, min_y)\n",
    "    \n",
    "data = np.zeros((max_x - min_x + 1, max_y - min_y + 1, 3), dtype=np.uint8)\n",
    "for point in grid:\n",
    "    x = point.x - min_x\n",
    "    y = point.y - min_y\n",
    "    \n",
    "    if grid[point] == 0:\n",
    "        color = (0, 0, 0)\n",
    "    else:\n",
    "        color = (255, 255, 255)\n",
    "\n",
    "    data[x, y] = color\n",
    "\n",
    "plt.imshow(data)"
   ]
  }
 ],
 "metadata": {
  "kernelspec": {
   "display_name": "Python 3",
   "language": "python",
   "name": "python3"
  },
  "language_info": {
   "codemirror_mode": {
    "name": "ipython",
    "version": 3
   },
   "file_extension": ".py",
   "mimetype": "text/x-python",
   "name": "python",
   "nbconvert_exporter": "python",
   "pygments_lexer": "ipython3",
   "version": "3.7.3"
  }
 },
 "nbformat": 4,
 "nbformat_minor": 4
}
