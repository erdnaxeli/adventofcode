{
 "cells": [
  {
   "cell_type": "markdown",
   "metadata": {},
   "source": [
    "# Day 10\n",
    "\n",
    "## Part 1\n",
    "\n",
    "We want to build an asteroid monitor station.\n",
    "We have an asteroids map which looks like this:\n",
    "\n",
    "```\n",
    ".#..#\n",
    ".....\n",
    "#####\n",
    "....#\n",
    "...##\n",
    "```\n",
    "\n",
    "We need to find the best place to build the station.\n",
    "The best place is on an asteroid, where we can see the maximum number of other asteroids."
   ]
  },
  {
   "cell_type": "code",
   "execution_count": 1,
   "metadata": {},
   "outputs": [],
   "source": [
    "from collections import namedtuple\n",
    "\n",
    "Point = namedtuple(\"Point\", (\"x\", \"y\"))\n",
    "\n",
    "def read_map(raw_map):\n",
    "    \"\"\"Read a string and return a map.\n",
    "    \n",
    "    A map is a set of points representing each asteroids.\n",
    "    \"\"\"\n",
    "    x = 0\n",
    "    y = 0\n",
    "    result_map = set()\n",
    "    for line in raw_map.splitlines():\n",
    "        if not line:\n",
    "            continue\n",
    "\n",
    "        for char in line:\n",
    "            if char == \"#\":\n",
    "                result_map.add(Point(x, y))\n",
    "                \n",
    "            x += 1\n",
    "            \n",
    "        x = 0\n",
    "        y += 1\n",
    "        \n",
    "    return result_map"
   ]
  },
  {
   "cell_type": "code",
   "execution_count": 2,
   "metadata": {},
   "outputs": [
    {
     "data": {
      "text/plain": [
       "{Point(x=0, y=2),\n",
       " Point(x=1, y=0),\n",
       " Point(x=1, y=2),\n",
       " Point(x=2, y=2),\n",
       " Point(x=3, y=2),\n",
       " Point(x=3, y=4),\n",
       " Point(x=4, y=0),\n",
       " Point(x=4, y=2),\n",
       " Point(x=4, y=3),\n",
       " Point(x=4, y=4)}"
      ]
     },
     "execution_count": 2,
     "metadata": {},
     "output_type": "execute_result"
    }
   ],
   "source": [
    "raw_map = \"\"\"\n",
    ".#..#\n",
    ".....\n",
    "#####\n",
    "....#\n",
    "...##\n",
    "\"\"\"\n",
    "\n",
    "read_map(raw_map)"
   ]
  },
  {
   "cell_type": "code",
   "execution_count": 3,
   "metadata": {},
   "outputs": [],
   "source": [
    "def vect(a, b):\n",
    "    \"\"\"Return the vector between a and b.\"\"\"\n",
    "    return Point(b.x - a.x, b.y - a.y)"
   ]
  },
  {
   "cell_type": "code",
   "execution_count": 4,
   "metadata": {},
   "outputs": [],
   "source": [
    "def are_aligned(a, b, c):\n",
    "    \"\"\"Return True is a, b and c are aligned.\"\"\"\n",
    "    vect_a_b = vect(a, b)\n",
    "    vect_a_c = vect(a, c)\n",
    "    \n",
    "    if vect_a_b.y == 0 or vect_a_c.y == 0:\n",
    "        return vect_a_b.y == vect_a_c.y\n",
    "    \n",
    "    return (vect_a_b.x / vect_a_b.y) == (vect_a_c.x / vect_a_c.y)"
   ]
  },
  {
   "cell_type": "code",
   "execution_count": 5,
   "metadata": {},
   "outputs": [
    {
     "data": {
      "text/plain": [
       "True"
      ]
     },
     "execution_count": 5,
     "metadata": {},
     "output_type": "execute_result"
    }
   ],
   "source": [
    "are_aligned(\n",
    "    Point(0,0),\n",
    "    Point(1,1),\n",
    "    Point(8,8),\n",
    ")"
   ]
  },
  {
   "cell_type": "code",
   "execution_count": 6,
   "metadata": {},
   "outputs": [
    {
     "data": {
      "text/plain": [
       "False"
      ]
     },
     "execution_count": 6,
     "metadata": {},
     "output_type": "execute_result"
    }
   ],
   "source": [
    "are_aligned(\n",
    "    Point(0,0),\n",
    "    Point(1,1),\n",
    "    Point(7,8),\n",
    ")"
   ]
  },
  {
   "cell_type": "code",
   "execution_count": 7,
   "metadata": {},
   "outputs": [
    {
     "data": {
      "text/plain": [
       "True"
      ]
     },
     "execution_count": 7,
     "metadata": {},
     "output_type": "execute_result"
    }
   ],
   "source": [
    "are_aligned(\n",
    "    Point(-1, -1),\n",
    "    Point(0, 1),\n",
    "    Point(1, 3)\n",
    ")"
   ]
  },
  {
   "cell_type": "code",
   "execution_count": 8,
   "metadata": {},
   "outputs": [
    {
     "data": {
      "text/plain": [
       "True"
      ]
     },
     "execution_count": 8,
     "metadata": {},
     "output_type": "execute_result"
    }
   ],
   "source": [
    "are_aligned(\n",
    "    Point(0, 0),\n",
    "    Point(1, 0),\n",
    "    Point(3, 0),\n",
    ")"
   ]
  },
  {
   "cell_type": "code",
   "execution_count": 9,
   "metadata": {},
   "outputs": [],
   "source": [
    "def distance(a, b):\n",
    "    \"\"\"Return a distance between two point a and b.\"\"\"\n",
    "    vect_a_b = vect(a, b)\n",
    "    return abs(vect_a_b.x) + abs(vect_a_b.y)"
   ]
  },
  {
   "cell_type": "code",
   "execution_count": 10,
   "metadata": {},
   "outputs": [
    {
     "data": {
      "text/plain": [
       "4"
      ]
     },
     "execution_count": 10,
     "metadata": {},
     "output_type": "execute_result"
    }
   ],
   "source": [
    "distance(\n",
    "    Point(-1, -1),\n",
    "    Point(1, 1)\n",
    ")"
   ]
  },
  {
   "cell_type": "code",
   "execution_count": 11,
   "metadata": {},
   "outputs": [],
   "source": [
    "def compute_seen(src, map_):\n",
    "    \"\"\"Return a map containing all the points in `maps_` seen from `src`.\"\"\"\n",
    "    seen = set()\n",
    "    for a in map_:\n",
    "        if a == src:\n",
    "            continue\n",
    "\n",
    "        for b in seen:\n",
    "            #print(a, b)\n",
    "            if are_aligned(src, a, b):\n",
    "                vect_src_a = vect(src, a)\n",
    "                vect_src_b = vect(src, b)\n",
    "                if vect_src_a.x * vect_src_b.x < 0 or vect_src_a.y * vect_src_b.y < 0:\n",
    "                    # there a each one on an opposed side of src\n",
    "                    continue\n",
    "\n",
    "                #print(\"aligned\")\n",
    "                # a or b must be hiding the other.\n",
    "                # If it's b hiding a, we do nothing, b is already seen.\n",
    "                # If it's the reverse, we must remove b and add a.\n",
    "                if distance(src, a) < distance(src, b):\n",
    "                    #print(\"pop\", b)\n",
    "                    seen.remove(b)\n",
    "                    seen.add(a)\n",
    "                    \n",
    "                break\n",
    "        else:\n",
    "            #print(\"add\", a)\n",
    "            seen.add(a)\n",
    "            \n",
    "    return seen"
   ]
  },
  {
   "cell_type": "code",
   "execution_count": 12,
   "metadata": {},
   "outputs": [
    {
     "data": {
      "text/plain": [
       "8"
      ]
     },
     "execution_count": 12,
     "metadata": {},
     "output_type": "execute_result"
    }
   ],
   "source": [
    "map_ = read_map(\"\"\"\n",
    ".#..#\n",
    ".....\n",
    "#####\n",
    "....#\n",
    "...##\n",
    "\"\"\")\n",
    "\n",
    "len(compute_seen(Point(3,4), map_))  # should be 8"
   ]
  },
  {
   "cell_type": "code",
   "execution_count": 13,
   "metadata": {},
   "outputs": [
    {
     "data": {
      "text/plain": [
       "33"
      ]
     },
     "execution_count": 13,
     "metadata": {},
     "output_type": "execute_result"
    }
   ],
   "source": [
    "map_ = read_map(\"\"\"\n",
    "......#.#.\n",
    "#..#.#....\n",
    "..#######.\n",
    ".#.#.###..\n",
    ".#..#.....\n",
    "..#....#.#\n",
    "#..#....#.\n",
    ".##.#..###\n",
    "##...#..#.\n",
    ".#....####\n",
    "\"\"\")\n",
    "\n",
    "len(compute_seen(Point(5, 8), map_))  # should 33"
   ]
  },
  {
   "cell_type": "code",
   "execution_count": 14,
   "metadata": {},
   "outputs": [
    {
     "data": {
      "text/plain": [
       "35"
      ]
     },
     "execution_count": 14,
     "metadata": {},
     "output_type": "execute_result"
    }
   ],
   "source": [
    "len(\n",
    "    compute_seen(\n",
    "        Point(1, 2),\n",
    "        read_map(\"\"\"\n",
    "#.#...#.#.\n",
    ".###....#.\n",
    ".#....#...\n",
    "##.#.#.#.#\n",
    "....#.#.#.\n",
    ".##..###.#\n",
    "..#...##..\n",
    "..##....##\n",
    "......#...\n",
    ".####.###.\n",
    "\"\"\"),\n",
    "    )\n",
    ")  # should be 35"
   ]
  },
  {
   "cell_type": "code",
   "execution_count": 15,
   "metadata": {},
   "outputs": [
    {
     "data": {
      "text/plain": [
       "41"
      ]
     },
     "execution_count": 15,
     "metadata": {},
     "output_type": "execute_result"
    }
   ],
   "source": [
    "len(\n",
    "    compute_seen(\n",
    "        Point(6, 3),\n",
    "        read_map(\"\"\"\n",
    ".#..#..###\n",
    "####.###.#\n",
    "....###.#.\n",
    "..###.##.#\n",
    "##.##.#.#.\n",
    "....###..#\n",
    "..#.#..#.#\n",
    "#..#.#.###\n",
    ".##...##.#\n",
    ".....#.#..\n",
    "\"\"\"),\n",
    "    )\n",
    ")  # should be 41"
   ]
  },
  {
   "cell_type": "code",
   "execution_count": 16,
   "metadata": {},
   "outputs": [
    {
     "data": {
      "text/plain": [
       "210"
      ]
     },
     "execution_count": 16,
     "metadata": {},
     "output_type": "execute_result"
    }
   ],
   "source": [
    "len(\n",
    "    compute_seen(\n",
    "        Point(11, 13),\n",
    "        read_map(\"\"\"\n",
    ".#..##.###...#######\n",
    "##.############..##.\n",
    ".#.######.########.#\n",
    ".###.#######.####.#.\n",
    "#####.##.#.##.###.##\n",
    "..#####..#.#########\n",
    "####################\n",
    "#.####....###.#.#.##\n",
    "##.#################\n",
    "#####.##.###..####..\n",
    "..######..##.#######\n",
    "####.##.####...##..#\n",
    ".#####..#.######.###\n",
    "##...#.##########...\n",
    "#.##########.#######\n",
    ".####.#.###.###.#.##\n",
    "....##.##.###..#####\n",
    ".#.#.###########.###\n",
    "#.#.#.#####.####.###\n",
    "###.##.####.##.#..##\n",
    "\"\"\")\n",
    "    )\n",
    ")  # should be 210"
   ]
  },
  {
   "cell_type": "code",
   "execution_count": 17,
   "metadata": {},
   "outputs": [
    {
     "name": "stdout",
     "output_type": "stream",
     "text": [
      "344 Point(x=30, y=34)\n",
      "CPU times: user 56 s, sys: 0 ns, total: 56 s\n",
      "Wall time: 56 s\n"
     ]
    }
   ],
   "source": [
    "%%time\n",
    "\n",
    "map_ = read_map(\"\"\"\n",
    "....#.....#.#...##..........#.......#......\n",
    ".....#...####..##...#......#.........#.....\n",
    ".#.#...#..........#.....#.##.......#...#..#\n",
    ".#..#...........#..#..#.#.......####.....#.\n",
    "##..#.................#...#..........##.##.\n",
    "#..##.#...#.....##.#..#...#..#..#....#....#\n",
    "##...#.............#.#..........#...#.....#\n",
    "#.#..##.#.#..#.#...#.....#.#.............#.\n",
    "...#..##....#........#.....................\n",
    "##....###..#.#.......#...#..........#..#..#\n",
    "....#.#....##...###......#......#...#......\n",
    ".........#.#.....#..#........#..#..##..#...\n",
    "....##...#..##...#.....##.#..#....#........\n",
    "............#....######......##......#...#.\n",
    "#...........##...#.#......#....#....#......\n",
    "......#.....#.#....#...##.###.....#...#.#..\n",
    "..#.....##..........#..........#...........\n",
    "..#.#..#......#......#.....#...##.......##.\n",
    ".#..#....##......#.............#...........\n",
    "..##.#.....#.........#....###.........#..#.\n",
    "...#....#...#.#.......#...#.#.....#........\n",
    "...####........#...#....#....#........##..#\n",
    ".#...........#.................#...#...#..#\n",
    "#................#......#..#...........#..#\n",
    "..#.#.......#...........#.#......#.........\n",
    "....#............#.............#.####.#.#..\n",
    ".....##....#..#...........###........#...#.\n",
    ".#.....#...#.#...#..#..........#..#.#......\n",
    ".#.##...#........#..#...##...#...#...#.#.#.\n",
    "#.......#...#...###..#....#..#...#.........\n",
    ".....#...##...#.###.#...##..........##.###.\n",
    "..#.....#.##..#.....#..#.....#....#....#..#\n",
    ".....#.....#..............####.#.........#.\n",
    "..#..#.#..#.....#..........#..#....#....#..\n",
    "#.....#.#......##.....#...#...#.......#.#..\n",
    "..##.##...........#..........#.............\n",
    "...#..##....#...##..##......#........#....#\n",
    ".....#..........##.#.##..#....##..#........\n",
    ".#...#...#......#..#.##.....#...#.....##...\n",
    "...##.#....#...........####.#....#.#....#..\n",
    "...#....#.#..#.........#.......#..#...##...\n",
    "...##..............#......#................\n",
    "........................#....##..#........#\n",
    "\"\"\")\n",
    "\n",
    "result = {point: len(compute_seen(point, map_)) for point in map_}\n",
    "\n",
    "max_seen = 0\n",
    "max_point = None\n",
    "for point in result:\n",
    "    if result[point] > max_seen:\n",
    "        max_seen = result[point]\n",
    "        max_point = point\n",
    "        \n",
    "print(max_seen, max_point)"
   ]
  },
  {
   "cell_type": "markdown",
   "metadata": {},
   "source": [
    "## Part two\n",
    "\n",
    "We need to count the 200th seen asteroid, starting up in front on the station, and counting clock wise."
   ]
  },
  {
   "cell_type": "code",
   "execution_count": 18,
   "metadata": {},
   "outputs": [],
   "source": [
    "from functools import partial\n",
    "from math import sqrt\n",
    "\n",
    "def find_200th(src, map_):\n",
    "    seen = compute_seen(src, map_)\n",
    "    \n",
    "    ne_seen = []\n",
    "    se_seen = []\n",
    "    sw_seen = []\n",
    "    nw_seen = []\n",
    "\n",
    "    for point in seen:\n",
    "        if point.x >= src.x and point.y <= src.y:\n",
    "            ne_seen.append(point)\n",
    "        elif point.x >= src.x and point.y > src.y:\n",
    "            se_seen.append(point)\n",
    "        elif point.x < src.x and point.y > src.y:\n",
    "            sw_seen.append(point)\n",
    "        else:\n",
    "            nw_seen.append(point)\n",
    "\n",
    "    def key(a):\n",
    "        # return cos(a)\n",
    "        vect_s_a = vect(src, a)\n",
    "        return (a.x - src.x) / sqrt(vect_s_a.x**2 + vect_s_a.y**2)\n",
    "    \n",
    "    clock_wise_sort = (\n",
    "        sorted(ne_seen, key=key)\n",
    "        + sorted(se_seen, key=key, reverse=True)\n",
    "        + sorted(sw_seen, key=key, reverse=True)\n",
    "        + sorted(nw_seen, key=key)\n",
    "    )\n",
    "    return clock_wise_sort[199]"
   ]
  },
  {
   "cell_type": "code",
   "execution_count": 19,
   "metadata": {},
   "outputs": [
    {
     "data": {
      "text/plain": [
       "Point(x=8, y=2)"
      ]
     },
     "execution_count": 19,
     "metadata": {},
     "output_type": "execute_result"
    }
   ],
   "source": [
    "find_200th(\n",
    "    Point(11, 13),\n",
    "    read_map(\"\"\"\n",
    ".#..##.###...#######\n",
    "##.############..##.\n",
    ".#.######.########.#\n",
    ".###.#######.####.#.\n",
    "#####.##.#.##.###.##\n",
    "..#####..#.#########\n",
    "####################\n",
    "#.####....###.#.#.##\n",
    "##.#################\n",
    "#####.##.###..####..\n",
    "..######..##.#######\n",
    "####.##.####...##..#\n",
    ".#####..#.######.###\n",
    "##...#.##########...\n",
    "#.##########.#######\n",
    ".####.#.###.###.#.##\n",
    "....##.##.###..#####\n",
    ".#.#.###########.###\n",
    "#.#.#.#####.####.###\n",
    "###.##.####.##.#..##\n",
    "\"\"\")\n",
    ")  # should return (8, 32)"
   ]
  },
  {
   "cell_type": "code",
   "execution_count": 20,
   "metadata": {},
   "outputs": [
    {
     "data": {
      "text/plain": [
       "Point(x=27, y=32)"
      ]
     },
     "execution_count": 20,
     "metadata": {},
     "output_type": "execute_result"
    }
   ],
   "source": [
    "find_200th(\n",
    "    Point(30, 34),\n",
    "    map_,\n",
    ")"
   ]
  }
 ],
 "metadata": {
  "kernelspec": {
   "display_name": "Python 3",
   "language": "python",
   "name": "python3"
  },
  "language_info": {
   "codemirror_mode": {
    "name": "ipython",
    "version": 3
   },
   "file_extension": ".py",
   "mimetype": "text/x-python",
   "name": "python",
   "nbconvert_exporter": "python",
   "pygments_lexer": "ipython3",
   "version": "3.6.7"
  }
 },
 "nbformat": 4,
 "nbformat_minor": 4
}
