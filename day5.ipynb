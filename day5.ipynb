{
 "cells": [
  {
   "cell_type": "markdown",
   "metadata": {},
   "source": [
    "# Day 5\n",
    "\n",
    "## Part 1\n",
    "\n",
    "We want to restore the Thermal Environment Supervision Terminal (Test)\n",
    "\n",
    "First we will need the code from day 2 to execute a program, with two more instructions:\n",
    "* opcode 3 read input and put it a the position given by its only parameter\n",
    "* opcode 4 write to output the value a the position given by its only parameter\n",
    "\n",
    "Secondly, parameter can have a mode :\n",
    "\n",
    "> Each parameter of an instruction is handled based on its parameter mode. Right now, your ship computer already understands parameter mode 0, position mode, which causes the parameter to be interpreted as a position - if the parameter is 50, its value is the value stored at address 50 in memory. Until now, all parameters have been in position mode.\n",
    "\n",
    "> Now, your ship computer will also need to handle parameters in mode 1, immediate mode. In immediate mode, a parameter is interpreted as a value - if the parameter is 50, its value is simply 50.\n",
    "\n",
    "> Parameter modes are stored in the same value as the instruction's opcode. The opcode is a two-digit number based only on the ones and tens digit of the value, that is, the opcode is the rightmost two digits of the first value in an instruction. Parameter modes are single digits, one per parameter, read right-to-left from the opcode: the first parameter's mode is in the hundreds digit, the second parameter's mode is in the thousands digit, the third parameter's mode is in the ten-thousands digit, and so on. Any missing modes are 0."
   ]
  },
  {
   "cell_type": "code",
   "execution_count": 1,
   "metadata": {},
   "outputs": [],
   "source": [
    "from collections import defaultdict\n",
    "\n",
    "\n",
    "def log(*args):\n",
    "    if DEBUG:\n",
    "        print(*args)\n",
    "\n",
    "\n",
    "def get_param_value(program, position, param, mode):\n",
    "    if mode == 0:  # position mode\n",
    "        return program[program[position + param]]\n",
    "    elif mode == 1:  # immediate mode\n",
    "        return program[position + param]\n",
    "    else:\n",
    "        raise ValueError(\"Unknown paremeter mode\")\n",
    "\n",
    "        \n",
    "def compute(program, read_input, write_output):\n",
    "    \"\"\"Compute the final state of a program, and return it.\n",
    "    \n",
    "    `program` is a list of int.\n",
    "    `read_input` is a method returning a value each time it is called.\n",
    "    `write_output` is a method taking a value as parameter.\n",
    "    \"\"\"\n",
    "    program = program.copy()\n",
    "    \n",
    "    # init state\n",
    "    p = 0\n",
    "    \n",
    "    # run program\n",
    "    while True:\n",
    "        # read instruction and split it into opcode and parameters mode\n",
    "        \n",
    "        try:\n",
    "            instruction = program[p]\n",
    "        except IndexError:\n",
    "            # end of program\n",
    "            break\n",
    "\n",
    "        parameters_mode = defaultdict(lambda: 0)\n",
    "        opcode = instruction % 100\n",
    "\n",
    "        value = instruction // 100\n",
    "        i = 1\n",
    "        while value > 0:\n",
    "            parameters_mode[i] = value % 10\n",
    "            value //= 10\n",
    "            i += 1\n",
    "            \n",
    "        log(p, '>', instruction, opcode, dict(parameters_mode))\n",
    "\n",
    "        # execute opcode\n",
    "        if opcode == 1:\n",
    "            x = get_param_value(program, p, 1, parameters_mode[1])\n",
    "            y = get_param_value(program, p, 2, parameters_mode[2])\n",
    "            result_pos = program[p + 3]\n",
    "\n",
    "            result = x + y\n",
    "            program[result_pos] = result\n",
    "            log(x, y, result_pos, result)\n",
    "\n",
    "            step = 4\n",
    "        elif opcode == 2:\n",
    "            x = get_param_value(program, p, 1, parameters_mode[1])\n",
    "            y = get_param_value(program, p, 2, parameters_mode[2])\n",
    "            result_pos = program[p + 3]\n",
    "            \n",
    "            result = x * y\n",
    "            program[result_pos] = result\n",
    "            log(x, y, result_pos, result)\n",
    "\n",
    "            step = 4\n",
    "        elif opcode == 3:\n",
    "            result_pos = program[p + 1]\n",
    "\n",
    "            value = read_input()\n",
    "            program[result_pos] = value\n",
    "            log(value, result_pos)\n",
    "\n",
    "            step = 2\n",
    "        elif opcode == 4:\n",
    "            value = get_param_value(program, p, 1, parameters_mode[1])\n",
    "            write_output(value)\n",
    "            log(value)\n",
    "            \n",
    "            step = 2\n",
    "        elif opcode == 99:\n",
    "            # end of program\n",
    "            break\n",
    "\n",
    "        p += step\n",
    "\n",
    "    return program"
   ]
  },
  {
   "cell_type": "markdown",
   "metadata": {},
   "source": [
    "### Test cases"
   ]
  },
  {
   "cell_type": "code",
   "execution_count": 2,
   "metadata": {},
   "outputs": [
    {
     "name": "stdout",
     "output_type": "stream",
     "text": [
      "0 > 3 3 {}\n",
      "42 0\n",
      "2 > 4 4 {}\n",
      "42\n",
      "4 > 99 99 {}\n"
     ]
    }
   ],
   "source": [
    "program = [3,0,4,0,99]\n",
    "\n",
    "result = None\n",
    "def read_input():\n",
    "    return 42\n",
    "\n",
    "def write_output(value):\n",
    "    global result\n",
    "    result = value\n",
    "    \n",
    "DEBUG = True\n",
    "compute(program, read_input, write_output)\n",
    "assert result == 42, result"
   ]
  },
  {
   "cell_type": "code",
   "execution_count": 3,
   "metadata": {},
   "outputs": [
    {
     "name": "stdout",
     "output_type": "stream",
     "text": [
      "0 > 1002 2 {1: 0, 2: 1}\n",
      "33 3 4 99\n",
      "4 > 99 99 {}\n"
     ]
    }
   ],
   "source": [
    "program = [1002,4,3,4,33]\n",
    "result = compute(program, read_input, write_output)"
   ]
  },
  {
   "cell_type": "markdown",
   "metadata": {},
   "source": [
    "It should do:\n",
    "* 02: multiplication\n",
    "  * 4 with mode 0 means take the value at pose 4: 33\n",
    "  * 3 with mode 1 means take 1\n",
    "  * `33 * 3 = 99`\n",
    "  * put it pos 4\n",
    "* move to pos 4\n",
    "* 99: stop"
   ]
  },
  {
   "cell_type": "code",
   "execution_count": 4,
   "metadata": {},
   "outputs": [
    {
     "data": {
      "text/plain": [
       "[1002, 4, 3, 4, 99]"
      ]
     },
     "execution_count": 4,
     "metadata": {},
     "output_type": "execute_result"
    }
   ],
   "source": [
    "result"
   ]
  },
  {
   "cell_type": "markdown",
   "metadata": {},
   "source": [
    "### Actual case"
   ]
  },
  {
   "cell_type": "code",
   "execution_count": 5,
   "metadata": {},
   "outputs": [],
   "source": [
    "input_value = \"3,225,1,225,6,6,1100,1,238,225,104,0,1102,67,92,225,1101,14,84,225,1002,217,69,224,101,-5175,224,224,4,224,102,8,223,223,101,2,224,224,1,224,223,223,1,214,95,224,101,-127,224,224,4,224,102,8,223,223,101,3,224,224,1,223,224,223,1101,8,41,225,2,17,91,224,1001,224,-518,224,4,224,1002,223,8,223,101,2,224,224,1,223,224,223,1101,37,27,225,1101,61,11,225,101,44,66,224,101,-85,224,224,4,224,1002,223,8,223,101,6,224,224,1,224,223,223,1102,7,32,224,101,-224,224,224,4,224,102,8,223,223,1001,224,6,224,1,224,223,223,1001,14,82,224,101,-174,224,224,4,224,102,8,223,223,101,7,224,224,1,223,224,223,102,65,210,224,101,-5525,224,224,4,224,102,8,223,223,101,3,224,224,1,224,223,223,1101,81,9,224,101,-90,224,224,4,224,102,8,223,223,1001,224,3,224,1,224,223,223,1101,71,85,225,1102,61,66,225,1102,75,53,225,4,223,99,0,0,0,677,0,0,0,0,0,0,0,0,0,0,0,1105,0,99999,1105,227,247,1105,1,99999,1005,227,99999,1005,0,256,1105,1,99999,1106,227,99999,1106,0,265,1105,1,99999,1006,0,99999,1006,227,274,1105,1,99999,1105,1,280,1105,1,99999,1,225,225,225,1101,294,0,0,105,1,0,1105,1,99999,1106,0,300,1105,1,99999,1,225,225,225,1101,314,0,0,106,0,0,1105,1,99999,8,226,226,224,102,2,223,223,1005,224,329,1001,223,1,223,1108,677,677,224,1002,223,2,223,1006,224,344,101,1,223,223,1007,226,677,224,102,2,223,223,1005,224,359,101,1,223,223,1007,677,677,224,1002,223,2,223,1006,224,374,101,1,223,223,1108,677,226,224,1002,223,2,223,1005,224,389,1001,223,1,223,108,226,677,224,102,2,223,223,1006,224,404,101,1,223,223,1108,226,677,224,102,2,223,223,1005,224,419,101,1,223,223,1008,677,677,224,102,2,223,223,1005,224,434,101,1,223,223,7,677,226,224,1002,223,2,223,1005,224,449,101,1,223,223,1008,226,226,224,102,2,223,223,1005,224,464,1001,223,1,223,107,226,677,224,1002,223,2,223,1006,224,479,1001,223,1,223,107,677,677,224,102,2,223,223,1005,224,494,1001,223,1,223,1008,226,677,224,102,2,223,223,1006,224,509,1001,223,1,223,1107,677,226,224,102,2,223,223,1005,224,524,101,1,223,223,1007,226,226,224,1002,223,2,223,1006,224,539,1001,223,1,223,107,226,226,224,102,2,223,223,1006,224,554,101,1,223,223,108,677,677,224,1002,223,2,223,1006,224,569,1001,223,1,223,7,226,677,224,102,2,223,223,1006,224,584,1001,223,1,223,8,677,226,224,102,2,223,223,1005,224,599,101,1,223,223,1107,677,677,224,1002,223,2,223,1005,224,614,101,1,223,223,8,226,677,224,102,2,223,223,1005,224,629,1001,223,1,223,7,226,226,224,1002,223,2,223,1006,224,644,1001,223,1,223,108,226,226,224,1002,223,2,223,1006,224,659,101,1,223,223,1107,226,677,224,1002,223,2,223,1006,224,674,101,1,223,223,4,223,99,226\"\n",
    "\n",
    "program = [int(x) for x in input_value.split(\",\")]"
   ]
  },
  {
   "cell_type": "code",
   "execution_count": 6,
   "metadata": {},
   "outputs": [
    {
     "data": {
      "text/plain": [
       "[0, 0, 0, 0, 0, 0, 0, 0, 0, 5074395]"
      ]
     },
     "execution_count": 6,
     "metadata": {},
     "output_type": "execute_result"
    }
   ],
   "source": [
    "DEBUG=False\n",
    "\n",
    "def read_input():\n",
    "    # Only one value should be read\n",
    "    return 1\n",
    "\n",
    "result = []\n",
    "def write_output(value):\n",
    "    global result\n",
    "    result.append(value)\n",
    "\n",
    "DEBUG = False\n",
    "compute(program, read_input, write_output)\n",
    "result"
   ]
  },
  {
   "cell_type": "markdown",
   "metadata": {},
   "source": [
    "## Part two\n",
    "\n",
    "We need to add several more instruction to our interperter: jump-if-true, jump-if-false, lt and eq."
   ]
  },
  {
   "cell_type": "code",
   "execution_count": 7,
   "metadata": {},
   "outputs": [],
   "source": [
    "from collections import defaultdict\n",
    "\n",
    "\n",
    "\n",
    "def log(*args):\n",
    "    if DEBUG:\n",
    "        print(*args)\n",
    "\n",
    "\n",
    "def get_param_value(program, position, param, mode):\n",
    "    if mode == 0:  # position mode\n",
    "        return program[program[position + param]]\n",
    "    elif mode == 1:  # immediate mode\n",
    "        return program[position + param]\n",
    "    else:\n",
    "        raise ValueError(\"Unknown paremeter mode\")\n",
    "\n",
    "        \n",
    "def compute(program, read_input, write_output):\n",
    "    \"\"\"Compute the final state of a program, and return it.\n",
    "    \n",
    "    `program` is a list of int.\n",
    "    `read_input` is a method returning a value each time it is called.\n",
    "    `write_output` is a method taking a value as parameter.\n",
    "    \"\"\"\n",
    "    program = program.copy()\n",
    "    \n",
    "    # init state\n",
    "    p = 0\n",
    "    \n",
    "    # run program\n",
    "    while True:\n",
    "        # read instruction and split it into opcode and parameters mode\n",
    "        \n",
    "        try:\n",
    "            instruction = program[p]\n",
    "        except IndexError:\n",
    "            # end of program\n",
    "            break\n",
    "\n",
    "        parameters_mode = defaultdict(lambda: 0)\n",
    "        opcode = instruction % 100\n",
    "\n",
    "        value = instruction // 100\n",
    "        i = 1\n",
    "        while value > 0:\n",
    "            parameters_mode[i] = value % 10\n",
    "            value //= 10\n",
    "            i += 1\n",
    "            \n",
    "        log(p, '>', instruction, opcode, dict(parameters_mode))\n",
    "\n",
    "        # execute opcode\n",
    "        if opcode == 1:\n",
    "            # add x y\n",
    "            x = get_param_value(program, p, 1, parameters_mode[1])\n",
    "            y = get_param_value(program, p, 2, parameters_mode[2])\n",
    "            result_pos = program[p + 3]\n",
    "\n",
    "            result = x + y\n",
    "            program[result_pos] = result\n",
    "            log(\"add\", x, y, result_pos, result)\n",
    "\n",
    "            step = 4\n",
    "        elif opcode == 2:\n",
    "            # mult x y\n",
    "            x = get_param_value(program, p, 1, parameters_mode[1])\n",
    "            y = get_param_value(program, p, 2, parameters_mode[2])\n",
    "            result_pos = program[p + 3]\n",
    "            \n",
    "            result = x * y\n",
    "            program[result_pos] = result\n",
    "            log(\"mult\", x, y, result_pos, result)\n",
    "\n",
    "            step = 4\n",
    "        elif opcode == 3:\n",
    "            # read x\n",
    "            result_pos = program[p + 1]\n",
    "\n",
    "            value = read_input()\n",
    "            program[result_pos] = value\n",
    "            log(\"read\", value, result_pos)\n",
    "\n",
    "            step = 2\n",
    "        elif opcode == 4:\n",
    "            # write x\n",
    "            value = get_param_value(program, p, 1, parameters_mode[1])\n",
    "            write_output(value)\n",
    "            log(\"write\", value)\n",
    "            \n",
    "            step = 2\n",
    "        elif opcode == 5:\n",
    "            # jump-if-true x y\n",
    "            value = get_param_value(program, p, 1, parameters_mode[1])\n",
    "            jump_pos = get_param_value(program, p, 2, parameters_mode[2])\n",
    "            \n",
    "            log(\"jump-if-true\", value, jump_pos)\n",
    "            \n",
    "            if value:\n",
    "                p = jump_pos\n",
    "                step = 0\n",
    "            else:\n",
    "                step = 3\n",
    "        elif opcode == 6:\n",
    "            # jump-if-false x y\n",
    "            value = get_param_value(program, p, 1, parameters_mode[1])\n",
    "            jump_pos = get_param_value(program, p, 2, parameters_mode[2])\n",
    "            \n",
    "            log(\"jump-if-false\", value, jump_pos)\n",
    "            \n",
    "            if not value:\n",
    "                p = jump_pos\n",
    "                step = 0\n",
    "            else:\n",
    "                step = 3\n",
    "        elif opcode == 7:\n",
    "            # lt x y z\n",
    "            x = get_param_value(program, p, 1, parameters_mode[1])\n",
    "            y = get_param_value(program, p, 2, parameters_mode[2])\n",
    "            result_pos = program[p + 3]\n",
    "            \n",
    "            log(\"lt\", x, y, result_pos)\n",
    "            \n",
    "            if x < y:\n",
    "                program[result_pos] = 1\n",
    "            else:\n",
    "                program[result_pos] = 0\n",
    "                \n",
    "            step = 4\n",
    "        elif opcode == 8:\n",
    "            # eq x y z\n",
    "            x = get_param_value(program, p, 1, parameters_mode[1])\n",
    "            y = get_param_value(program, p, 2, parameters_mode[2])\n",
    "            result_pos = program[p + 3]\n",
    "            \n",
    "            log(\"eq\", x, y, result_pos)\n",
    "            \n",
    "            if x == y:\n",
    "                program[result_pos] = 1\n",
    "            else:\n",
    "                program[result_pos] = 0\n",
    "                \n",
    "            step = 4\n",
    "        elif opcode == 99:\n",
    "            # end of program\n",
    "            log(\"stop\")\n",
    "            break\n",
    "        else:\n",
    "            # unknown instruction\n",
    "            log(\"unknown opcode\")\n",
    "            break\n",
    "\n",
    "        p += step\n",
    "\n",
    "    return program"
   ]
  },
  {
   "cell_type": "markdown",
   "metadata": {},
   "source": [
    "### Test cases"
   ]
  },
  {
   "cell_type": "markdown",
   "metadata": {},
   "source": [
    "Read input and output 1 or 0 if it is equal to 8."
   ]
  },
  {
   "cell_type": "code",
   "execution_count": 8,
   "metadata": {},
   "outputs": [
    {
     "name": "stdout",
     "output_type": "stream",
     "text": [
      "[0]\n",
      "[1]\n",
      "[0]\n"
     ]
    }
   ],
   "source": [
    "DEBUG = False\n",
    "program = [3,9,8,9,10,9,4,9,99,-1,8]\n",
    "\n",
    "result = []\n",
    "read_input = lambda: 1\n",
    "compute(program, read_input, write_output)\n",
    "print(result)\n",
    "\n",
    "result = []\n",
    "read_input = lambda: 8\n",
    "compute(program, read_input, write_output)\n",
    "print(result)\n",
    "\n",
    "result = []\n",
    "read_input = lambda: 10\n",
    "compute(program, read_input, write_output)\n",
    "print(result)"
   ]
  },
  {
   "cell_type": "markdown",
   "metadata": {},
   "source": [
    "Read the input and output 1 or 0 if it is less than 8"
   ]
  },
  {
   "cell_type": "code",
   "execution_count": 9,
   "metadata": {},
   "outputs": [
    {
     "name": "stdout",
     "output_type": "stream",
     "text": [
      "[1]\n",
      "[0]\n",
      "[0]\n"
     ]
    }
   ],
   "source": [
    "DEBUG=False\n",
    "program = [3,9,7,9,10,9,4,9,99,-1,8]\n",
    "\n",
    "result = []\n",
    "read_input = lambda: 1\n",
    "compute(program, read_input, write_output)\n",
    "print(result)\n",
    "\n",
    "result = []\n",
    "read_input = lambda: 8\n",
    "compute(program, read_input, write_output)\n",
    "print(result)\n",
    "\n",
    "result = []\n",
    "read_input = lambda: 10\n",
    "compute(program, read_input, write_output)\n",
    "print(result) "
   ]
  },
  {
   "cell_type": "markdown",
   "metadata": {},
   "source": [
    "Read the input and output 1 or 0 if it is equal to 8, with immediate mode."
   ]
  },
  {
   "cell_type": "code",
   "execution_count": 10,
   "metadata": {},
   "outputs": [
    {
     "name": "stdout",
     "output_type": "stream",
     "text": [
      "[0]\n",
      "[1]\n",
      "[0]\n"
     ]
    }
   ],
   "source": [
    "DEBUG=False\n",
    "program = [3,3,1108,-1,8,3,4,3,99]\n",
    "\n",
    "result = []\n",
    "read_input = lambda: 1\n",
    "compute(program, read_input, write_output)\n",
    "print(result)\n",
    "\n",
    "result = []\n",
    "read_input = lambda: 8\n",
    "program = compute(program, read_input, write_output)\n",
    "print(result)\n",
    "\n",
    "result = []\n",
    "read_input = lambda: 10\n",
    "compute(program, read_input, write_output)\n",
    "print(result)"
   ]
  },
  {
   "cell_type": "markdown",
   "metadata": {},
   "source": [
    "Read the input and output 1 or 0 if it is less than 8, with immediate mode."
   ]
  },
  {
   "cell_type": "code",
   "execution_count": 11,
   "metadata": {},
   "outputs": [
    {
     "name": "stdout",
     "output_type": "stream",
     "text": [
      "[1]\n",
      "[0]\n",
      "[0]\n"
     ]
    }
   ],
   "source": [
    "DEBUG=False\n",
    "program = [3,3,1107,-1,8,3,4,3,99]\n",
    "\n",
    "result = []\n",
    "read_input = lambda: 1\n",
    "compute(program, read_input, write_output)\n",
    "print(result)\n",
    "\n",
    "result = []\n",
    "read_input = lambda: 8\n",
    "program = compute(program, read_input, write_output)\n",
    "print(result)\n",
    "\n",
    "result = []\n",
    "read_input = lambda: 10\n",
    "compute(program, read_input, write_output)\n",
    "print(result)"
   ]
  },
  {
   "cell_type": "markdown",
   "metadata": {},
   "source": [
    "Take an input, then output 0 if the input was zero or 1 if the input was non-zero."
   ]
  },
  {
   "cell_type": "code",
   "execution_count": 12,
   "metadata": {},
   "outputs": [
    {
     "name": "stdout",
     "output_type": "stream",
     "text": [
      "[0]\n",
      "[1]\n",
      "[0]\n",
      "[1]\n"
     ]
    }
   ],
   "source": [
    "DEBUG = False\n",
    "\n",
    "# position mode\n",
    "\n",
    "program = [3,12,6,12,15,1,13,14,13,4,13,99,-1,0,1,9]\n",
    "\n",
    "result = []\n",
    "read_input = lambda: 0\n",
    "compute(program, read_input, write_output)\n",
    "print(result)\n",
    "\n",
    "result = []\n",
    "read_input = lambda: 3\n",
    "compute(program, read_input, write_output)\n",
    "print(result)\n",
    "\n",
    "# immediate mode\n",
    "\n",
    "program = [3,3,1105,-1,9,1101,0,0,12,4,12,99,1]\n",
    "\n",
    "result = []\n",
    "read_input = lambda: 0\n",
    "compute(program, read_input, write_output)\n",
    "print(result)\n",
    "\n",
    "result = []\n",
    "read_input = lambda: 3\n",
    "compute(program, read_input, write_output)\n",
    "print(result)"
   ]
  },
  {
   "cell_type": "markdown",
   "metadata": {},
   "source": [
    "The program uses an input instruction to ask for a single number. The program will then output 999 if the input value is below 8, output 1000 if the input value is equal to 8, or output 1001 if the input value is greater than 8."
   ]
  },
  {
   "cell_type": "code",
   "execution_count": 13,
   "metadata": {},
   "outputs": [
    {
     "name": "stdout",
     "output_type": "stream",
     "text": [
      "[999]\n",
      "[1000]\n",
      "[1001]\n"
     ]
    }
   ],
   "source": [
    "DEBUG = False\n",
    "\n",
    "# position mode\n",
    "\n",
    "program = [\n",
    "    3,21,1008,21,8,20,1005,20,22,107,8,21,20,1006,20,31,\n",
    "    1106,0,36,98,0,0,1002,21,125,20,4,20,1105,1,46,104,\n",
    "    999,1105,1,46,1101,1000,1,20,4,20,1105,1,46,98,99\n",
    "]\n",
    "\n",
    "result = []\n",
    "read_input = lambda: 0\n",
    "compute(program, read_input, write_output)\n",
    "print(result)\n",
    "\n",
    "result = []\n",
    "read_input = lambda: 8\n",
    "compute(program, read_input, write_output)\n",
    "print(result)\n",
    "\n",
    "result = []\n",
    "read_input = lambda: 12\n",
    "compute(program, read_input, write_output)\n",
    "print(result)"
   ]
  },
  {
   "cell_type": "markdown",
   "metadata": {},
   "source": [
    "### Actual case"
   ]
  },
  {
   "cell_type": "code",
   "execution_count": 14,
   "metadata": {},
   "outputs": [
    {
     "data": {
      "text/plain": [
       "[8346937]"
      ]
     },
     "execution_count": 14,
     "metadata": {},
     "output_type": "execute_result"
    }
   ],
   "source": [
    "program = [3,225,1,225,6,6,1100,1,238,225,104,0,1102,67,92,225,1101,14,84,225,1002,217,69,224,101,-5175,224,224,4,224,102,8,223,223,101,2,224,224,1,224,223,223,1,214,95,224,101,-127,224,224,4,224,102,8,223,223,101,3,224,224,1,223,224,223,1101,8,41,225,2,17,91,224,1001,224,-518,224,4,224,1002,223,8,223,101,2,224,224,1,223,224,223,1101,37,27,225,1101,61,11,225,101,44,66,224,101,-85,224,224,4,224,1002,223,8,223,101,6,224,224,1,224,223,223,1102,7,32,224,101,-224,224,224,4,224,102,8,223,223,1001,224,6,224,1,224,223,223,1001,14,82,224,101,-174,224,224,4,224,102,8,223,223,101,7,224,224,1,223,224,223,102,65,210,224,101,-5525,224,224,4,224,102,8,223,223,101,3,224,224,1,224,223,223,1101,81,9,224,101,-90,224,224,4,224,102,8,223,223,1001,224,3,224,1,224,223,223,1101,71,85,225,1102,61,66,225,1102,75,53,225,4,223,99,0,0,0,677,0,0,0,0,0,0,0,0,0,0,0,1105,0,99999,1105,227,247,1105,1,99999,1005,227,99999,1005,0,256,1105,1,99999,1106,227,99999,1106,0,265,1105,1,99999,1006,0,99999,1006,227,274,1105,1,99999,1105,1,280,1105,1,99999,1,225,225,225,1101,294,0,0,105,1,0,1105,1,99999,1106,0,300,1105,1,99999,1,225,225,225,1101,314,0,0,106,0,0,1105,1,99999,8,226,226,224,102,2,223,223,1005,224,329,1001,223,1,223,1108,677,677,224,1002,223,2,223,1006,224,344,101,1,223,223,1007,226,677,224,102,2,223,223,1005,224,359,101,1,223,223,1007,677,677,224,1002,223,2,223,1006,224,374,101,1,223,223,1108,677,226,224,1002,223,2,223,1005,224,389,1001,223,1,223,108,226,677,224,102,2,223,223,1006,224,404,101,1,223,223,1108,226,677,224,102,2,223,223,1005,224,419,101,1,223,223,1008,677,677,224,102,2,223,223,1005,224,434,101,1,223,223,7,677,226,224,1002,223,2,223,1005,224,449,101,1,223,223,1008,226,226,224,102,2,223,223,1005,224,464,1001,223,1,223,107,226,677,224,1002,223,2,223,1006,224,479,1001,223,1,223,107,677,677,224,102,2,223,223,1005,224,494,1001,223,1,223,1008,226,677,224,102,2,223,223,1006,224,509,1001,223,1,223,1107,677,226,224,102,2,223,223,1005,224,524,101,1,223,223,1007,226,226,224,1002,223,2,223,1006,224,539,1001,223,1,223,107,226,226,224,102,2,223,223,1006,224,554,101,1,223,223,108,677,677,224,1002,223,2,223,1006,224,569,1001,223,1,223,7,226,677,224,102,2,223,223,1006,224,584,1001,223,1,223,8,677,226,224,102,2,223,223,1005,224,599,101,1,223,223,1107,677,677,224,1002,223,2,223,1005,224,614,101,1,223,223,8,226,677,224,102,2,223,223,1005,224,629,1001,223,1,223,7,226,226,224,1002,223,2,223,1006,224,644,1001,223,1,223,108,226,226,224,1002,223,2,223,1006,224,659,101,1,223,223,1107,226,677,224,1002,223,2,223,1006,224,674,101,1,223,223,4,223,99,226]\n",
    "\n",
    "DEBUG=False\n",
    "result = []\n",
    "read_input = lambda: 5\n",
    "compute(program, read_input, write_output)\n",
    "result"
   ]
  }
 ],
 "metadata": {
  "kernelspec": {
   "display_name": "Python 3",
   "language": "python",
   "name": "python3"
  },
  "language_info": {
   "codemirror_mode": {
    "name": "ipython",
    "version": 3
   },
   "file_extension": ".py",
   "mimetype": "text/x-python",
   "name": "python",
   "nbconvert_exporter": "python",
   "pygments_lexer": "ipython3",
   "version": "3.6.7"
  }
 },
 "nbformat": 4,
 "nbformat_minor": 4
}
