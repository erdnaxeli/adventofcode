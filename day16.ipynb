{
 "cells": [
  {
   "cell_type": "markdown",
   "metadata": {},
   "source": [
    "# Day 16\n",
    "\n",
    "## Part 1\n",
    "\n",
    "We want to apply the FFT algorithm (Flawed Frequency Transmission) to a given signal.\n",
    "\n",
    "It works by phases.\n",
    "In each phase you apply some comuutation to the signal, then the new signal becomes the input for the next phase.\n",
    "\n",
    "In a phase, given the signal `s` which is an ordered list of int, the computation is:\n",
    "```\n",
    "s[n] = abs[sum(s[i] * p[i] for i in range(len(s))) % 10\n",
    "```\n",
    "\n",
    "`p` is a pattern evolving like this:\n",
    "* when calculating `s[0]`, the pattern is `[1, 0, -1]`\n",
    "* when calcuting `s[1]`, the pattern is `[0, 1, 1, 0, 0, -1, -1]`\n",
    "* when calcuting `s[2]`, the pattern is `[0, 0, 1, 1, 1, 0, 0, 0, -1, -1, -1]`\n",
    "* and so on\n",
    "\n",
    "If the pattern is shorter than the signal, it reapeats."
   ]
  },
  {
   "cell_type": "code",
   "execution_count": 1,
   "metadata": {},
   "outputs": [],
   "source": [
    "from itertools import cycle, repeat\n",
    "\n",
    "def _get_pattern(position):\n",
    "    pattern = cycle([0, 1, 0, -1])\n",
    "    \n",
    "    for v in pattern:\n",
    "        yield from repeat(v, position + 1)\n",
    "            \n",
    "def get_pattern(position):\n",
    "    iterator = _get_pattern(position)\n",
    "    # skip first\n",
    "    next(iterator)\n",
    "    return iterator"
   ]
  },
  {
   "cell_type": "code",
   "execution_count": 2,
   "metadata": {},
   "outputs": [
    {
     "data": {
      "text/plain": [
       "[1, 0, -1, 0, 1, 0, -1, 0, 1, 0, -1, 0, 1, 0, -1, 0, 1, 0, -1, 0]"
      ]
     },
     "execution_count": 2,
     "metadata": {},
     "output_type": "execute_result"
    }
   ],
   "source": [
    "from itertools import islice\n",
    "\n",
    "list(islice(get_pattern(0), 0, 20))"
   ]
  },
  {
   "cell_type": "code",
   "execution_count": 3,
   "metadata": {},
   "outputs": [
    {
     "data": {
      "text/plain": [
       "[0, 1, 1, 0, 0, -1, -1, 0, 0, 1, 1, 0, 0, -1, -1, 0, 0, 1, 1, 0]"
      ]
     },
     "execution_count": 3,
     "metadata": {},
     "output_type": "execute_result"
    }
   ],
   "source": [
    "list(islice(get_pattern(1), 0, 20))"
   ]
  },
  {
   "cell_type": "code",
   "execution_count": 4,
   "metadata": {},
   "outputs": [
    {
     "data": {
      "text/plain": [
       "[0, 0, 0, 0, 1, 1, 1, 1, 1, 0, 0, 0, 0, 0, -1, -1, -1, -1, -1, 0]"
      ]
     },
     "execution_count": 4,
     "metadata": {},
     "output_type": "execute_result"
    }
   ],
   "source": [
    "list(islice(get_pattern(4), 0, 20))"
   ]
  },
  {
   "cell_type": "code",
   "execution_count": 5,
   "metadata": {},
   "outputs": [],
   "source": [
    "def apply_phase(signal):\n",
    "    new_signal = []\n",
    "    for i in range(len(signal)):\n",
    "        new_signal.append(abs(sum(s*p for s, p in zip(signal, get_pattern(i)))) % 10)\n",
    "        \n",
    "    return new_signal"
   ]
  },
  {
   "cell_type": "code",
   "execution_count": 6,
   "metadata": {},
   "outputs": [
    {
     "data": {
      "text/plain": [
       "[4, 8, 2, 2, 6, 1, 5, 8]"
      ]
     },
     "execution_count": 6,
     "metadata": {},
     "output_type": "execute_result"
    }
   ],
   "source": [
    "apply_phase([1,2,3,4,5,6,7,8])"
   ]
  },
  {
   "cell_type": "code",
   "execution_count": 7,
   "metadata": {},
   "outputs": [
    {
     "data": {
      "text/plain": [
       "[3, 4, 0, 4, 0, 4, 3, 8]"
      ]
     },
     "execution_count": 7,
     "metadata": {},
     "output_type": "execute_result"
    }
   ],
   "source": [
    "apply_phase([4, 8, 2, 2, 6, 1, 5, 8])"
   ]
  },
  {
   "cell_type": "code",
   "execution_count": 8,
   "metadata": {},
   "outputs": [
    {
     "data": {
      "text/plain": [
       "[0, 3, 4, 1, 5, 5, 1, 8]"
      ]
     },
     "execution_count": 8,
     "metadata": {},
     "output_type": "execute_result"
    }
   ],
   "source": [
    "apply_phase([3, 4, 0, 4, 0, 4, 3, 8])"
   ]
  },
  {
   "cell_type": "code",
   "execution_count": 9,
   "metadata": {},
   "outputs": [
    {
     "data": {
      "text/plain": [
       "[0, 1, 0, 2, 9, 4, 9, 8]"
      ]
     },
     "execution_count": 9,
     "metadata": {},
     "output_type": "execute_result"
    }
   ],
   "source": [
    "apply_phase([0, 3, 4, 1, 5, 5, 1, 8])"
   ]
  },
  {
   "cell_type": "code",
   "execution_count": 10,
   "metadata": {},
   "outputs": [
    {
     "data": {
      "text/plain": [
       "[2, 4, 1, 7, 6, 1, 7, 6]"
      ]
     },
     "execution_count": 10,
     "metadata": {},
     "output_type": "execute_result"
    }
   ],
   "source": [
    "signal = [8,0,8,7,1,2,2,4,5,8,5,9,1,4,5,4,6,6,1,9,0,8,3,2,1,8,6,4,5,5,9,5]\n",
    "for _ in range(100):\n",
    "    signal = apply_phase(signal)\n",
    "\n",
    "signal[:8]"
   ]
  },
  {
   "cell_type": "code",
   "execution_count": 11,
   "metadata": {},
   "outputs": [
    {
     "name": "stdout",
     "output_type": "stream",
     "text": [
      "CPU times: user 3.12 s, sys: 0 ns, total: 3.12 s\n",
      "Wall time: 3.12 s\n"
     ]
    },
    {
     "data": {
      "text/plain": [
       "[6, 9, 5, 4, 9, 1, 5, 5]"
      ]
     },
     "execution_count": 11,
     "metadata": {},
     "output_type": "execute_result"
    }
   ],
   "source": [
    "%%time\n",
    "\n",
    "signal = list(\n",
    "    int(i) for i in\n",
    "    \"59756772370948995765943195844952640015210703313486295362653878290009098923609769261473534009395188480864325959786470084762607666312503091505466258796062230652769633818282653497853018108281567627899722548602257463608530331299936274116326038606007040084159138769832784921878333830514041948066594667152593945159170816779820264758715101494739244533095696039336070510975612190417391067896410262310835830006544632083421447385542256916141256383813360662952845638955872442636455511906111157861890394133454959320174572270568292972621253460895625862616228998147301670850340831993043617316938748361984714845874270986989103792418940945322846146634931990046966552\"\n",
    ")\n",
    "for _ in range(100):\n",
    "    signal = apply_phase(signal)\n",
    "    \n",
    "signal[:8]"
   ]
  },
  {
   "cell_type": "markdown",
   "metadata": {},
   "source": [
    "## Part 2\n",
    "\n",
    "This time we take our previous signal but duplicates it 10000 times!\n",
    "\n",
    "We need to read the 8 digits after 100 phases, and after an offset defined by the number constructed with the 7 first digits.\n",
    "\n",
    "Our previous attempt isn't fast enough, we need something better.\n",
    "We can notice the pattern actually tells us which number to add (+1) and which to substract (-1).\n",
    "The pattern grows like this:\n",
    "* `[1, 0, -1]`: add from 0 to 1 (excluded), substract from 2 to 3 (excluded)\n",
    "* `[0, 1, 1, 0, 0, -1, -1]`: add from 1 to 3, substract from 5 to 7\n",
    "* `[0, 0, 1, 1, 1, 0, 0, 0, -1, -1, -1]`: add from 2 to 5, substract from 8 to 11"
   ]
  },
  {
   "cell_type": "code",
   "execution_count": 12,
   "metadata": {},
   "outputs": [],
   "source": [
    "def apply_phase(signal, count):\n",
    "    new_signal = signal.copy()\n",
    "    signal_len = len(signal)\n",
    "    \n",
    "    for _ in range(count):\n",
    "        # We can resume the pattern to the position where 1 and -1 start and end.\n",
    "        # The pattern length is equal to minus_end.\n",
    "        sum_start = 0\n",
    "        sum_end = 1\n",
    "        minus_start = 2\n",
    "        minus_end = 3\n",
    "        \n",
    "        for i in range(signal_len):\n",
    "            jumps = (signal_len - 1) // minus_end\n",
    "            value = 0\n",
    "            for j in range(jumps + 1):\n",
    "                #print(sum_start + minus_end * j, sum_end + minus_end * j)\n",
    "                value += sum(new_signal[sum_start + minus_end * j:sum_end + minus_end * j]) - sum(new_signal[minus_start + minus_end * j:minus_end * (j+1)])\n",
    "                \n",
    "            new_signal[i] = abs(value) % 10\n",
    "        \n",
    "            sum_start += 1\n",
    "            sum_end += 2\n",
    "            minus_start += 3\n",
    "            minus_end += 4\n",
    "        \n",
    "    return new_signal"
   ]
  },
  {
   "cell_type": "code",
   "execution_count": 13,
   "metadata": {},
   "outputs": [
    {
     "name": "stdout",
     "output_type": "stream",
     "text": [
      "CPU times: user 238 ms, sys: 36 µs, total: 238 ms\n",
      "Wall time: 237 ms\n"
     ]
    },
    {
     "data": {
      "text/plain": [
       "[9, 1, 3, 6, 2, 5, 1, 8]"
      ]
     },
     "execution_count": 13,
     "metadata": {},
     "output_type": "execute_result"
    }
   ],
   "source": [
    "%%time\n",
    "\n",
    "signal = list(\n",
    "    int(i) for i in\n",
    "    \"59756772370948995765943195844952640015210703313486295362653878290009098923609769261473534009395188480864325959786470084762607666312503091505466258796062230652769633818282653497853018108281567627899722548602257463608530331299936274116326038606007040084159138769832784921878333830514041948066594667152593945159170816779820264758715101494739244533095696039336070510975612190417391067896410262310835830006544632083421447385542256916141256383813360662952845638955872442636455511906111157861890394133454959320174572270568292972621253460895625862616228998147301670850340831993043617316938748361984714845874270986989103792418940945322846146634931990046966552\"\n",
    ")\n",
    "\n",
    "signal = apply_phase(signal, 100)\n",
    "    \n",
    "signal[:8]"
   ]
  },
  {
   "cell_type": "markdown",
   "metadata": {},
   "source": [
    "Besides being false, 230ms is still not enough.\n",
    "\n",
    "We can use another way:\n",
    "* at position `n`, the pattern values from `0` to `n-1` are equal to zero, so we can ignore those value\n",
    "* if the offset is more than half the signal length, all the values we will use after the zeroes are ones, which means `s[p, n] = sum(s[p - 1, n:])` (where `p`is the phase and `n` the position in the signal)\n",
    "* if we combine both previous points, we got `s[p, n] = s[p - 1, n] + sum(s[p - 1, n + 1:]`, therefore `s[p, n] = s[p - 1, n] + s[p, n + 1]`"
   ]
  },
  {
   "cell_type": "code",
   "execution_count": 14,
   "metadata": {},
   "outputs": [],
   "source": [
    "def apply_phases_offset(signal, offset, phases=100):\n",
    "    \"\"\"We assume the offset is at least half the signal length.\"\"\"\n",
    "\n",
    "    for phase in range(phases):\n",
    "        for i in range(len(signal) - 1, offset - 1, -1):\n",
    "            if i == len(signal) - 1:\n",
    "                continue\n",
    "            signal[i] = abs(signal[i] + signal[i+1]) % 10\n",
    "            \n",
    "    return signal"
   ]
  },
  {
   "cell_type": "code",
   "execution_count": 15,
   "metadata": {},
   "outputs": [
    {
     "name": "stdout",
     "output_type": "stream",
     "text": [
      "CPU times: user 423 ms, sys: 0 ns, total: 423 ms\n",
      "Wall time: 422 ms\n"
     ]
    },
    {
     "data": {
      "text/plain": [
       "[8, 4, 4, 6, 2, 0, 2, 6]"
      ]
     },
     "execution_count": 15,
     "metadata": {},
     "output_type": "execute_result"
    }
   ],
   "source": [
    "%%time\n",
    "\n",
    "signal = [int(x) for x in \"03036732577212944063491565474664\" * 10000]\n",
    "offset = 303673\n",
    "signal = apply_phases_offset(signal, offset, phases=100)\n",
    "signal[offset:offset + 8]  # 84462026"
   ]
  },
  {
   "cell_type": "markdown",
   "metadata": {},
   "source": [
    "420ms! It looks great!"
   ]
  },
  {
   "cell_type": "code",
   "execution_count": 16,
   "metadata": {},
   "outputs": [
    {
     "name": "stdout",
     "output_type": "stream",
     "text": [
      "CPU times: user 653 ms, sys: 3.95 ms, total: 657 ms\n",
      "Wall time: 656 ms\n"
     ]
    },
    {
     "data": {
      "text/plain": [
       "[7, 8, 7, 2, 5, 2, 7, 0]"
      ]
     },
     "execution_count": 16,
     "metadata": {},
     "output_type": "execute_result"
    }
   ],
   "source": [
    "%%time\n",
    "\n",
    "signal = [int(x) for x in \"02935109699940807407585447034323\" * 10000]\n",
    "offset = 293510\n",
    "apply_phases_offset(signal, offset)[offset:offset + 8]  # 78725270"
   ]
  },
  {
   "cell_type": "code",
   "execution_count": 17,
   "metadata": {},
   "outputs": [
    {
     "name": "stdout",
     "output_type": "stream",
     "text": [
      "CPU times: user 13.1 s, sys: 12 ms, total: 13.1 s\n",
      "Wall time: 13.1 s\n"
     ]
    },
    {
     "data": {
      "text/plain": [
       "[8, 3, 2, 5, 3, 4, 6, 5]"
      ]
     },
     "execution_count": 17,
     "metadata": {},
     "output_type": "execute_result"
    }
   ],
   "source": [
    "%%time\n",
    "\n",
    "signal = [\n",
    "    int(x) for x in\n",
    "    \"59756772370948995765943195844952640015210703313486295362653878290009098923609769261473534009395188480864325959786470084762607666312503091505466258796062230652769633818282653497853018108281567627899722548602257463608530331299936274116326038606007040084159138769832784921878333830514041948066594667152593945159170816779820264758715101494739244533095696039336070510975612190417391067896410262310835830006544632083421447385542256916141256383813360662952845638955872442636455511906111157861890394133454959320174572270568292972621253460895625862616228998147301670850340831993043617316938748361984714845874270986989103792418940945322846146634931990046966552\"\n",
    "    * 10000\n",
    "]\n",
    "offset = 5975677\n",
    "apply_phases_offset(signal, offset)[offset:offset + 8]"
   ]
  }
 ],
 "metadata": {
  "kernelspec": {
   "display_name": "Python 3",
   "language": "python",
   "name": "python3"
  },
  "language_info": {
   "codemirror_mode": {
    "name": "ipython",
    "version": 3
   },
   "file_extension": ".py",
   "mimetype": "text/x-python",
   "name": "python",
   "nbconvert_exporter": "python",
   "pygments_lexer": "ipython3",
   "version": "3.7.3"
  }
 },
 "nbformat": 4,
 "nbformat_minor": 4
}
