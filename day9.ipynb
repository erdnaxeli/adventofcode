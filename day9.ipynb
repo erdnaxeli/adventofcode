{
 "cells": [
  {
   "cell_type": "markdown",
   "metadata": {},
   "source": [
    "# Day 9\n",
    "\n",
    "## Part 1\n",
    "\n",
    "We need to edit our Intcode interpreter to support a new parameter mode called \"relative\".\n",
    "\n",
    "> Parameters in mode 2, relative mode, behave very similarly to parameters in position mode: the parameter is interpreted as a position. Like position mode, parameters in relative mode can be read from or written to.\n",
    ">\n",
    "> The important difference is that relative mode parameters don't count from address 0. Instead, they count from a value called the relative base. The relative base starts at 0.\n",
    ">\n",
    "> The address a relative mode parameter refers to is itself plus the current relative base. When the relative base is 0, relative mode parameters and position mode parameters with the same value refer to the same address.\n",
    "\n",
    "Moreover, the interperter should be able to write in memory *after* the program, and to support large number (which comes for free in python)."
   ]
  },
  {
   "cell_type": "code",
   "execution_count": 1,
   "metadata": {},
   "outputs": [],
   "source": [
    "%autoawait trio"
   ]
  },
  {
   "cell_type": "code",
   "execution_count": 2,
   "metadata": {},
   "outputs": [],
   "source": [
    "from collections import defaultdict\n",
    "\n",
    "import trio\n",
    "\n",
    "\n",
    "class Computer:\n",
    "    def __init__(self, program):\n",
    "        self.position = 0\n",
    "        self.relative_base = 0\n",
    "        self.parameters_mode = None\n",
    "        self.program = program.copy()\n",
    "\n",
    "    def set_input_output(self, buffer_max=10):\n",
    "        input_write, input_read = trio.open_memory_channel(buffer_max)\n",
    "        output_write, output_read = trio.open_memory_channel(buffer_max)\n",
    "        \n",
    "        self.input, self.output = input_read, output_write\n",
    "        \n",
    "        return input_write, output_read\n",
    "        \n",
    "    @staticmethod\n",
    "    def log(*args):\n",
    "        if False:\n",
    "            print(*args)\n",
    "\n",
    "    def get_param_value(self, param):\n",
    "        param_address = self.get_param_address(param)\n",
    "        \n",
    "        try:\n",
    "            value = self.program[param_address]\n",
    "        except IndexError:\n",
    "            self.extend(param_address)\n",
    "            value = self.program[param_address]\n",
    "            \n",
    "        return value\n",
    "\n",
    "    def get_param_address(self, param):\n",
    "        mode = self.parameters_mode[param]\n",
    "\n",
    "        if mode == 0:  # position mode\n",
    "            return self.program[self.position + param]\n",
    "        elif mode == 1:  # immediate mode\n",
    "            return self.position + param\n",
    "        elif mode == 2:  # relative mode:\n",
    "            param_position = self.position + param\n",
    "            return self.relative_base + self.program[param_position]\n",
    "        else:\n",
    "            raise ValueError(\"Unknown paremeter mode\")\n",
    "\n",
    "    def read_instruction(self):\n",
    "        # read instruction and split it into opcode and parameters mode\n",
    "        try:\n",
    "            instruction = self.program[self.position]\n",
    "        except IndexError:\n",
    "            # end of program\n",
    "            return None\n",
    "\n",
    "        opcode = instruction % 100\n",
    "        self.parameters_mode = defaultdict(lambda: 0)\n",
    "\n",
    "        value = instruction // 100\n",
    "        i = 1\n",
    "        while value > 0:\n",
    "            self.parameters_mode[i] = value % 10\n",
    "            value //= 10\n",
    "            i += 1\n",
    "\n",
    "        self.log(self.position, '>', instruction, opcode, dict(self.parameters_mode))\n",
    "        return opcode\n",
    "    \n",
    "    def write(self, address, value):\n",
    "        try:\n",
    "            self.program[address] = value\n",
    "        except IndexError:\n",
    "            self.extend(address)\n",
    "            self.program[address] = value\n",
    "            \n",
    "    def extend(self, address):\n",
    "        self.program.extend([0] * (1 + address - len(self.program)))\n",
    "\n",
    "    async def compute_close(self):\n",
    "        \"\"\"Run the programm, but close the output when terminated.\"\"\"\n",
    "        async with self.output:\n",
    "            await self.compute()\n",
    "            \n",
    "        \n",
    "    async def compute(self):\n",
    "        \"\"\"Compute the final state of a program, and return it.\n",
    "\n",
    "        `program` is a list of int.\n",
    "        `read_input` is a method returning a value each time it is called.\n",
    "        `write_output` is a method taking a value as parameter.\n",
    "        \"\"\"\n",
    "        # init state\n",
    "        self.position = 0\n",
    "\n",
    "        # run program\n",
    "        while True:\n",
    "            opcode = self.read_instruction()\n",
    "            if opcode is None:\n",
    "                # end of program\n",
    "                log(\"Stop: EOF\")\n",
    "                return\n",
    "\n",
    "            # execute opcode\n",
    "            if opcode == 1:\n",
    "                # add x y\n",
    "                x = self.get_param_value(1)\n",
    "                y = self.get_param_value(2)\n",
    "                result_addr = self.get_param_address(3)\n",
    "\n",
    "                result = x + y\n",
    "                self.write(result_addr, result)\n",
    "                self.log(\"add\", x, y, result_addr, result)\n",
    "\n",
    "                step = 4\n",
    "            elif opcode == 2:\n",
    "                # mult x y\n",
    "                x = self.get_param_value(1)\n",
    "                y = self.get_param_value(2)\n",
    "                result_addr = self.get_param_address(3)\n",
    "\n",
    "                result = x * y\n",
    "                self.write(result_addr, result)\n",
    "                self.log(\"mult\", x, y, result_addr, result)\n",
    "\n",
    "                step = 4\n",
    "            elif opcode == 3:\n",
    "                # read x\n",
    "                result_addr = self.get_param_address(1)\n",
    "\n",
    "                value = await self.input.receive()\n",
    "                self.write(result_addr, value)\n",
    "                self.log(\"read\", value, result_addr)\n",
    "\n",
    "                step = 2\n",
    "            elif opcode == 4:\n",
    "                # write x\n",
    "                value = self.get_param_value(1)\n",
    "                await self.output.send(value)\n",
    "                self.log(\"write\", value)\n",
    "\n",
    "                step = 2\n",
    "            elif opcode == 5:\n",
    "                # jump-if-true x y\n",
    "                value = self.get_param_value(1)\n",
    "                jump_addr = self.get_param_value(2)\n",
    "\n",
    "                self.log(\"jump-if-true\", value, jump_addr)\n",
    "\n",
    "                if value:\n",
    "                    self.position = jump_addr\n",
    "                    step = 0\n",
    "                else:\n",
    "                    step = 3\n",
    "            elif opcode == 6:\n",
    "                # jump-if-false x y\n",
    "                value = self.get_param_value(1)\n",
    "                jump_addr = self.get_param_value(2)\n",
    "\n",
    "                self.log(\"jump-if-false\", value, jump_addr)\n",
    "\n",
    "                if not value:\n",
    "                    self.position = jump_addr\n",
    "                    step = 0\n",
    "                else:\n",
    "                    step = 3\n",
    "            elif opcode == 7:\n",
    "                # lt x y z\n",
    "                x = self.get_param_value(1)\n",
    "                y = self.get_param_value(2)\n",
    "                result_addr = self.get_param_address(3)\n",
    "\n",
    "                self.log(\"lt\", x, y, result_addr)\n",
    "\n",
    "                if x < y:\n",
    "                    self.write(result_addr, 1)\n",
    "                else:\n",
    "                    self.write(result_addr, 0)\n",
    "\n",
    "                step = 4\n",
    "            elif opcode == 8:\n",
    "                # eq x y z\n",
    "                x = self.get_param_value(1)\n",
    "                y = self.get_param_value(2)\n",
    "                result_addr = self.get_param_address(3)\n",
    "\n",
    "                self.log(\"eq\", x, y, result_addr)\n",
    "\n",
    "                if x == y:\n",
    "                    self.write(result_addr, 1)\n",
    "                else:\n",
    "                    self.write(result_addr, 0)\n",
    "\n",
    "                step = 4\n",
    "            elif opcode == 9:\n",
    "                # relative_base_add x\n",
    "                x = self.get_param_value(1)\n",
    "                self.relative_base += x\n",
    "                \n",
    "                self.log(\"relative_base_add\", x)\n",
    "                \n",
    "                step = 2\n",
    "            elif opcode == 99:\n",
    "                # end of program\n",
    "                self.log(\"stop\")\n",
    "                break\n",
    "            else:\n",
    "                # unknown instruction\n",
    "                self.log(\"unknown opcode\")\n",
    "                break\n",
    "\n",
    "            self.position += step\n",
    "\n",
    "        return self.program"
   ]
  },
  {
   "cell_type": "markdown",
   "metadata": {},
   "source": [
    "### Tests\n",
    "\n",
    "Read input and return the same value."
   ]
  },
  {
   "cell_type": "code",
   "execution_count": 3,
   "metadata": {},
   "outputs": [
    {
     "data": {
      "text/plain": [
       "42"
      ]
     },
     "execution_count": 3,
     "metadata": {},
     "output_type": "execute_result"
    }
   ],
   "source": [
    "program = [3,0,4,0,99]\n",
    "computer = Computer(program)\n",
    "input_, output = computer.set_input_output()\n",
    "await input_.send(42)\n",
    "await computer.compute()\n",
    "await output.receive()"
   ]
  },
  {
   "cell_type": "markdown",
   "metadata": {},
   "source": [
    "Take no input and return itself as output."
   ]
  },
  {
   "cell_type": "code",
   "execution_count": 4,
   "metadata": {},
   "outputs": [
    {
     "name": "stdout",
     "output_type": "stream",
     "text": [
      "109, 1, 204, -1, 1001, 100, 1, 100, 1008, 100, 16, 101, 1006, 101, 0, 99, "
     ]
    }
   ],
   "source": [
    "program = [109,1,204,-1,1001,100,1,100,1008,100,16,101,1006,101,0,99]\n",
    "computer = Computer(program)\n",
    "input_, output = computer.set_input_output()\n",
    "\n",
    "async def print_result():\n",
    "    async with output:\n",
    "        async for value in output:\n",
    "            print(value, end=\", \")\n",
    "\n",
    "async with trio.open_nursery() as nursery:\n",
    "    nursery.start_soon(computer.compute_close)\n",
    "    nursery.start_soon(print_result)"
   ]
  },
  {
   "cell_type": "markdown",
   "metadata": {},
   "source": [
    "Output a 16-digit number."
   ]
  },
  {
   "cell_type": "code",
   "execution_count": 5,
   "metadata": {},
   "outputs": [
    {
     "name": "stdout",
     "output_type": "stream",
     "text": [
      "1219070632396864 16\n"
     ]
    }
   ],
   "source": [
    "program = [1102,34915192,34915192,7,4,7,99,0]\n",
    "computer = Computer(program)\n",
    "input_, output = computer.set_input_output()\n",
    "\n",
    "async def print_result():\n",
    "    async with output:\n",
    "        async for value in output:\n",
    "            print(value, len(str(value)))\n",
    "\n",
    "async with trio.open_nursery() as nursery:\n",
    "    nursery.start_soon(computer.compute_close)\n",
    "    nursery.start_soon(print_result)"
   ]
  },
  {
   "cell_type": "markdown",
   "metadata": {},
   "source": [
    "Should output the large number in the middle."
   ]
  },
  {
   "cell_type": "code",
   "execution_count": 6,
   "metadata": {},
   "outputs": [
    {
     "name": "stdout",
     "output_type": "stream",
     "text": [
      "1125899906842624\n"
     ]
    }
   ],
   "source": [
    "program = [104,1125899906842624,99]\n",
    "computer = Computer(program)\n",
    "input_, output = computer.set_input_output()\n",
    "\n",
    "async def print_result():\n",
    "    async with output:\n",
    "        async for value in output:\n",
    "            print(value)\n",
    "\n",
    "async with trio.open_nursery() as nursery:\n",
    "    nursery.start_soon(computer.compute_close)\n",
    "    nursery.start_soon(print_result)"
   ]
  },
  {
   "cell_type": "markdown",
   "metadata": {},
   "source": [
    "### Result\n",
    "\n",
    "This programm will run some checks, and output any malfunctioning opcode.\n",
    "As our interpreter is fully functionnal, it should output no opcode but a single keycode."
   ]
  },
  {
   "cell_type": "code",
   "execution_count": 7,
   "metadata": {},
   "outputs": [
    {
     "name": "stdout",
     "output_type": "stream",
     "text": [
      "2204990589\n"
     ]
    }
   ],
   "source": [
    "program = [1102,34463338,34463338,63,1007,63,34463338,63,1005,63,53,1102,3,1,1000,109,988,209,12,9,1000,209,6,209,3,203,0,1008,1000,1,63,1005,63,65,1008,1000,2,63,1005,63,904,1008,1000,0,63,1005,63,58,4,25,104,0,99,4,0,104,0,99,4,17,104,0,99,0,0,1101,0,31,1019,1101,25,0,1008,1102,35,1,1009,1102,422,1,1029,1102,1,21,1005,1102,1,734,1027,1102,29,1,1000,1101,32,0,1018,1102,28,1,1016,1101,0,38,1015,1101,0,378,1023,1101,30,0,1017,1102,1,381,1022,1101,0,37,1006,1102,1,1,1021,1101,0,24,1011,1102,1,23,1002,1101,0,0,1020,1101,0,20,1007,1101,427,0,1028,1101,26,0,1014,1101,27,0,1010,1101,0,39,1001,1101,34,0,1012,1102,1,36,1013,1101,0,33,1003,1101,804,0,1025,1101,737,0,1026,1102,1,809,1024,1102,1,22,1004,109,9,1201,-7,0,63,1008,63,20,63,1005,63,205,1001,64,1,64,1106,0,207,4,187,1002,64,2,64,109,2,21102,40,1,1,1008,1012,40,63,1005,63,233,4,213,1001,64,1,64,1106,0,233,1002,64,2,64,109,4,1208,-7,25,63,1005,63,255,4,239,1001,64,1,64,1106,0,255,1002,64,2,64,109,-24,1207,10,38,63,1005,63,271,1105,1,277,4,261,1001,64,1,64,1002,64,2,64,109,25,21107,41,40,-3,1005,1013,293,1105,1,299,4,283,1001,64,1,64,1002,64,2,64,109,5,1205,-1,311,1106,0,317,4,305,1001,64,1,64,1002,64,2,64,109,-23,1202,6,1,63,1008,63,22,63,1005,63,339,4,323,1105,1,343,1001,64,1,64,1002,64,2,64,109,1,2101,0,2,63,1008,63,37,63,1005,63,367,1001,64,1,64,1106,0,369,4,349,1002,64,2,64,109,29,2105,1,-5,1106,0,387,4,375,1001,64,1,64,1002,64,2,64,109,-26,2101,0,0,63,1008,63,23,63,1005,63,409,4,393,1106,0,413,1001,64,1,64,1002,64,2,64,109,26,2106,0,0,4,419,1106,0,431,1001,64,1,64,1002,64,2,64,109,-17,21108,42,42,6,1005,1017,453,4,437,1001,64,1,64,1106,0,453,1002,64,2,64,109,7,21101,43,0,-8,1008,1010,44,63,1005,63,477,1001,64,1,64,1105,1,479,4,459,1002,64,2,64,109,-7,1206,10,495,1001,64,1,64,1106,0,497,4,485,1002,64,2,64,109,-5,2108,36,0,63,1005,63,513,1106,0,519,4,503,1001,64,1,64,1002,64,2,64,109,3,2102,1,-5,63,1008,63,22,63,1005,63,541,4,525,1105,1,545,1001,64,1,64,1002,64,2,64,109,3,1207,-6,38,63,1005,63,567,4,551,1001,64,1,64,1105,1,567,1002,64,2,64,109,-15,2107,20,8,63,1005,63,585,4,573,1106,0,589,1001,64,1,64,1002,64,2,64,109,-1,1208,5,36,63,1005,63,609,1001,64,1,64,1106,0,611,4,595,1002,64,2,64,109,30,21101,44,0,-7,1008,1019,44,63,1005,63,633,4,617,1106,0,637,1001,64,1,64,1002,64,2,64,109,-25,1201,0,0,63,1008,63,39,63,1005,63,659,4,643,1105,1,663,1001,64,1,64,1002,64,2,64,109,27,1206,-8,677,4,669,1106,0,681,1001,64,1,64,1002,64,2,64,109,-28,2108,29,0,63,1005,63,703,4,687,1001,64,1,64,1106,0,703,1002,64,2,64,109,5,21107,45,46,7,1005,1012,725,4,709,1001,64,1,64,1106,0,725,1002,64,2,64,109,30,2106,0,-8,1105,1,743,4,731,1001,64,1,64,1002,64,2,64,109,-22,21102,46,1,4,1008,1017,44,63,1005,63,767,1001,64,1,64,1105,1,769,4,749,1002,64,2,64,109,-15,1202,10,1,63,1008,63,23,63,1005,63,793,1001,64,1,64,1106,0,795,4,775,1002,64,2,64,109,19,2105,1,7,4,801,1105,1,813,1001,64,1,64,1002,64,2,64,109,6,1205,-2,827,4,819,1106,0,831,1001,64,1,64,1002,64,2,64,109,-20,2107,22,2,63,1005,63,851,1001,64,1,64,1106,0,853,4,837,1002,64,2,64,109,20,21108,47,44,-8,1005,1015,869,1105,1,875,4,859,1001,64,1,64,1002,64,2,64,109,-22,2102,1,4,63,1008,63,23,63,1005,63,899,1001,64,1,64,1106,0,901,4,881,4,64,99,21101,0,27,1,21102,915,1,0,1106,0,922,21201,1,28703,1,204,1,99,109,3,1207,-2,3,63,1005,63,964,21201,-2,-1,1,21101,0,942,0,1106,0,922,22101,0,1,-1,21201,-2,-3,1,21101,957,0,0,1105,1,922,22201,1,-1,-2,1105,1,968,21201,-2,0,-2,109,-3,2105,1,0]\n",
    "computer = Computer(program)\n",
    "input_, output = computer.set_input_output()\n",
    "\n",
    "async def print_result():\n",
    "    async with output:\n",
    "        async for value in output:\n",
    "            print(value)\n",
    "\n",
    "async with trio.open_nursery() as nursery:\n",
    "    nursery.start_soon(computer.compute_close)\n",
    "    await input_.send(1)\n",
    "    nursery.start_soon(print_result)"
   ]
  },
  {
   "cell_type": "markdown",
   "metadata": {},
   "source": [
    "## Part 2\n",
    "\n",
    "We simply need to run again this program in boost mode by providing it 2 as input."
   ]
  },
  {
   "cell_type": "code",
   "execution_count": 8,
   "metadata": {},
   "outputs": [
    {
     "name": "stdout",
     "output_type": "stream",
     "text": [
      "50008\n"
     ]
    }
   ],
   "source": [
    "program = [1102,34463338,34463338,63,1007,63,34463338,63,1005,63,53,1102,3,1,1000,109,988,209,12,9,1000,209,6,209,3,203,0,1008,1000,1,63,1005,63,65,1008,1000,2,63,1005,63,904,1008,1000,0,63,1005,63,58,4,25,104,0,99,4,0,104,0,99,4,17,104,0,99,0,0,1101,0,31,1019,1101,25,0,1008,1102,35,1,1009,1102,422,1,1029,1102,1,21,1005,1102,1,734,1027,1102,29,1,1000,1101,32,0,1018,1102,28,1,1016,1101,0,38,1015,1101,0,378,1023,1101,30,0,1017,1102,1,381,1022,1101,0,37,1006,1102,1,1,1021,1101,0,24,1011,1102,1,23,1002,1101,0,0,1020,1101,0,20,1007,1101,427,0,1028,1101,26,0,1014,1101,27,0,1010,1101,0,39,1001,1101,34,0,1012,1102,1,36,1013,1101,0,33,1003,1101,804,0,1025,1101,737,0,1026,1102,1,809,1024,1102,1,22,1004,109,9,1201,-7,0,63,1008,63,20,63,1005,63,205,1001,64,1,64,1106,0,207,4,187,1002,64,2,64,109,2,21102,40,1,1,1008,1012,40,63,1005,63,233,4,213,1001,64,1,64,1106,0,233,1002,64,2,64,109,4,1208,-7,25,63,1005,63,255,4,239,1001,64,1,64,1106,0,255,1002,64,2,64,109,-24,1207,10,38,63,1005,63,271,1105,1,277,4,261,1001,64,1,64,1002,64,2,64,109,25,21107,41,40,-3,1005,1013,293,1105,1,299,4,283,1001,64,1,64,1002,64,2,64,109,5,1205,-1,311,1106,0,317,4,305,1001,64,1,64,1002,64,2,64,109,-23,1202,6,1,63,1008,63,22,63,1005,63,339,4,323,1105,1,343,1001,64,1,64,1002,64,2,64,109,1,2101,0,2,63,1008,63,37,63,1005,63,367,1001,64,1,64,1106,0,369,4,349,1002,64,2,64,109,29,2105,1,-5,1106,0,387,4,375,1001,64,1,64,1002,64,2,64,109,-26,2101,0,0,63,1008,63,23,63,1005,63,409,4,393,1106,0,413,1001,64,1,64,1002,64,2,64,109,26,2106,0,0,4,419,1106,0,431,1001,64,1,64,1002,64,2,64,109,-17,21108,42,42,6,1005,1017,453,4,437,1001,64,1,64,1106,0,453,1002,64,2,64,109,7,21101,43,0,-8,1008,1010,44,63,1005,63,477,1001,64,1,64,1105,1,479,4,459,1002,64,2,64,109,-7,1206,10,495,1001,64,1,64,1106,0,497,4,485,1002,64,2,64,109,-5,2108,36,0,63,1005,63,513,1106,0,519,4,503,1001,64,1,64,1002,64,2,64,109,3,2102,1,-5,63,1008,63,22,63,1005,63,541,4,525,1105,1,545,1001,64,1,64,1002,64,2,64,109,3,1207,-6,38,63,1005,63,567,4,551,1001,64,1,64,1105,1,567,1002,64,2,64,109,-15,2107,20,8,63,1005,63,585,4,573,1106,0,589,1001,64,1,64,1002,64,2,64,109,-1,1208,5,36,63,1005,63,609,1001,64,1,64,1106,0,611,4,595,1002,64,2,64,109,30,21101,44,0,-7,1008,1019,44,63,1005,63,633,4,617,1106,0,637,1001,64,1,64,1002,64,2,64,109,-25,1201,0,0,63,1008,63,39,63,1005,63,659,4,643,1105,1,663,1001,64,1,64,1002,64,2,64,109,27,1206,-8,677,4,669,1106,0,681,1001,64,1,64,1002,64,2,64,109,-28,2108,29,0,63,1005,63,703,4,687,1001,64,1,64,1106,0,703,1002,64,2,64,109,5,21107,45,46,7,1005,1012,725,4,709,1001,64,1,64,1106,0,725,1002,64,2,64,109,30,2106,0,-8,1105,1,743,4,731,1001,64,1,64,1002,64,2,64,109,-22,21102,46,1,4,1008,1017,44,63,1005,63,767,1001,64,1,64,1105,1,769,4,749,1002,64,2,64,109,-15,1202,10,1,63,1008,63,23,63,1005,63,793,1001,64,1,64,1106,0,795,4,775,1002,64,2,64,109,19,2105,1,7,4,801,1105,1,813,1001,64,1,64,1002,64,2,64,109,6,1205,-2,827,4,819,1106,0,831,1001,64,1,64,1002,64,2,64,109,-20,2107,22,2,63,1005,63,851,1001,64,1,64,1106,0,853,4,837,1002,64,2,64,109,20,21108,47,44,-8,1005,1015,869,1105,1,875,4,859,1001,64,1,64,1002,64,2,64,109,-22,2102,1,4,63,1008,63,23,63,1005,63,899,1001,64,1,64,1106,0,901,4,881,4,64,99,21101,0,27,1,21102,915,1,0,1106,0,922,21201,1,28703,1,204,1,99,109,3,1207,-2,3,63,1005,63,964,21201,-2,-1,1,21101,0,942,0,1106,0,922,22101,0,1,-1,21201,-2,-3,1,21101,957,0,0,1105,1,922,22201,1,-1,-2,1105,1,968,21201,-2,0,-2,109,-3,2105,1,0]\n",
    "computer = Computer(program)\n",
    "input_, output = computer.set_input_output()\n",
    "\n",
    "async def print_result():\n",
    "    async with output:\n",
    "        async for value in output:\n",
    "            print(value)\n",
    "\n",
    "async with trio.open_nursery() as nursery:\n",
    "    nursery.start_soon(computer.compute_close)\n",
    "    await input_.send(2)\n",
    "    nursery.start_soon(print_result)"
   ]
  }
 ],
 "metadata": {
  "kernelspec": {
   "display_name": "Python 3",
   "language": "python",
   "name": "python3"
  },
  "language_info": {
   "codemirror_mode": {
    "name": "ipython",
    "version": 3
   },
   "file_extension": ".py",
   "mimetype": "text/x-python",
   "name": "python",
   "nbconvert_exporter": "python",
   "pygments_lexer": "ipython3",
   "version": "3.6.7"
  }
 },
 "nbformat": 4,
 "nbformat_minor": 4
}
