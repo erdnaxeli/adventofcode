{
 "cells": [
  {
   "cell_type": "markdown",
   "metadata": {},
   "source": [
    "# Day 18\n",
    "\n",
    "## Part 1\n",
    "\n",
    "Given a map like this:\n",
    "```\n",
    "#################\n",
    "#i.G..c...e..H.p#\n",
    "########.########\n",
    "#j.A..b...f..D.o#\n",
    "########@########\n",
    "#k.E..a...g..B.n#\n",
    "########.########\n",
    "#l.F..d...h..C.m#\n",
    "#################\n",
    "```\n",
    "\n",
    "Where `@` is us, `x` is a key opening a door `X`, `#` a wall, we need to find the shortest path to get all the keys."
   ]
  },
  {
   "cell_type": "code",
   "execution_count": 3,
   "metadata": {},
   "outputs": [],
   "source": [
    "def read_map(txt):\n",
    "    return [[v for v in line] for line in txt.splitlines() if line]"
   ]
  },
  {
   "cell_type": "code",
   "execution_count": 4,
   "metadata": {},
   "outputs": [],
   "source": [
    "def count_keys(map_):\n",
    "    keys = 0\n",
    "    for line in map_:\n",
    "        for v in line:\n",
    "            if v.islower():\n",
    "                keys += 1\n",
    "            \n",
    "    return keys"
   ]
  },
  {
   "cell_type": "code",
   "execution_count": 5,
   "metadata": {},
   "outputs": [],
   "source": [
    "def find_origin(map_):\n",
    "    for y, line in enumerate(map_):\n",
    "        for x, v in enumerate(line):\n",
    "            if v == \"@\":\n",
    "                return (x, y)"
   ]
  },
  {
   "cell_type": "code",
   "execution_count": 6,
   "metadata": {},
   "outputs": [],
   "source": [
    "def compute_path(map_):\n",
    "    \"\"\"Compute a path.\n",
    "    \n",
    "    A path is a list of tuples `(x, y, keys)`, `keys` being an ordered tuple\n",
    "    of keys.\n",
    "    At each intersections, it tries every path.\n",
    "    \n",
    "    Returns a list of tuples `(path, keys)`.\n",
    "    \"\"\"\n",
    "    x, y = find_origin(map_)\n",
    "    path = [(x, y, [])]\n",
    "    candidates = [path]\n",
    "\n",
    "    result = []\n",
    "    keys_count = count_keys(map_)\n",
    "    min_found = float('+inf')\n",
    "\n",
    "    while True:\n",
    "        candidates.sort(key=lambda p: (len(p), -len(p[-1][2])))\n",
    "        try:\n",
    "            path = candidates.pop(0)\n",
    "            #print(path)\n",
    "        except IndexError:\n",
    "            return result\n",
    "\n",
    "        if len(path) >= min_found:\n",
    "            continue\n",
    "        \n",
    "        px, py, keys = path[-1]\n",
    "        for x, y in (px - 1, py), (px + 1, py), (px, py - 1), (px, py + 1):\n",
    "            if (x, y, keys) in path:\n",
    "                # We were already here we the same set of keys, this is a dead end,\n",
    "                # let's stop.\n",
    "                continue\n",
    "            elif map_[y][x] == \"#\":\n",
    "                continue\n",
    "            elif map_[y][x].isupper():\n",
    "                # It's door!\n",
    "                key = map_[y][x].lower()\n",
    "                if key in keys:\n",
    "                    # We have the key, let's use it and go forward.\n",
    "                    subpath = path + [(x, y, keys)]\n",
    "                    candidates.append(subpath)\n",
    "                else:\n",
    "                    # We don't have this door's key, we can't go through it.\n",
    "                    continue\n",
    "            elif map_[y][x].islower() and map_[y][x] not in keys:\n",
    "                # It's a key! Pick it up!\n",
    "                subkeys = sorted(keys + [map_[y][x]])\n",
    "                subpath = path + [(x, y, subkeys)]\n",
    "\n",
    "                if len(subkeys) == keys_count:\n",
    "                    # We found all the keys!\n",
    "                    if len(subpath) < min_found:\n",
    "                        min_found = len(subpath)\n",
    "                    result.append(subpath)\n",
    "                    continue\n",
    "\n",
    "                candidates.append(subpath)\n",
    "            else:\n",
    "                # Empty path, let's go\n",
    "                subpath = path + [(x, y, keys)]\n",
    "                candidates.append(subpath)"
   ]
  },
  {
   "cell_type": "code",
   "execution_count": 21,
   "metadata": {},
   "outputs": [],
   "source": [
    "from collections import defaultdict, namedtuple\n",
    "from dataclasses import dataclass\n",
    "from typing import List, Tuple\n",
    "\n",
    "Map = namedtuple(\"Map\", (\"root_node\",))\n",
    "Node = namedtuple(\"Node\", (\"coordinates\", \"links\",))\n",
    "Link = namedtuple(\"Link\", (\"length\", \"node\",))\n",
    "\n",
    "@dataclass\n",
    "class Node:\n",
    "    coordinates: Tuple[int, int]\n",
    "    links: List[Link]\n",
    "        \n",
    "@dataclass\n",
    "class Link:\n",
    "    node: Node\n",
    "    length: int = 0\n",
    "\n",
    "@dataclass\n",
    "class Map:\n",
    "    root_node: Node\n",
    "\n",
    "def preprocess_map(flat_map, map_=None, node=None, previous_node=None):\n",
    "    \"\"\"Prepocess a flat map.\n",
    "    \n",
    "    Corridors are removed. Returns à tree of inserections.\n",
    "    \n",
    "    `map_` is the constructing map. `node` is the current node. `previous` is the\n",
    "    node we are coming from.\n",
    "    \"\"\"\n",
    "    if node is None:\n",
    "        node = Node(\n",
    "            coordinates=find_origin(flat_map),\n",
    "            links=[],\n",
    "        )\n",
    "        \n",
    "    if map_ is None:\n",
    "        map_ = Map(root_node=node)\n",
    "    \n",
    "    if previous_node is None:\n",
    "        previous_node = Node(\n",
    "            coordinates=node.coordinates,\n",
    "            links=[]\n",
    "        )\n",
    "\n",
    "    candidates = [(node, previous_node)]\n",
    "\n",
    "    while True:\n",
    "        if len(candidates) == 0:\n",
    "            return map_\n",
    "        \n",
    "        node, previous_node = candidates.pop()\n",
    "        link = Link(node=node, length=1)\n",
    "        previous_node.links.append(link)\n",
    "        previous = previous_node.coordinates\n",
    "        px, py = node.coordinates\n",
    "        #print(f\"starting at {px}, {py}\")\n",
    "\n",
    "        while True:\n",
    "            new_directions = []\n",
    "            for x, y in (px - 1, py), (px + 1, py), (px, py - 1), (px, py + 1):\n",
    "                if (x, y) == previous:\n",
    "                    continue\n",
    "\n",
    "                try:\n",
    "                    if flat_map[y][x] != \"#\":\n",
    "                        new_directions.append((x, y))\n",
    "                        flat_map[y][x] = \"#\"\n",
    "                except IndexError:\n",
    "                    pass\n",
    "\n",
    "            if len(new_directions) == 0:\n",
    "                # It's a cul-de-sac\n",
    "                #print(\"it's a cul-de-sac\")\n",
    "                break\n",
    "            elif len(new_directions) == 1:\n",
    "                # Let's continue\n",
    "                #print(f\"let's continue to {new_directions[0]}\")\n",
    "                link.length += 1\n",
    "                previous = (px, py)\n",
    "                node.coordinates = new_directions[0]\n",
    "                px, py = new_directions[0]\n",
    "                continue\n",
    "            else:\n",
    "                # The current node is an intersection\n",
    "                #print(\"intersection!\")\n",
    "                for p in new_directions:\n",
    "                    new_node=Node(\n",
    "                        coordinates=p,\n",
    "                        links=[],\n",
    "                    )\n",
    "                    candidates.append((new_node, node))\n",
    "                    #preprocess_map(flat_map, map_=map_, node=new_node, previous_node=node)\n",
    "\n",
    "                break"
   ]
  },
  {
   "cell_type": "code",
   "execution_count": 22,
   "metadata": {},
   "outputs": [
    {
     "data": {
      "text/plain": [
       "Map(root_node=Node(coordinates=(5, 1), links=[Link(node=Node(coordinates=(7, 1), links=[]), length=2), Link(node=Node(coordinates=(1, 1), links=[]), length=4)]))"
      ]
     },
     "execution_count": 22,
     "metadata": {},
     "output_type": "execute_result"
    }
   ],
   "source": [
    "preprocess_map(read_map(\"\"\"\n",
    "#########\n",
    "#b.A.@.a#\n",
    "#########\n",
    "\"\"\"))"
   ]
  },
  {
   "cell_type": "code",
   "execution_count": 23,
   "metadata": {},
   "outputs": [
    {
     "data": {
      "text/plain": [
       "Map(root_node=Node(coordinates=(6, 3), links=[Link(node=Node(coordinates=(22, 3), links=[]), length=16), Link(node=Node(coordinates=(22, 1), links=[]), length=28)]))"
      ]
     },
     "execution_count": 23,
     "metadata": {},
     "output_type": "execute_result"
    }
   ],
   "source": [
    "preprocess_map(read_map(\"\"\"\n",
    "########################\n",
    "#...............bCCDD.f#\n",
    "#.######################\n",
    "#.....@.aBB.c.dAA.eFF.g#\n",
    "########################\n",
    "\"\"\"))"
   ]
  },
  {
   "cell_type": "code",
   "execution_count": 30,
   "metadata": {},
   "outputs": [
    {
     "data": {
      "text/plain": [
       "Map(root_node=Node(coordinates=(8, 4), links=[Link(node=Node(coordinates=(8, 5), links=[Link(node=Node(coordinates=(8, 7), links=[Link(node=Node(coordinates=(15, 7), links=[]), length=7), Link(node=Node(coordinates=(1, 7), links=[]), length=7)]), length=2), Link(node=Node(coordinates=(15, 5), links=[]), length=7), Link(node=Node(coordinates=(1, 5), links=[]), length=7)]), length=1), Link(node=Node(coordinates=(8, 3), links=[Link(node=Node(coordinates=(8, 1), links=[Link(node=Node(coordinates=(15, 1), links=[]), length=7), Link(node=Node(coordinates=(1, 1), links=[]), length=7)]), length=2), Link(node=Node(coordinates=(15, 3), links=[]), length=7), Link(node=Node(coordinates=(1, 3), links=[]), length=7)]), length=1)]))"
      ]
     },
     "execution_count": 30,
     "metadata": {},
     "output_type": "execute_result"
    }
   ],
   "source": [
    "preprocess_map(read_map(\"\"\"\n",
    "#################\n",
    "#i.GGGc...eHHH.p#\n",
    "########.########\n",
    "#j.AAAb...fDDD.o#\n",
    "########@########\n",
    "#k.EEEa...gBBB.n#\n",
    "########.########\n",
    "#l.FFFd...hCCC.m#\n",
    "#################\n",
    "\"\"\"))"
   ]
  },
  {
   "cell_type": "code",
   "execution_count": 31,
   "metadata": {},
   "outputs": [
    {
     "data": {
      "text/plain": [
       "Map(root_node=Node(coordinates=(40, 40), links=[Link(node=Node(coordinates=(40, 41), links=[Link(node=Node(coordinates=(41, 41), links=[Link(node=Node(coordinates=(43, 45), links=[]), length=10), Link(node=Node(coordinates=(43, 41), links=[Link(node=Node(coordinates=(45, 49), links=[Link(node=Node(coordinates=(45, 51), links=[]), length=2), Link(node=Node(coordinates=(47, 49), links=[Link(node=Node(coordinates=(63, 41), links=[Link(node=Node(coordinates=(59, 51), links=[Link(node=Node(coordinates=(55, 53), links=[Link(node=Node(coordinates=(55, 55), links=[]), length=2), Link(node=Node(coordinates=(49, 53), links=[]), length=6)]), length=6), Link(node=Node(coordinates=(43, 55), links=[Link(node=Node(coordinates=(43, 57), links=[]), length=2), Link(node=Node(coordinates=(41, 59), links=[Link(node=Node(coordinates=(41, 61), links=[]), length=2), Link(node=Node(coordinates=(45, 59), links=[Link(node=Node(coordinates=(47, 57), links=[Link(node=Node(coordinates=(53, 65), links=[Link(node=Node(coordinates=(55, 65), links=[Link(node=Node(coordinates=(53, 69), links=[Link(node=Node(coordinates=(51, 71), links=[]), length=4), Link(node=Node(coordinates=(49, 67), links=[Link(node=Node(coordinates=(41, 65), links=[Link(node=Node(coordinates=(41, 69), links=[Link(node=Node(coordinates=(41, 73), links=[]), length=4), Link(node=Node(coordinates=(43, 67), links=[]), length=4)]), length=4), Link(node=Node(coordinates=(41, 77), links=[Link(node=Node(coordinates=(55, 79), links=[]), length=16), Link(node=Node(coordinates=(57, 69), links=[Link(node=Node(coordinates=(65, 79), links=[Link(node=Node(coordinates=(69, 61), links=[Link(node=Node(coordinates=(69, 59), links=[Link(node=Node(coordinates=(77, 61), links=[]), length=18), Link(node=Node(coordinates=(61, 55), links=[Link(node=Node(coordinates=(59, 57), links=[]), length=4), Link(node=Node(coordinates=(61, 67), links=[Link(node=Node(coordinates=(61, 61), links=[]), length=70), Link(node=Node(coordinates=(63, 67), links=[]), length=2)]), length=28)]), length=56)]), length=2), Link(node=Node(coordinates=(67, 61), links=[]), length=2)]), length=22), Link(node=Node(coordinates=(79, 75), links=[Link(node=Node(coordinates=(79, 79), links=[]), length=8), Link(node=Node(coordinates=(79, 67), links=[Link(node=Node(coordinates=(79, 69), links=[]), length=2), Link(node=Node(coordinates=(71, 67), links=[Link(node=Node(coordinates=(73, 73), links=[Link(node=Node(coordinates=(71, 77), links=[]), length=6), Link(node=Node(coordinates=(73, 69), links=[]), length=4), Link(node=Node(coordinates=(77, 73), links=[]), length=4)]), length=16), Link(node=Node(coordinates=(73, 65), links=[]), length=4)]), length=12)]), length=16)]), length=22)]), length=30), Link(node=Node(coordinates=(59, 69), links=[]), length=2)]), length=36)]), length=36)]), length=26), Link(node=Node(coordinates=(47, 65), links=[]), length=4)]), length=6)]), length=6), Link(node=Node(coordinates=(57, 67), links=[]), length=4)]), length=2), Link(node=Node(coordinates=(51, 65), links=[]), length=2)]), length=18), Link(node=Node(coordinates=(51, 57), links=[]), length=4)]), length=4), Link(node=Node(coordinates=(47, 59), links=[]), length=2)]), length=8)]), length=18)]), length=20)]), length=14), Link(node=Node(coordinates=(71, 49), links=[Link(node=Node(coordinates=(77, 51), links=[Link(node=Node(coordinates=(79, 51), links=[Link(node=Node(coordinates=(79, 55), links=[]), length=8), Link(node=Node(coordinates=(73, 45), links=[Link(node=Node(coordinates=(77, 47), links=[]), length=6), Link(node=Node(coordinates=(77, 41), links=[]), length=24)]), length=12)]), length=2), Link(node=Node(coordinates=(73, 51), links=[]), length=4)]), length=8), Link(node=Node(coordinates=(63, 49), links=[Link(node=Node(coordinates=(65, 43), links=[]), length=8), Link(node=Node(coordinates=(67, 49), links=[]), length=12)]), length=12)]), length=16)]), length=28), Link(node=Node(coordinates=(51, 47), links=[Link(node=Node(coordinates=(57, 47), links=[Link(node=Node(coordinates=(57, 49), links=[]), length=2), Link(node=Node(coordinates=(57, 45), links=[Link(node=Node(coordinates=(57, 43), links=[]), length=6), Link(node=Node(coordinates=(53, 45), links=[]), length=4)]), length=2)]), length=10), Link(node=Node(coordinates=(49, 47), links=[]), length=2)]), length=6)]), length=2)]), length=10), Link(node=Node(coordinates=(49, 41), links=[]), length=10)]), length=2)]), length=1), Link(node=Node(coordinates=(39, 41), links=[Link(node=Node(coordinates=(39, 43), links=[Link(node=Node(coordinates=(35, 45), links=[]), length=6), Link(node=Node(coordinates=(29, 43), links=[Link(node=Node(coordinates=(29, 45), links=[]), length=2), Link(node=Node(coordinates=(33, 45), links=[Link(node=Node(coordinates=(33, 47), links=[]), length=2), Link(node=Node(coordinates=(33, 55), links=[Link(node=Node(coordinates=(33, 59), links=[Link(node=Node(coordinates=(35, 61), links=[]), length=4), Link(node=Node(coordinates=(31, 59), links=[]), length=2)]), length=4), Link(node=Node(coordinates=(39, 59), links=[Link(node=Node(coordinates=(39, 63), links=[]), length=4), Link(node=Node(coordinates=(39, 67), links=[Link(node=Node(coordinates=(39, 69), links=[]), length=2), Link(node=Node(coordinates=(39, 73), links=[Link(node=Node(coordinates=(39, 79), links=[]), length=6), Link(node=Node(coordinates=(35, 77), links=[Link(node=Node(coordinates=(31, 79), links=[Link(node=Node(coordinates=(29, 59), links=[Link(node=Node(coordinates=(25, 51), links=[Link(node=Node(coordinates=(19, 41), links=[Link(node=Node(coordinates=(23, 65), links=[Link(node=Node(coordinates=(23, 69), links=[Link(node=Node(coordinates=(19, 77), links=[Link(node=Node(coordinates=(19, 71), links=[Link(node=Node(coordinates=(19, 73), links=[]), length=2), Link(node=Node(coordinates=(21, 69), links=[]), length=4)]), length=10), Link(node=Node(coordinates=(13, 75), links=[]), length=8)]), length=12), Link(node=Node(coordinates=(31, 69), links=[]), length=12)]), length=4), Link(node=Node(coordinates=(21, 61), links=[]), length=106)]), length=52), Link(node=Node(coordinates=(9, 41), links=[Link(node=Node(coordinates=(15, 41), links=[]), length=6), Link(node=Node(coordinates=(1, 45), links=[Link(node=Node(coordinates=(1, 61), links=[Link(node=Node(coordinates=(9, 69), links=[Link(node=Node(coordinates=(5, 67), links=[Link(node=Node(coordinates=(7, 67), links=[]), length=2), Link(node=Node(coordinates=(3, 65), links=[Link(node=Node(coordinates=(5, 65), links=[]), length=2), Link(node=Node(coordinates=(1, 73), links=[Link(node=Node(coordinates=(5, 79), links=[Link(node=Node(coordinates=(7, 79), links=[Link(node=Node(coordinates=(5, 75), links=[Link(node=Node(coordinates=(5, 71), links=[]), length=4), Link(node=Node(coordinates=(3, 75), links=[]), length=2)]), length=6), Link(node=Node(coordinates=(9, 79), links=[]), length=2)]), length=2), Link(node=Node(coordinates=(1, 79), links=[]), length=4)]), length=10), Link(node=Node(coordinates=(1, 71), links=[]), length=2)]), length=14)]), length=4)]), length=14), Link(node=Node(coordinates=(13, 67), links=[Link(node=Node(coordinates=(13, 69), links=[]), length=2), Link(node=Node(coordinates=(11, 61), links=[Link(node=Node(coordinates=(15, 63), links=[Link(node=Node(coordinates=(17, 63), links=[Link(node=Node(coordinates=(17, 65), links=[]), length=2), Link(node=Node(coordinates=(17, 57), links=[Link(node=Node(coordinates=(21, 57), links=[Link(node=Node(coordinates=(21, 59), links=[]), length=2), Link(node=Node(coordinates=(21, 55), links=[]), length=2)]), length=4), Link(node=Node(coordinates=(9, 45), links=[Link(node=Node(coordinates=(15, 47), links=[Link(node=Node(coordinates=(11, 49), links=[Link(node=Node(coordinates=(11, 47), links=[]), length=2), Link(node=Node(coordinates=(13, 49), links=[]), length=2)]), length=14), Link(node=Node(coordinates=(15, 45), links=[]), length=2)]), length=8), Link(node=Node(coordinates=(7, 45), links=[]), length=2)]), length=28)]), length=10)]), length=2), Link(node=Node(coordinates=(13, 61), links=[]), length=4)]), length=10), Link(node=Node(coordinates=(9, 63), links=[]), length=4)]), length=12)]), length=6)]), length=16), Link(node=Node(coordinates=(3, 55), links=[Link(node=Node(coordinates=(7, 57), links=[]), length=10), Link(node=Node(coordinates=(1, 53), links=[]), length=12)]), length=8)]), length=36), Link(node=Node(coordinates=(3, 41), links=[Link(node=Node(coordinates=(5, 41), links=[]), length=2), Link(node=Node(coordinates=(1, 41), links=[]), length=2)]), length=6)]), length=12)]), length=14)]), length=24), Link(node=Node(coordinates=(21, 47), links=[Link(node=Node(coordinates=(23, 47), links=[Link(node=Node(coordinates=(23, 49), links=[]), length=2), Link(node=Node(coordinates=(25, 43), links=[]), length=10)]), length=2), Link(node=Node(coordinates=(19, 47), links=[]), length=2)]), length=8)]), length=24), Link(node=Node(coordinates=(25, 57), links=[Link(node=Node(coordinates=(25, 59), links=[]), length=2), Link(node=Node(coordinates=(27, 55), links=[]), length=4)]), length=6)]), length=30), Link(node=Node(coordinates=(29, 77), links=[Link(node=Node(coordinates=(31, 73), links=[]), length=6), Link(node=Node(coordinates=(27, 79), links=[]), length=4)]), length=4)]), length=10), Link(node=Node(coordinates=(33, 77), links=[]), length=2)]), length=8)]), length=10)]), length=12)]), length=14)]), length=38)]), length=6)]), length=14)]), length=2), Link(node=Node(coordinates=(37, 41), links=[]), length=2)]), length=1)]), length=1), Link(node=Node(coordinates=(40, 39), links=[Link(node=Node(coordinates=(41, 39), links=[Link(node=Node(coordinates=(41, 37), links=[Link(node=Node(coordinates=(41, 33), links=[]), length=4), Link(node=Node(coordinates=(47, 39), links=[Link(node=Node(coordinates=(51, 37), links=[Link(node=Node(coordinates=(53, 35), links=[]), length=4), Link(node=Node(coordinates=(55, 39), links=[Link(node=Node(coordinates=(57, 31), links=[Link(node=Node(coordinates=(57, 25), links=[Link(node=Node(coordinates=(59, 27), links=[Link(node=Node(coordinates=(59, 29), links=[]), length=2), Link(node=Node(coordinates=(61, 27), links=[]), length=2)]), length=4), Link(node=Node(coordinates=(51, 31), links=[Link(node=Node(coordinates=(53, 31), links=[]), length=2), Link(node=Node(coordinates=(47, 31), links=[Link(node=Node(coordinates=(45, 21), links=[Link(node=Node(coordinates=(43, 23), links=[]), length=4), Link(node=Node(coordinates=(49, 17), links=[Link(node=Node(coordinates=(49, 19), links=[Link(node=Node(coordinates=(53, 17), links=[Link(node=Node(coordinates=(55, 23), links=[Link(node=Node(coordinates=(57, 23), links=[]), length=2), Link(node=Node(coordinates=(49, 25), links=[Link(node=Node(coordinates=(49, 29), links=[]), length=4), Link(node=Node(coordinates=(51, 21), links=[Link(node=Node(coordinates=(53, 21), links=[]), length=2), Link(node=Node(coordinates=(49, 21), links=[]), length=2)]), length=6)]), length=12)]), length=8), Link(node=Node(coordinates=(51, 17), links=[]), length=2)]), length=6), Link(node=Node(coordinates=(47, 19), links=[]), length=2)]), length=2), Link(node=Node(coordinates=(49, 15), links=[]), length=2)]), length=8)]), length=12), Link(node=Node(coordinates=(47, 33), links=[]), length=6)]), length=4)]), length=12)]), length=6), Link(node=Node(coordinates=(41, 21), links=[Link(node=Node(coordinates=(41, 15), links=[]), length=6), Link(node=Node(coordinates=(41, 11), links=[Link(node=Node(coordinates=(49, 9), links=[Link(node=Node(coordinates=(45, 1), links=[Link(node=Node(coordinates=(49, 3), links=[Link(node=Node(coordinates=(61, 5), links=[Link(node=Node(coordinates=(69, 9), links=[Link(node=Node(coordinates=(77, 1), links=[Link(node=Node(coordinates=(75, 9), links=[Link(node=Node(coordinates=(79, 11), links=[Link(node=Node(coordinates=(77, 19), links=[Link(node=Node(coordinates=(79, 23), links=[Link(node=Node(coordinates=(79, 35), links=[Link(node=Node(coordinates=(71, 33), links=[Link(node=Node(coordinates=(71, 25), links=[]), length=8), Link(node=Node(coordinates=(73, 35), links=[]), length=4), Link(node=Node(coordinates=(75, 39), links=[]), length=14)]), length=18), Link(node=Node(coordinates=(79, 31), links=[]), length=4)]), length=20), Link(node=Node(coordinates=(77, 23), links=[]), length=2)]), length=6), Link(node=Node(coordinates=(77, 13), links=[]), length=10)]), length=10), Link(node=Node(coordinates=(79, 7), links=[]), length=4)]), length=6), Link(node=Node(coordinates=(73, 9), links=[]), length=6)]), length=14), Link(node=Node(coordinates=(61, 1), links=[]), length=16)]), length=20), Link(node=Node(coordinates=(65, 7), links=[Link(node=Node(coordinates=(65, 11), links=[Link(node=Node(coordinates=(67, 11), links=[]), length=2), Link(node=Node(coordinates=(65, 13), links=[]), length=6)]), length=4), Link(node=Node(coordinates=(67, 5), links=[]), length=4)]), length=6)]), length=16), Link(node=Node(coordinates=(55, 5), links=[Link(node=Node(coordinates=(55, 9), links=[Link(node=Node(coordinates=(53, 11), links=[Link(node=Node(coordinates=(53, 13), links=[]), length=2), Link(node=Node(coordinates=(51, 11), links=[]), length=2)]), length=4), Link(node=Node(coordinates=(57, 7), links=[]), length=4)]), length=4), Link(node=Node(coordinates=(53, 3), links=[]), length=4)]), length=6)]), length=22), Link(node=Node(coordinates=(47, 3), links=[]), length=2)]), length=6), Link(node=Node(coordinates=(41, 1), links=[]), length=4)]), length=28), Link(node=Node(coordinates=(47, 9), links=[]), length=2)]), length=18), Link(node=Node(coordinates=(61, 23), links=[Link(node=Node(coordinates=(63, 29), links=[Link(node=Node(coordinates=(65, 35), links=[]), length=16), Link(node=Node(coordinates=(69, 17), links=[Link(node=Node(coordinates=(71, 13), links=[]), length=6), Link(node=Node(coordinates=(61, 21), links=[]), length=44)]), length=94)]), length=8), Link(node=Node(coordinates=(65, 23), links=[Link(node=Node(coordinates=(63, 19), links=[Link(node=Node(coordinates=(63, 21), links=[]), length=2), Link(node=Node(coordinates=(63, 17), links=[]), length=2)]), length=6), Link(node=Node(coordinates=(65, 25), links=[]), length=6)]), length=4)]), length=72)]), length=14)]), length=46)]), length=10), Link(node=Node(coordinates=(57, 39), links=[Link(node=Node(coordinates=(57, 37), links=[]), length=2), Link(node=Node(coordinates=(59, 39), links=[]), length=2)]), length=2)]), length=6)]), length=6), Link(node=Node(coordinates=(51, 39), links=[]), length=4)]), length=8)]), length=2), Link(node=Node(coordinates=(43, 39), links=[]), length=2)]), length=1), Link(node=Node(coordinates=(37, 39), links=[Link(node=Node(coordinates=(31, 27), links=[Link(node=Node(coordinates=(31, 25), links=[]), length=2), Link(node=Node(coordinates=(21, 21), links=[]), length=28)]), length=26), Link(node=Node(coordinates=(31, 37), links=[Link(node=Node(coordinates=(31, 35), links=[]), length=2), Link(node=Node(coordinates=(19, 21), links=[Link(node=Node(coordinates=(25, 35), links=[Link(node=Node(coordinates=(23, 37), links=[]), length=4), Link(node=Node(coordinates=(27, 31), links=[Link(node=Node(coordinates=(27, 33), links=[]), length=2), Link(node=Node(coordinates=(27, 27), links=[Link(node=Node(coordinates=(35, 33), links=[]), length=14), Link(node=Node(coordinates=(25, 29), links=[]), length=4)]), length=4)]), length=6)]), length=28), Link(node=Node(coordinates=(13, 27), links=[Link(node=Node(coordinates=(13, 21), links=[Link(node=Node(coordinates=(17, 19), links=[]), length=6), Link(node=Node(coordinates=(11, 21), links=[]), length=2)]), length=6), Link(node=Node(coordinates=(7, 25), links=[Link(node=Node(coordinates=(1, 23), links=[Link(node=Node(coordinates=(1, 37), links=[Link(node=Node(coordinates=(9, 39), links=[Link(node=Node(coordinates=(9, 31), links=[Link(node=Node(coordinates=(13, 31), links=[Link(node=Node(coordinates=(17, 39), links=[]), length=20), Link(node=Node(coordinates=(15, 31), links=[]), length=2)]), length=4), Link(node=Node(coordinates=(5, 31), links=[Link(node=Node(coordinates=(7, 35), links=[Link(node=Node(coordinates=(9, 35), links=[]), length=2), Link(node=Node(coordinates=(5, 35), links=[]), length=2)]), length=6), Link(node=Node(coordinates=(5, 29), links=[Link(node=Node(coordinates=(3, 25), links=[]), length=6), Link(node=Node(coordinates=(7, 29), links=[]), length=2)]), length=2)]), length=4)]), length=12), Link(node=Node(coordinates=(7, 39), links=[]), length=2)]), length=14), Link(node=Node(coordinates=(1, 33), links=[]), length=4)]), length=22), Link(node=Node(coordinates=(1, 11), links=[Link(node=Node(coordinates=(5, 15), links=[]), length=20), Link(node=Node(coordinates=(9, 1), links=[Link(node=Node(coordinates=(15, 5), links=[Link(node=Node(coordinates=(15, 3), links=[]), length=2), Link(node=Node(coordinates=(11, 7), links=[Link(node=Node(coordinates=(9, 9), links=[Link(node=Node(coordinates=(13, 15), links=[Link(node=Node(coordinates=(17, 7), links=[Link(node=Node(coordinates=(29, 21), links=[Link(node=Node(coordinates=(39, 21), links=[Link(node=Node(coordinates=(39, 33), links=[]), length=16), Link(node=Node(coordinates=(39, 13), links=[Link(node=Node(coordinates=(39, 17), links=[]), length=4), Link(node=Node(coordinates=(31, 11), links=[Link(node=Node(coordinates=(33, 17), links=[]), length=24), Link(node=Node(coordinates=(29, 3), links=[Link(node=Node(coordinates=(27, 7), links=[Link(node=Node(coordinates=(29, 9), links=[]), length=4), Link(node=Node(coordinates=(23, 5), links=[Link(node=Node(coordinates=(27, 5), links=[]), length=4), Link(node=Node(coordinates=(19, 5), links=[]), length=4)]), length=6)]), length=6), Link(node=Node(coordinates=(39, 3), links=[Link(node=Node(coordinates=(35, 5), links=[Link(node=Node(coordinates=(35, 9), links=[]), length=4), Link(node=Node(coordinates=(33, 5), links=[]), length=2)]), length=6), Link(node=Node(coordinates=(35, 1), links=[]), length=6)]), length=14)]), length=14)]), length=18)]), length=12)]), length=10), Link(node=Node(coordinates=(27, 21), links=[Link(node=Node(coordinates=(27, 23), links=[]), length=2), Link(node=Node(coordinates=(21, 17), links=[Link(node=Node(coordinates=(21, 19), links=[]), length=2), Link(node=Node(coordinates=(25, 15), links=[Link(node=Node(coordinates=(27, 17), links=[]), length=4), Link(node=Node(coordinates=(19, 13), links=[Link(node=Node(coordinates=(19, 9), links=[]), length=4), Link(node=Node(coordinates=(17, 13), links=[]), length=2)]), length=12)]), length=6)]), length=10)]), length=2)]), length=30), Link(node=Node(coordinates=(13, 9), links=[]), length=6)]), length=12), Link(node=Node(coordinates=(9, 15), links=[]), length=4)]), length=14), Link(node=Node(coordinates=(7, 9), links=[]), length=6)]), length=4), Link(node=Node(coordinates=(11, 5), links=[]), length=2)]), length=6)]), length=38), Link(node=Node(coordinates=(1, 1), links=[]), length=16)]), length=26)]), length=28)]), length=8), Link(node=Node(coordinates=(9, 25), links=[]), length=2)]), length=16)]), length=36)]), length=60)]), length=24)]), length=3)]), length=1), Link(node=Node(coordinates=(41, 40), links=[]), length=1), Link(node=Node(coordinates=(39, 40), links=[]), length=1)]))"
      ]
     },
     "execution_count": 31,
     "metadata": {},
     "output_type": "execute_result"
    }
   ],
   "source": [
    "preprocess_map(read_map(\"\"\"\n",
    "#################################################################################\n",
    "#.#...#.....#...............#.....#v....#.........#p....#...#...................#\n",
    "#.#.#.#.#.#.#M#############.#.###.#####.#####.###.#.###.#.#.#################.#.#\n",
    "#..n#...#.#...#.#...........#...#.......#.....#.....#.#...#...#.......#...#...#.#\n",
    "#########.#####.#.###########.#.#######.#.###########.#######.#C#####.#.#.#.###.#\n",
    "#.........#.#.....#.........#.#.#.......#...........#...........#...#.#.#...#...#\n",
    "#.#########.#.#########.#####.#W###.###############.###.#########.###.#.#####.###\n",
    "#.Y...#...#...#.......#z......#...#.#...#...#.....#..d#.#.#..x..#...#.#.#...#.#.#\n",
    "#####.#.#.#.###.#.###.#####.#####.#.#.#.#.#.#.###.###.#.#.#.###.#.#.#.#.#.#.#.#.#\n",
    "#.....#.#...#...#.#.#.....#...#...#.#.#.#.#...#.......#...#.#...#.#.....#.#...#.#\n",
    "#.#######.#######.#.#####.#####.#####.#.#.#############.###.#.###.#########.###.#\n",
    "#...#...#.#...#...#.#...#.....#...B...#.#.....#...#.....#...#.#.....#....t#.....#\n",
    "#.#.#.#.#.#.#.#.###.#.#.#####.#.#######.#.###.#.#.###.###.###.#.#####.###.#####N#\n",
    "#.#...#.#...#.#.#.....#...#...#.#...#...#...#.#.#...#.#...#...#...#...#.#...#.#.#\n",
    "#.#####.#####.#.#########.#.###.#.#.#.#.###.#.#.###.###.###.#######.###.###.#.#.#\n",
    "#.#...#.#.......#...#.....#...#...#.#.#.#.#.#...#.#.....#...#.....#.#...#...#.#.#\n",
    "#.#.###.#########.#.#.###.###.#####.#.#.#.#.#####.#######.###.###.#.#.###.###.#.#\n",
    "#.#...#.#...#.....#.#...#...#.#...#.#.#.#.#.#.....#.....#...#.#.#...#...#.#...#.#\n",
    "#.###.#.#.#.#.#####.#.#.#####.#.###.#.###.#.#.###.###.#.###.#.#.#####.#.#J#E###.#\n",
    "#.....#.#.#...#...#.#.#.....#.#.....#...#.#.#.#.......#.#...#.#...#...#...#.....#\n",
    "#######.#.#####.###.#######.#.#########.#.#.#.#########.#.###.#.#.#.#########.###\n",
    "#.......#.#.....#.I.#.....#.............#...#...#.....#.#...#.#.#.#.........#...#\n",
    "#.#######.###.###.#.#####.#.###########.#.###.#.###.###.###.#####.#########.###.#\n",
    "#.......#...#.#...#.....#.#.#.......#...#.#...#.#...#.....#.........#.....#.#...#\n",
    "#.#####.###.#.#.#######.#.###.#####.#.###.#####.#.###.#######.#####.#.###.#.###.#\n",
    "#.#...#...#.#.#.......#.#.....#.#...#...#.#...#.#...#u#.....#...#...#.#.#.#...#.#\n",
    "#.###.#.###.#.#######.#.#######.#.#####.#.#.#.#.#.#.#.#.#.#.###.#####.#.#.###.#.#\n",
    "#...#.#...#.....#.....#.#.....#...#...#.#...#.#.#.#...#.#.#...#.#.....#.#.#...#.#\n",
    "###.#.###.#####.#.#####.#.#.#.#.###.#.#.#####.#.#.#####.#.#.###.#.#####.#.#.###.#\n",
    "#...#...#.......#.#.....#.#.#.#.....#.#.#.....#.#.#.....#.#.#...#.....#.#.#.#..k#\n",
    "#.###.###########.#.#######.#.#######.#.#.#####.###.#####.###.#.#####.#.#.#.#.###\n",
    "#...#...........#.#.....#...#.......#.#.#...#.........#...#...#.#.....#.#...#.#.#\n",
    "###.#.###.###.###.#####.#.#.#######.#.#.###.#.#########.#.#.###.#.#####.#####.#.#\n",
    "#.#.#...#...#.#...#...#.#.#.#.....#.#.#.#.#.#...#.......#.#.#...#...#.....#...#.#\n",
    "#.#.###.###.#.#.###.#.#.#.###.###.###.###.#.#####.#######.#.#.#####.#.#.#.#.###.#\n",
    "#.#.#.....#.#.#.....#g#...#...#.#...#...#.#.......#...#...#.#...#.#.#.#.#.#.....#\n",
    "#.#.#######.#.#######.###.#.###.###.###.#.#########.###.###.###.#.#.#.#.#######.#\n",
    "#...#.....#.#.#.....#.#...#.......#.#...#.....#.......#.#.#...#...#.#.#.......#.#\n",
    "#.###.###.#.#.#.###.#.###########.#.#.###.###.#.#####.#.#.###.#####.#.#######.#.#\n",
    "#.....#.....#...#...#.A...........#.........#.......#.R.....#.......#.......#...#\n",
    "#######################################.@.#######################################\n",
    "#.....#.........#...........#......r#...........#.#...#.............#.......#...#\n",
    "###.###.#.#######.#.#######.#.#####.###.#.#.###.#.#.#.#.#######.###.#.#####.###.#\n",
    "#...#...#.........#...#...#.#.....#.....#.#...#...#.#...#...#...#.#.#.....#.....#\n",
    "#.###.###############.#.###.#.###.#####.#.###.#####.#######.#.###.#.#####.#######\n",
    "#.....#.......#.#.....#...#.#.#...#.....#.#.#.#.....#.......#.#...#.....#.......#\n",
    "#.#######.###.#.#.#######.#.###.#.#######.#.#.#.#########.###.#.#######G#.#####.#\n",
    "#.....#...#.#...#.#.......#...#.#.#.....#...#.#.#.....#..a#...#.#.....#.#i....#.#\n",
    "#####.#.###.###.#.###.#.#####.#.###.###.#####.#.###.#.#.#.#.###.#.###.#.#######.#\n",
    "#...#.#.#.....#.#...#.#.#.....#.....#...#...#.......#...#.#.#.....#.#.........#.#\n",
    "#.#.#.#.#.#####.###.#.###.###########.###.#.#.#############.#.#####.#########.#.#\n",
    "#.#.#.#.#.......#...#.....#.....#...#...#.#.#.#.............#.......#...#.....O.#\n",
    "#.#.#.#.#########.#######.#.###.#.#.###.#.#.###.###########.#########.#.#######.#\n",
    "#.#.#e#.........#.#.....#...#...#.#.....#.#.#...#...........#.......#.#.....#...#\n",
    "###.#.#########.#.#.###.#####P###.#######.#.#.#########.#####.#####.#.#####.#.###\n",
    "#...#.......#...#...#.#.#...#...#...#...#.#...#.......#.#w....#f..#...#...#.#...#\n",
    "#.#.#######.#.#######.#.#.#####.#.#.#.#.#.#.###.#####.###.###.#.#.#####.#.#.#####\n",
    "#.#.#...#...#.........#.#...#...#.#...#.#.#.#.......#.#...#...#.#...#...#.#.#...#\n",
    "#.#.#.###.#######.###.#.#.#.#.###.#####.#.###.#######.#.#######.###.#.###.#.#.#.#\n",
    "#.#...#...#.....#...#.#.#.#...#..o..#...#...#...#...#.#...#...F.#...#...#.#...#.#\n",
    "#.#####.###.###.###.###.#####.#####.#.#.#.#.#.###.#.#.###.#.#####L###.#.#.#####.#\n",
    "#.......#...#.#.#...#.#.....#.....#.#.#.#.#...#...#.#.#...#...#...#...#.#.....#.#\n",
    "#K#######.#.#.#.#.###.#####.#####X###.#.#######.###.#.#.#######.#####.#.#######.#\n",
    "#....j..#.#.#.....#...#.....#...#...#.#.#.......#...#.#.....#...#.S.#.#.........#\n",
    "#######.###.#####.#.###.#####.#.###.#.###.#######.###.#####.#.###.#.#.###########\n",
    "#.....#...#.....#.#...#.......#...#.#...#.....#.#.#.......#.#l....#.#.#...#.....#\n",
    "#T#.#####.#####.#####.#.#########.#.###.#.###.#.#.#####.#.#.#######.#.#.###.###.#\n",
    "#.#.....#.#.....#.....#.#.......#.#.#...#c#.#.#.....#...#.#...Z.#...#.#.....#...#\n",
    "#.###.###.#.#.###.#####.#.#####.#.#.#.#.#.#.#.#####.#.#######.###.###.#.#####.#.#\n",
    "#...#...#...#.#...#...#...#...#.#.#.#.#.#...#.....#...#.....#.#s..#...#.#.#...#.#\n",
    "###.###.#.#####.###.###.###.#.###.#.#.###.#######.###.#.#.###.#.###.###Q#.#.#####\n",
    "#.#.#.#.#.#...#...#...#.#...#.....#.#...#.#.....#.#...#.#.#...#.V.#.#...#.#.....#\n",
    "#.#.#.#.#.#.#.###.#.#.#.#.#########.###.#.#.###.#.#####.#.#.#####.#.#.###.#####.#\n",
    "#...#.#...#.#...#.#.#.#.#...#...#...#...#.#...#y..#...#.#.#.......#.#.#.......#.#\n",
    "#.###.#####.###.#.###.#.###.#.###.###.#.#####.#####.#.#.#.#########.#.#.#.#####.#\n",
    "#.#.....#...#.#...#...#.#...#.#.D.#.U.#.#.....#...#.#.#.#.......#...#..b#.#.....#\n",
    "#.#####.#.###.#####.###.#.###.#.###.###.#.#####.#.#.#.#.#######.#.#######.#.###.#\n",
    "#.H...#.#...#...........#.#...#.#.....#.#m......#...#...#.......#.#...#...#.#...#\n",
    "#####.#.###.#############.#.#.#.#####.#.#.###############.#######.#.#.#####.#.###\n",
    "#..q......#...............#.#.........#.#...............#...........#.......#..h#\n",
    "#################################################################################\n",
    "\"\"\"\n",
    "))"
   ]
  },
  {
   "cell_type": "code",
   "execution_count": 4,
   "metadata": {},
   "outputs": [],
   "source": [
    "def get_min_len(map_):\n",
    "    map_ = [[v for v in line] for line in map_.splitlines() if line]\n",
    "    result = compute_path(map_)\n",
    "    keys_count = count_keys(map_)\n",
    "\n",
    "    min_path = None\n",
    "    for path in result:\n",
    "        if len(path[-1][2]) != keys_count:\n",
    "            continue\n",
    "\n",
    "        if min_path is None:\n",
    "            min_path = len(path)\n",
    "        \n",
    "    return min_path"
   ]
  },
  {
   "cell_type": "code",
   "execution_count": 10,
   "metadata": {},
   "outputs": [
    {
     "data": {
      "text/plain": [
       "9"
      ]
     },
     "execution_count": 10,
     "metadata": {},
     "output_type": "execute_result"
    }
   ],
   "source": [
    "get_min_len(\"\"\"\n",
    "#########\n",
    "#b.A.@.a#\n",
    "#########\n",
    "\"\"\")"
   ]
  },
  {
   "cell_type": "code",
   "execution_count": 25,
   "metadata": {},
   "outputs": [
    {
     "name": "stdout",
     "output_type": "stream",
     "text": [
      "CPU times: user 5.25 ms, sys: 0 ns, total: 5.25 ms\n",
      "Wall time: 5.14 ms\n"
     ]
    },
    {
     "data": {
      "text/plain": [
       "133"
      ]
     },
     "execution_count": 25,
     "metadata": {},
     "output_type": "execute_result"
    }
   ],
   "source": [
    "%%time\n",
    "\n",
    "get_min_len(\"\"\"\n",
    "########################\n",
    "#...............bCCDD.f#\n",
    "#.######################\n",
    "#.....@.aBB.c.dAA.eFF.g#\n",
    "########################\n",
    "\"\"\")  # 132"
   ]
  },
  {
   "cell_type": "markdown",
   "metadata": {},
   "source": [
    "We get 133 because we can the origin."
   ]
  },
  {
   "cell_type": "code",
   "execution_count": 30,
   "metadata": {},
   "outputs": [
    {
     "ename": "KeyboardInterrupt",
     "evalue": "",
     "output_type": "error",
     "traceback": [
      "\u001b[0;31m---------------------------------------------------------------------------\u001b[0m",
      "\u001b[0;31mKeyboardInterrupt\u001b[0m                         Traceback (most recent call last)",
      "\u001b[0;32m<timed eval>\u001b[0m in \u001b[0;36m<module>\u001b[0;34m\u001b[0m\n",
      "\u001b[0;32m<ipython-input-3-f2596275875f>\u001b[0m in \u001b[0;36mget_min_len\u001b[0;34m(map_)\u001b[0m\n\u001b[1;32m      1\u001b[0m \u001b[0;32mdef\u001b[0m \u001b[0mget_min_len\u001b[0m\u001b[0;34m(\u001b[0m\u001b[0mmap_\u001b[0m\u001b[0;34m)\u001b[0m\u001b[0;34m:\u001b[0m\u001b[0;34m\u001b[0m\u001b[0;34m\u001b[0m\u001b[0m\n\u001b[1;32m      2\u001b[0m     \u001b[0mmap_\u001b[0m \u001b[0;34m=\u001b[0m \u001b[0;34m[\u001b[0m\u001b[0;34m[\u001b[0m\u001b[0mv\u001b[0m \u001b[0;32mfor\u001b[0m \u001b[0mv\u001b[0m \u001b[0;32min\u001b[0m \u001b[0mline\u001b[0m\u001b[0;34m]\u001b[0m \u001b[0;32mfor\u001b[0m \u001b[0mline\u001b[0m \u001b[0;32min\u001b[0m \u001b[0mmap_\u001b[0m\u001b[0;34m.\u001b[0m\u001b[0msplitlines\u001b[0m\u001b[0;34m(\u001b[0m\u001b[0;34m)\u001b[0m \u001b[0;32mif\u001b[0m \u001b[0mline\u001b[0m\u001b[0;34m]\u001b[0m\u001b[0;34m\u001b[0m\u001b[0;34m\u001b[0m\u001b[0m\n\u001b[0;32m----> 3\u001b[0;31m     \u001b[0mresult\u001b[0m \u001b[0;34m=\u001b[0m \u001b[0mcompute_path\u001b[0m\u001b[0;34m(\u001b[0m\u001b[0mmap_\u001b[0m\u001b[0;34m)\u001b[0m\u001b[0;34m\u001b[0m\u001b[0;34m\u001b[0m\u001b[0m\n\u001b[0m\u001b[1;32m      4\u001b[0m     \u001b[0mkeys_count\u001b[0m \u001b[0;34m=\u001b[0m \u001b[0mcount_keys\u001b[0m\u001b[0;34m(\u001b[0m\u001b[0mmap_\u001b[0m\u001b[0;34m)\u001b[0m\u001b[0;34m\u001b[0m\u001b[0;34m\u001b[0m\u001b[0m\n\u001b[1;32m      5\u001b[0m \u001b[0;34m\u001b[0m\u001b[0m\n",
      "\u001b[0;32m<ipython-input-14-a4540387ff08>\u001b[0m in \u001b[0;36mcompute_path\u001b[0;34m(map_)\u001b[0m\n\u001b[1;32m     19\u001b[0m \u001b[0;34m\u001b[0m\u001b[0m\n\u001b[1;32m     20\u001b[0m     \u001b[0;32mwhile\u001b[0m \u001b[0;32mTrue\u001b[0m\u001b[0;34m:\u001b[0m\u001b[0;34m\u001b[0m\u001b[0;34m\u001b[0m\u001b[0m\n\u001b[0;32m---> 21\u001b[0;31m         \u001b[0mcandidates\u001b[0m\u001b[0;34m.\u001b[0m\u001b[0msort\u001b[0m\u001b[0;34m(\u001b[0m\u001b[0mkey\u001b[0m\u001b[0;34m=\u001b[0m\u001b[0;32mlambda\u001b[0m \u001b[0mp\u001b[0m\u001b[0;34m:\u001b[0m \u001b[0;34m(\u001b[0m\u001b[0mlen\u001b[0m\u001b[0;34m(\u001b[0m\u001b[0mp\u001b[0m\u001b[0;34m)\u001b[0m\u001b[0;34m,\u001b[0m \u001b[0;34m-\u001b[0m\u001b[0mlen\u001b[0m\u001b[0;34m(\u001b[0m\u001b[0mp\u001b[0m\u001b[0;34m[\u001b[0m\u001b[0;34m-\u001b[0m\u001b[0;36m1\u001b[0m\u001b[0;34m]\u001b[0m\u001b[0;34m[\u001b[0m\u001b[0;36m2\u001b[0m\u001b[0;34m]\u001b[0m\u001b[0;34m)\u001b[0m\u001b[0;34m)\u001b[0m\u001b[0;34m)\u001b[0m\u001b[0;34m\u001b[0m\u001b[0;34m\u001b[0m\u001b[0m\n\u001b[0m\u001b[1;32m     22\u001b[0m         \u001b[0;32mtry\u001b[0m\u001b[0;34m:\u001b[0m\u001b[0;34m\u001b[0m\u001b[0;34m\u001b[0m\u001b[0m\n\u001b[1;32m     23\u001b[0m             \u001b[0mpath\u001b[0m \u001b[0;34m=\u001b[0m \u001b[0mcandidates\u001b[0m\u001b[0;34m.\u001b[0m\u001b[0mpop\u001b[0m\u001b[0;34m(\u001b[0m\u001b[0;36m0\u001b[0m\u001b[0;34m)\u001b[0m\u001b[0;34m\u001b[0m\u001b[0;34m\u001b[0m\u001b[0m\n",
      "\u001b[0;32m<ipython-input-14-a4540387ff08>\u001b[0m in \u001b[0;36m<lambda>\u001b[0;34m(p)\u001b[0m\n\u001b[1;32m     19\u001b[0m \u001b[0;34m\u001b[0m\u001b[0m\n\u001b[1;32m     20\u001b[0m     \u001b[0;32mwhile\u001b[0m \u001b[0;32mTrue\u001b[0m\u001b[0;34m:\u001b[0m\u001b[0;34m\u001b[0m\u001b[0;34m\u001b[0m\u001b[0m\n\u001b[0;32m---> 21\u001b[0;31m         \u001b[0mcandidates\u001b[0m\u001b[0;34m.\u001b[0m\u001b[0msort\u001b[0m\u001b[0;34m(\u001b[0m\u001b[0mkey\u001b[0m\u001b[0;34m=\u001b[0m\u001b[0;32mlambda\u001b[0m \u001b[0mp\u001b[0m\u001b[0;34m:\u001b[0m \u001b[0;34m(\u001b[0m\u001b[0mlen\u001b[0m\u001b[0;34m(\u001b[0m\u001b[0mp\u001b[0m\u001b[0;34m)\u001b[0m\u001b[0;34m,\u001b[0m \u001b[0;34m-\u001b[0m\u001b[0mlen\u001b[0m\u001b[0;34m(\u001b[0m\u001b[0mp\u001b[0m\u001b[0;34m[\u001b[0m\u001b[0;34m-\u001b[0m\u001b[0;36m1\u001b[0m\u001b[0;34m]\u001b[0m\u001b[0;34m[\u001b[0m\u001b[0;36m2\u001b[0m\u001b[0;34m]\u001b[0m\u001b[0;34m)\u001b[0m\u001b[0;34m)\u001b[0m\u001b[0;34m)\u001b[0m\u001b[0;34m\u001b[0m\u001b[0;34m\u001b[0m\u001b[0m\n\u001b[0m\u001b[1;32m     22\u001b[0m         \u001b[0;32mtry\u001b[0m\u001b[0;34m:\u001b[0m\u001b[0;34m\u001b[0m\u001b[0;34m\u001b[0m\u001b[0m\n\u001b[1;32m     23\u001b[0m             \u001b[0mpath\u001b[0m \u001b[0;34m=\u001b[0m \u001b[0mcandidates\u001b[0m\u001b[0;34m.\u001b[0m\u001b[0mpop\u001b[0m\u001b[0;34m(\u001b[0m\u001b[0;36m0\u001b[0m\u001b[0;34m)\u001b[0m\u001b[0;34m\u001b[0m\u001b[0;34m\u001b[0m\u001b[0m\n",
      "\u001b[0;31mKeyboardInterrupt\u001b[0m: "
     ]
    }
   ],
   "source": [
    "%%time\n",
    "\n",
    "get_min_len(\"\"\"\n",
    "#################\n",
    "#i.GGGc...eHHH.p#\n",
    "########.########\n",
    "#j.AAAb...fDDD.o#\n",
    "########@########\n",
    "#k.EEEa...gBBB.n#\n",
    "########.########\n",
    "#l.FFFd...hCCC.m#\n",
    "#################\n",
    "\"\"\")"
   ]
  }
 ],
 "metadata": {
  "kernelspec": {
   "display_name": "Python 3",
   "language": "python",
   "name": "python3"
  },
  "language_info": {
   "codemirror_mode": {
    "name": "ipython",
    "version": 3
   },
   "file_extension": ".py",
   "mimetype": "text/x-python",
   "name": "python",
   "nbconvert_exporter": "python",
   "pygments_lexer": "ipython3",
   "version": "3.7.3"
  }
 },
 "nbformat": 4,
 "nbformat_minor": 4
}
