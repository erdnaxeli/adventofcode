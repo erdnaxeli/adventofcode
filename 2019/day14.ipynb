{
 "cells": [
  {
   "cell_type": "markdown",
   "metadata": {},
   "source": [
    "# Day 14\n",
    "\n",
    "## Part 1\n",
    "\n",
    "We are low on fuel!\n",
    "Luckyly there are raw materials on the plante next to us.\n",
    "\n",
    "Given some chemical reactions `X1*A1, X2*A2, ..., XN*AN => Y*B`, we need to compute how many ORE (the raw material) we need to produce some fuel.\n",
    "\n",
    "For example, given the reactions:\n",
    "```\n",
    "10 ORE => 10 A\n",
    "1 ORE => 1 B\n",
    "7 A, 1 B => 1 C\n",
    "7 A, 1 C => 1 D\n",
    "7 A, 1 D => 1 E\n",
    "7 A, 1 E => 1 FUEL\n",
    "```\n",
    "\n",
    "We need 31 ORE to produce 1 FUEL."
   ]
  },
  {
   "cell_type": "code",
   "execution_count": 1,
   "metadata": {},
   "outputs": [],
   "source": [
    "import re\n",
    "\n",
    "component_re = re.compile(r\"(\\d+) ([A-Z]+)\")\n",
    "\n",
    "def parse_reactions(input_):\n",
    "    reactions = {}\n",
    "    for line in input_.splitlines():\n",
    "        if not line:\n",
    "            continue\n",
    "\n",
    "        matches = component_re.findall(line)\n",
    "        result_match = matches.pop()\n",
    "        \n",
    "        result_quantity = int(result_match[0])\n",
    "        result_component = result_match[1]\n",
    "        \n",
    "        components = [\n",
    "            {\"quantity\": int(m[0]), \"component\": m[1]}\n",
    "            for m in matches\n",
    "        ]\n",
    "        reactions[result_component] = {\n",
    "            \"quantity\": result_quantity,\n",
    "            \"components\": components,\n",
    "        }\n",
    "        \n",
    "    return reactions"
   ]
  },
  {
   "cell_type": "code",
   "execution_count": 2,
   "metadata": {},
   "outputs": [
    {
     "name": "stdout",
     "output_type": "stream",
     "text": [
      "{'A': {'components': [{'component': 'ORE', 'quantity': 10}], 'quantity': 10},\n",
      " 'B': {'components': [{'component': 'ORE', 'quantity': 1}], 'quantity': 1},\n",
      " 'C': {'components': [{'component': 'A', 'quantity': 7},\n",
      "                      {'component': 'B', 'quantity': 1}],\n",
      "       'quantity': 1},\n",
      " 'D': {'components': [{'component': 'A', 'quantity': 7},\n",
      "                      {'component': 'C', 'quantity': 1}],\n",
      "       'quantity': 1},\n",
      " 'E': {'components': [{'component': 'A', 'quantity': 7},\n",
      "                      {'component': 'D', 'quantity': 1}],\n",
      "       'quantity': 1},\n",
      " 'FUEL': {'components': [{'component': 'A', 'quantity': 7},\n",
      "                         {'component': 'E', 'quantity': 1}],\n",
      "          'quantity': 1}}\n"
     ]
    }
   ],
   "source": [
    "from pprint import pprint\n",
    "\n",
    "reactions = parse_reactions(\"\"\"\n",
    "10 ORE => 10 A\n",
    "1 ORE => 1 B\n",
    "7 A, 1 B => 1 C\n",
    "7 A, 1 C => 1 D\n",
    "7 A, 1 D => 1 E\n",
    "7 A, 1 E => 1 FUEL\n",
    "\"\"\")\n",
    "\n",
    "pprint(reactions)"
   ]
  },
  {
   "cell_type": "code",
   "execution_count": 3,
   "metadata": {},
   "outputs": [],
   "source": [
    "from collections import defaultdict\n",
    "from math import ceil\n",
    "\n",
    "def compute_quantities(wanted_component, wanted_quantity, reactions, storage=None):\n",
    "    \"\"\"Return the quantity of ORE needed to producte a component.\"\"\"\n",
    "    #print(wanted_component, wanted_quantity, dict(storage or {}))\n",
    "    if wanted_component == \"ORE\":\n",
    "        # It's free\n",
    "        return wanted_quantity, storage\n",
    "\n",
    "    if storage is None:\n",
    "        storage = defaultdict(lambda: 0)\n",
    "\n",
    "    recipe = reactions[wanted_component]\n",
    "    components = recipe[\"components\"]\n",
    "\n",
    "    ore_quantity = 0\n",
    "    quantity_mult = ceil(wanted_quantity / recipe[\"quantity\"])\n",
    "\n",
    "    for component in components:\n",
    "        needed_quantity =  quantity_mult * component[\"quantity\"]\n",
    "        \n",
    "        \n",
    "        if storage[component[\"component\"]] >= needed_quantity:\n",
    "            storage[component[\"component\"]] -= needed_quantity\n",
    "            continue\n",
    "        else:\n",
    "            needed_quantity -= storage[component[\"component\"]]\n",
    "            storage[component[\"component\"]] = 0\n",
    "\n",
    "        component_ore_quantity, storage = compute_quantities(\n",
    "            component[\"component\"],\n",
    "            needed_quantity,\n",
    "            reactions,\n",
    "            storage,\n",
    "        )\n",
    "        \n",
    "        ore_quantity += component_ore_quantity\n",
    "        \n",
    "    total_produced = quantity_mult * recipe[\"quantity\"]\n",
    "    if total_produced > wanted_quantity:\n",
    "        storage[wanted_component] += total_produced - wanted_quantity\n",
    "        \n",
    "    return ore_quantity, storage"
   ]
  },
  {
   "cell_type": "code",
   "execution_count": 4,
   "metadata": {},
   "outputs": [],
   "source": [
    "def compute_fuel(reactions):\n",
    "    q, _ = compute_quantities(\"FUEL\", 1, reactions)\n",
    "    return q"
   ]
  },
  {
   "cell_type": "code",
   "execution_count": 5,
   "metadata": {},
   "outputs": [
    {
     "data": {
      "text/plain": [
       "31"
      ]
     },
     "execution_count": 5,
     "metadata": {},
     "output_type": "execute_result"
    }
   ],
   "source": [
    "compute_fuel(reactions)"
   ]
  },
  {
   "cell_type": "code",
   "execution_count": 6,
   "metadata": {},
   "outputs": [
    {
     "data": {
      "text/plain": [
       "165"
      ]
     },
     "execution_count": 6,
     "metadata": {},
     "output_type": "execute_result"
    }
   ],
   "source": [
    "# should return 165\n",
    "compute_fuel(parse_reactions(\"\"\"\n",
    "9 ORE => 2 A\n",
    "8 ORE => 3 B\n",
    "7 ORE => 5 C\n",
    "3 A, 4 B => 1 AB\n",
    "5 B, 7 C => 1 BC\n",
    "4 C, 1 A => 1 CA\n",
    "2 AB, 3 BC, 4 CA => 1 FUEL\n",
    "\"\"\"))"
   ]
  },
  {
   "cell_type": "code",
   "execution_count": 7,
   "metadata": {},
   "outputs": [
    {
     "data": {
      "text/plain": [
       "13312"
      ]
     },
     "execution_count": 7,
     "metadata": {},
     "output_type": "execute_result"
    }
   ],
   "source": [
    "# should return 13312\n",
    "compute_fuel(parse_reactions(\"\"\"\n",
    "157 ORE => 5 NZVS\n",
    "165 ORE => 6 DCFZ\n",
    "44 XJWVT, 5 KHKGT, 1 QDVJ, 29 NZVS, 9 GPVTF, 48 HKGWZ => 1 FUEL\n",
    "12 HKGWZ, 1 GPVTF, 8 PSHF => 9 QDVJ\n",
    "179 ORE => 7 PSHF\n",
    "177 ORE => 5 HKGWZ\n",
    "7 DCFZ, 7 PSHF => 2 XJWVT\n",
    "165 ORE => 2 GPVTF\n",
    "3 DCFZ, 7 NZVS, 5 HKGWZ, 10 PSHF => 8 KHKGT\n",
    "\"\"\"))"
   ]
  },
  {
   "cell_type": "code",
   "execution_count": 8,
   "metadata": {},
   "outputs": [
    {
     "data": {
      "text/plain": [
       "180697"
      ]
     },
     "execution_count": 8,
     "metadata": {},
     "output_type": "execute_result"
    }
   ],
   "source": [
    "# 180967\n",
    "compute_fuel(parse_reactions(\"\"\"\n",
    "2 VPVL, 7 FWMGM, 2 CXFTF, 11 MNCFX => 1 STKFG\n",
    "17 NVRVD, 3 JNWZP => 8 VPVL\n",
    "53 STKFG, 6 MNCFX, 46 VJHF, 81 HVMC, 68 CXFTF, 25 GNMV => 1 FUEL\n",
    "22 VJHF, 37 MNCFX => 5 FWMGM\n",
    "139 ORE => 4 NVRVD\n",
    "144 ORE => 7 JNWZP\n",
    "5 MNCFX, 7 RFSQX, 2 FWMGM, 2 VPVL, 19 CXFTF => 3 HVMC\n",
    "5 VJHF, 7 MNCFX, 9 VPVL, 37 CXFTF => 6 GNMV\n",
    "145 ORE => 6 MNCFX\n",
    "1 NVRVD => 8 CXFTF\n",
    "1 VJHF, 6 MNCFX => 4 RFSQX\n",
    "176 ORE => 6 VJHF\n",
    "\"\"\"))"
   ]
  },
  {
   "cell_type": "code",
   "execution_count": 9,
   "metadata": {},
   "outputs": [
    {
     "data": {
      "text/plain": [
       "2210736"
      ]
     },
     "execution_count": 9,
     "metadata": {},
     "output_type": "execute_result"
    }
   ],
   "source": [
    "# 2210736\n",
    "compute_fuel(parse_reactions(\"\"\"\n",
    "171 ORE => 8 CNZTR\n",
    "7 ZLQW, 3 BMBT, 9 XCVML, 26 XMNCP, 1 WPTQ, 2 MZWV, 1 RJRHP => 4 PLWSL\n",
    "114 ORE => 4 BHXH\n",
    "14 VRPVC => 6 BMBT\n",
    "6 BHXH, 18 KTJDG, 12 WPTQ, 7 PLWSL, 31 FHTLT, 37 ZDVW => 1 FUEL\n",
    "6 WPTQ, 2 BMBT, 8 ZLQW, 18 KTJDG, 1 XMNCP, 6 MZWV, 1 RJRHP => 6 FHTLT\n",
    "15 XDBXC, 2 LTCX, 1 VRPVC => 6 ZLQW\n",
    "13 WPTQ, 10 LTCX, 3 RJRHP, 14 XMNCP, 2 MZWV, 1 ZLQW => 1 ZDVW\n",
    "5 BMBT => 4 WPTQ\n",
    "189 ORE => 9 KTJDG\n",
    "1 MZWV, 17 XDBXC, 3 XCVML => 2 XMNCP\n",
    "12 VRPVC, 27 CNZTR => 2 XDBXC\n",
    "15 KTJDG, 12 BHXH => 5 XCVML\n",
    "3 BHXH, 2 VRPVC => 7 MZWV\n",
    "121 ORE => 7 VRPVC\n",
    "7 XCVML => 6 RJRHP\n",
    "5 BHXH, 4 VRPVC => 5 LTCX\n",
    "\"\"\"))"
   ]
  },
  {
   "cell_type": "code",
   "execution_count": 10,
   "metadata": {},
   "outputs": [
    {
     "name": "stdout",
     "output_type": "stream",
     "text": [
      "CPU times: user 6.68 ms, sys: 0 ns, total: 6.68 ms\n",
      "Wall time: 6.33 ms\n"
     ]
    },
    {
     "data": {
      "text/plain": [
       "857266"
      ]
     },
     "execution_count": 10,
     "metadata": {},
     "output_type": "execute_result"
    }
   ],
   "source": [
    "%%time\n",
    "\n",
    "reactions = parse_reactions(\"\"\"\n",
    "4 NZGF => 6 WBMZG\n",
    "20 FWMN, 2 QTMF, 5 FMVDV, 1 CVBPJ, 2 KVJK, 20 XSTBX, 7 NBFS => 5 SHPSF\n",
    "7 LVQM => 5 NXDHX\n",
    "1 FNDMP, 1 QZJV, 12 RMTG => 7 JBFW\n",
    "10 GKVF, 1 NXDHX => 8 NZGF\n",
    "12 QZJV => 8 RSMC\n",
    "8 RWTD => 7 NBFS\n",
    "4 CZGXS, 25 QTMF, 2 PHFQB => 3 BWQN\n",
    "3 WQZD => 9 CTZKV\n",
    "2 DCTQ, 18 CTZKV => 4 QLHZW\n",
    "31 QLHZW, 11 FNDMP => 6 WFDXN\n",
    "8 RLQC => 2 ZPJS\n",
    "2 SWSQG, 13 CVBPJ => 9 DWCND\n",
    "7 PBXB, 6 HKSWM, 4 BDPC, 4 KVJK, 2 ZLGKH, 9 LXFG, 1 ZPJS => 4 SWCWH\n",
    "6 QZJV => 7 RLQC\n",
    "3 QZJV, 11 MRQHX, 15 GKVF => 4 FMVDV\n",
    "3 NXDHX, 1 GKNQL => 3 VMDS\n",
    "1 VMDS => 2 RHSQ\n",
    "13 GKNQL, 4 NXDHX, 2 GKVF => 8 MRQHX\n",
    "4 PVRN => 2 WBSL\n",
    "2 CVBPJ => 9 PVRN\n",
    "3 FNDMP => 9 BZKC\n",
    "180 ORE => 6 FWMN\n",
    "13 DCTQ, 2 RHSQ => 5 CVBPJ\n",
    "1 DWCND, 12 BZKC, 2 WBRBV => 6 HTLZ\n",
    "1 LMGL, 11 XDVL, 7 DWCND => 5 ZLGKH\n",
    "3 FMFTD => 3 HKSWM\n",
    "1 FNDMP, 5 RMTG, 3 QLHZW => 9 CZGXS\n",
    "7 DCTQ => 3 FNDMP\n",
    "1 SHPSF, 2 SWCWH, 40 WFDXN, 67 WBMZG, 53 WBSL, 2 CQJDJ, 41 BWQN, 12 GMQVW, 48 PDRJ, 42 RSMC => 1 FUEL\n",
    "3 VMDS, 1 BHRZ => 9 DCTQ\n",
    "22 DCTQ, 4 NZGF => 7 RMTG\n",
    "29 RWTD, 3 FMFTD => 5 LMGL\n",
    "12 WBRBV, 13 PDRJ, 36 RSRG => 4 LXFG\n",
    "1 SWSQG, 2 NLPB => 3 WBRBV\n",
    "7 HTKLM, 8 CTZKV => 2 RWTD\n",
    "4 BQXL, 1 FWMN => 9 GKNQL\n",
    "4 WFDXN => 9 HTKLM\n",
    "2 XDVL => 5 QTMF\n",
    "1 PHFQB, 21 LMGL, 2 SWSQG => 7 GMQVW\n",
    "23 CZGXS, 11 FMVDV => 3 PDRJ\n",
    "1 DWCND, 1 NPMXR, 1 RSRG, 1 JBFW, 12 VXWKZ, 9 KVJK => 4 CQJDJ\n",
    "106 ORE => 4 BQXL\n",
    "4 PHFQB => 8 NPMXR\n",
    "1 GKNQL => 8 WQZD\n",
    "6 BDPC => 2 PHFQB\n",
    "1 DWCND => 7 PBXB\n",
    "1 RSMC, 1 PDRJ => 8 SWSQG\n",
    "1 LVQM => 4 BHRZ\n",
    "7 CVBPJ, 1 SWSQG, 1 NLPB => 2 VXWKZ\n",
    "1 BHRZ, 1 JBFW => 6 XDVL\n",
    "12 LMGL, 8 RWTD => 4 XSTBX\n",
    "4 RSMC => 6 BDPC\n",
    "1 BHRZ, 5 NXDHX => 3 GKVF\n",
    "6 FMVDV, 6 VXWKZ, 37 CVBPJ => 5 KVJK\n",
    "7 NLPB, 3 HTLZ => 4 RSRG\n",
    "1 PDRJ => 1 FMFTD\n",
    "6 RHSQ, 1 NZGF => 5 QZJV\n",
    "127 ORE => 3 LVQM\n",
    "3 RHSQ, 2 RLQC, 1 WFDXN => 1 NLPB\n",
    "\"\"\")\n",
    "\n",
    "compute_fuel(reactions)"
   ]
  },
  {
   "cell_type": "markdown",
   "metadata": {},
   "source": [
    "## Part 2\n",
    "\n",
    "We want to know how much fuel we can produce with 1 trilion (1000000000000) ORE.\n",
    "\n",
    "It is probably totally sub optimal, but I would process by guessing."
   ]
  },
  {
   "cell_type": "code",
   "execution_count": 11,
   "metadata": {},
   "outputs": [
    {
     "data": {
      "text/plain": [
       "1166499.0796322261"
      ]
     },
     "execution_count": 11,
     "metadata": {},
     "output_type": "execute_result"
    }
   ],
   "source": [
    "1000000000000 / 857266"
   ]
  },
  {
   "cell_type": "code",
   "execution_count": 12,
   "metadata": {},
   "outputs": [
    {
     "data": {
      "text/plain": [
       "543897956844"
      ]
     },
     "execution_count": 12,
     "metadata": {},
     "output_type": "execute_result"
    }
   ],
   "source": [
    "q, _ = compute_quantities(\"FUEL\", 1166499, reactions)\n",
    "q"
   ]
  },
  {
   "cell_type": "code",
   "execution_count": 13,
   "metadata": {},
   "outputs": [
    {
     "data": {
      "text/plain": [
       "999999752281"
      ]
     },
     "execution_count": 13,
     "metadata": {},
     "output_type": "execute_result"
    }
   ],
   "source": [
    "q, _ = compute_quantities(\"FUEL\", 2144702, reactions)\n",
    "q"
   ]
  },
  {
   "cell_type": "code",
   "execution_count": 14,
   "metadata": {},
   "outputs": [
    {
     "data": {
      "text/plain": [
       "1000000280269"
      ]
     },
     "execution_count": 14,
     "metadata": {},
     "output_type": "execute_result"
    }
   ],
   "source": [
    "q, _ = compute_quantities(\"FUEL\", 2144703, reactions)\n",
    "q"
   ]
  }
 ],
 "metadata": {
  "kernelspec": {
   "display_name": "Python 3",
   "language": "python",
   "name": "python3"
  },
  "language_info": {
   "codemirror_mode": {
    "name": "ipython",
    "version": 3
   },
   "file_extension": ".py",
   "mimetype": "text/x-python",
   "name": "python",
   "nbconvert_exporter": "python",
   "pygments_lexer": "ipython3",
   "version": "3.6.7"
  }
 },
 "nbformat": 4,
 "nbformat_minor": 4
}
