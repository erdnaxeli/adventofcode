{
 "cells": [
  {
   "cell_type": "markdown",
   "metadata": {},
   "source": [
    "# Day 12\n",
    "\n",
    "## Part 1"
   ]
  },
  {
   "cell_type": "code",
   "execution_count": 1,
   "metadata": {},
   "outputs": [],
   "source": [
    "from collections import namedtuple\n",
    "\n",
    "Point = namedtuple(\"Point\", (\"x\", \"y\", \"z\"))"
   ]
  },
  {
   "cell_type": "code",
   "execution_count": 2,
   "metadata": {},
   "outputs": [],
   "source": [
    "def cmp(a, b):\n",
    "    \"\"\"Return -1, 0 or 1 if a is less, equal or greater than b.\"\"\"\n",
    "    return (a > b) - (a < b)"
   ]
  },
  {
   "cell_type": "code",
   "execution_count": 3,
   "metadata": {},
   "outputs": [
    {
     "data": {
      "text/plain": [
       "-1"
      ]
     },
     "execution_count": 3,
     "metadata": {},
     "output_type": "execute_result"
    }
   ],
   "source": [
    "cmp(2, 3)"
   ]
  },
  {
   "cell_type": "code",
   "execution_count": 4,
   "metadata": {},
   "outputs": [
    {
     "data": {
      "text/plain": [
       "0"
      ]
     },
     "execution_count": 4,
     "metadata": {},
     "output_type": "execute_result"
    }
   ],
   "source": [
    "cmp(3, 3)"
   ]
  },
  {
   "cell_type": "code",
   "execution_count": 5,
   "metadata": {},
   "outputs": [
    {
     "data": {
      "text/plain": [
       "1"
      ]
     },
     "execution_count": 5,
     "metadata": {},
     "output_type": "execute_result"
    }
   ],
   "source": [
    "cmp(4, 3)"
   ]
  },
  {
   "cell_type": "code",
   "execution_count": 6,
   "metadata": {},
   "outputs": [],
   "source": [
    "def compute_gravity(a, b):\n",
    "    \"\"\"Compute the gravity vector applied to a by b.\"\"\"\n",
    "    return Point(\n",
    "        cmp(b.x, a.x),\n",
    "        cmp(b.y, a.y),\n",
    "        cmp(b.z, a.z),\n",
    "    )"
   ]
  },
  {
   "cell_type": "code",
   "execution_count": 7,
   "metadata": {},
   "outputs": [
    {
     "data": {
      "text/plain": [
       "Point(x=1, y=1, z=1)"
      ]
     },
     "execution_count": 7,
     "metadata": {},
     "output_type": "execute_result"
    }
   ],
   "source": [
    "compute_gravity(\n",
    "    Point(0, 0, 0),\n",
    "    Point(1, 1, 1),\n",
    ")"
   ]
  },
  {
   "cell_type": "code",
   "execution_count": 8,
   "metadata": {},
   "outputs": [
    {
     "data": {
      "text/plain": [
       "Point(x=0, y=-1, z=-1)"
      ]
     },
     "execution_count": 8,
     "metadata": {},
     "output_type": "execute_result"
    }
   ],
   "source": [
    "compute_gravity(\n",
    "    Point(1, 2, 3),\n",
    "    Point(1, -1, 0),\n",
    ")"
   ]
  },
  {
   "cell_type": "code",
   "execution_count": 9,
   "metadata": {},
   "outputs": [],
   "source": [
    "def sum_point(a, b):\n",
    "    \"\"\"Summ two points.\"\"\"\n",
    "    return Point(\n",
    "        a.x + b.x,\n",
    "        a.y + b.y,\n",
    "        a.z + b.z,\n",
    "    )"
   ]
  },
  {
   "cell_type": "code",
   "execution_count": 10,
   "metadata": {},
   "outputs": [
    {
     "data": {
      "text/plain": [
       "Point(x=0, y=6, z=3)"
      ]
     },
     "execution_count": 10,
     "metadata": {},
     "output_type": "execute_result"
    }
   ],
   "source": [
    "sum_point(\n",
    "    Point(1, 2, 3),\n",
    "    Point(-1, 4, 0),\n",
    ")"
   ]
  },
  {
   "cell_type": "code",
   "execution_count": 11,
   "metadata": {},
   "outputs": [],
   "source": [
    "def compute_velocity(point, velocity, map_):\n",
    "    \"\"\"Return the new velocity for point, applying gravity for all points in map_\"\"\"\n",
    "    for other in map_:\n",
    "        if other == point:\n",
    "            continue\n",
    "\n",
    "        gravity = compute_gravity(point, other)\n",
    "        velocity = sum_point(velocity, gravity)\n",
    "    \n",
    "    return velocity"
   ]
  },
  {
   "cell_type": "code",
   "execution_count": 12,
   "metadata": {},
   "outputs": [
    {
     "data": {
      "text/plain": [
       "Point(x=3, y=-1, z=-1)"
      ]
     },
     "execution_count": 12,
     "metadata": {},
     "output_type": "execute_result"
    }
   ],
   "source": [
    "map_ = [\n",
    "    Point(-1, 0, 2),\n",
    "    Point(2, -10, -7),\n",
    "    Point(4, -8, 8),\n",
    "    Point(3, 5, -1),\n",
    "]\n",
    "\n",
    "compute_velocity(\n",
    "    map_[0],\n",
    "    Point(0, 0, 0),\n",
    "    map_,\n",
    ")  # should return 3, -1, -1"
   ]
  },
  {
   "cell_type": "code",
   "execution_count": 13,
   "metadata": {},
   "outputs": [
    {
     "data": {
      "text/plain": [
       "Point(x=3, y=-2, z=-2)"
      ]
     },
     "execution_count": 13,
     "metadata": {},
     "output_type": "execute_result"
    }
   ],
   "source": [
    "map_ = [\n",
    "    Point(2, -1, 1),\n",
    "    Point(3, -7, -4),\n",
    "    Point(1, -7, 5),\n",
    "    Point(2, 2, 0),\n",
    "]\n",
    "\n",
    "compute_velocity(\n",
    "    map_[0],\n",
    "    Point(3, -1, -1),\n",
    "    map_,\n",
    ")  # should return 3, -2, -2"
   ]
  },
  {
   "cell_type": "code",
   "execution_count": 49,
   "metadata": {},
   "outputs": [],
   "source": [
    "def compute_new_step(map_, velocities):\n",
    "    \"\"\"Compute the next positions.\"\"\"\n",
    "    result_map = []\n",
    "    result_velocities = []\n",
    "    for point, velocity in zip(map_, velocities):\n",
    "        new_velocity = compute_velocity(point, velocity, map_)\n",
    "        new_point = sum_point(point, new_velocity)\n",
    "\n",
    "        result_map.append(new_point)\n",
    "        result_velocities.append(new_velocity)\n",
    "        \n",
    "    return result_map, result_velocities"
   ]
  },
  {
   "cell_type": "code",
   "execution_count": 58,
   "metadata": {},
   "outputs": [
    {
     "data": {
      "text/plain": [
       "([Point(x=2, y=-1, z=1),\n",
       "  Point(x=3, y=-7, z=-4),\n",
       "  Point(x=1, y=-7, z=5),\n",
       "  Point(x=2, y=2, z=0)],\n",
       " [Point(x=3, y=-1, z=-1),\n",
       "  Point(x=1, y=3, z=3),\n",
       "  Point(x=-3, y=1, z=-3),\n",
       "  Point(x=-1, y=-3, z=1)])"
      ]
     },
     "execution_count": 58,
     "metadata": {},
     "output_type": "execute_result"
    }
   ],
   "source": [
    "map_ = [\n",
    "    Point(-1, 0, 2),\n",
    "    Point(2, -10, -7),\n",
    "    Point(4, -8, 8),\n",
    "    Point(3, 5, -1),\n",
    "]\n",
    "compute_new_step(\n",
    "    map_,\n",
    "    [Point(0, 0, 0)] * 4,\n",
    ")"
   ]
  },
  {
   "cell_type": "code",
   "execution_count": 16,
   "metadata": {},
   "outputs": [],
   "source": [
    "def compute_energy(point):\n",
    "    return abs(point.x) + abs(point.y) + abs(point.z)"
   ]
  },
  {
   "cell_type": "code",
   "execution_count": 17,
   "metadata": {},
   "outputs": [],
   "source": [
    "def compute_total_energy(map_, velocities):\n",
    "    return sum(\n",
    "        compute_energy(p) * compute_energy(v) for p, v in zip(map_, velocities)\n",
    "    )"
   ]
  },
  {
   "cell_type": "code",
   "execution_count": 18,
   "metadata": {},
   "outputs": [
    {
     "data": {
      "text/plain": [
       "([Point(x=2, y=1, z=-3),\n",
       "  Point(x=1, y=-8, z=0),\n",
       "  Point(x=3, y=-6, z=1),\n",
       "  Point(x=2, y=0, z=4)],\n",
       " [Point(x=-3, y=-2, z=1),\n",
       "  Point(x=-1, y=1, z=3),\n",
       "  Point(x=3, y=2, z=-3),\n",
       "  Point(x=1, y=-1, z=-1)])"
      ]
     },
     "execution_count": 18,
     "metadata": {},
     "output_type": "execute_result"
    }
   ],
   "source": [
    "map_ = [\n",
    "    Point(-1, 0, 2),\n",
    "    Point(2, -10, -7),\n",
    "    Point(4, -8, 8),\n",
    "    Point(3, 5, -1),\n",
    "]\n",
    "velocities = [Point(0, 0, 0)] * 4\n",
    "\n",
    "for i in range(10):\n",
    "    map_, velocities = compute_new_step(map_, velocities)\n",
    "\n",
    "map_, velocities"
   ]
  },
  {
   "cell_type": "code",
   "execution_count": 19,
   "metadata": {},
   "outputs": [
    {
     "data": {
      "text/plain": [
       "179"
      ]
     },
     "execution_count": 19,
     "metadata": {},
     "output_type": "execute_result"
    }
   ],
   "source": [
    "compute_total_energy(map_, velocities)  # should return 179"
   ]
  },
  {
   "cell_type": "markdown",
   "metadata": {},
   "source": [
    "Actual data:"
   ]
  },
  {
   "cell_type": "code",
   "execution_count": 57,
   "metadata": {},
   "outputs": [
    {
     "name": "stdout",
     "output_type": "stream",
     "text": [
      "CPU times: user 39.8 ms, sys: 0 ns, total: 39.8 ms\n",
      "Wall time: 41.6 ms\n"
     ]
    },
    {
     "data": {
      "text/plain": [
       "6849"
      ]
     },
     "execution_count": 57,
     "metadata": {},
     "output_type": "execute_result"
    }
   ],
   "source": [
    "%%time\n",
    "map_ = [\n",
    "    Point(3, -6, 6),\n",
    "    Point(10, 7, -9),\n",
    "    Point(-3, -7, 9),\n",
    "    Point(-8, 0, 4),\n",
    "]\n",
    "velocities = [Point(0, 0, 0)] * 4\n",
    "\n",
    "for i in range(1000):\n",
    "    map_, velocities = compute_new_step(map_, velocities)\n",
    "    \n",
    "compute_total_energy(map_, velocities)"
   ]
  },
  {
   "cell_type": "markdown",
   "metadata": {},
   "source": [
    "## Part 2\n",
    "\n",
    "We want to known when an already seen state will append.\n",
    "But first we need to better performance."
   ]
  },
  {
   "cell_type": "code",
   "execution_count": 118,
   "metadata": {},
   "outputs": [],
   "source": [
    "from collections import defaultdict\n",
    "from itertools import combinations\n",
    "import time\n",
    "\n",
    "def compute_new_step_p2(map_, velocities):\n",
    "    \"\"\"Compute the next positions.\"\"\"\n",
    "    result_map = []\n",
    "    result_velocities = []\n",
    "    gravities = defaultdict(lambda: [])\n",
    "\n",
    "    for a, b in combinations(map_, 2):\n",
    "        g_ab = compute_gravity(a, b)\n",
    "        g_ba = Point(- g_ab.x, - g_ab.y, - g_ab.z)\n",
    "        \n",
    "        gravities[a].append(g_ab)\n",
    "        gravities[b].append(g_ba)\n",
    "    \n",
    "    for p, v in zip(map_, velocities):\n",
    "        nv = Point(\n",
    "            v.x + sum(g.x for g in gravities[p]),\n",
    "            v.y + sum(g.y for g in gravities[p]),\n",
    "            v.z + sum(g.z for g in gravities[p]),\n",
    "        )\n",
    "        result_map.append(\n",
    "            Point(\n",
    "                p.x + nv.x,\n",
    "                p.y + nv.y,\n",
    "                p.z + nv.z\n",
    "            )\n",
    "        )\n",
    "        result_velocities.append(nv)\n",
    "        \n",
    "    return result_map, result_velocities"
   ]
  },
  {
   "cell_type": "code",
   "execution_count": 121,
   "metadata": {},
   "outputs": [
    {
     "name": "stdout",
     "output_type": "stream",
     "text": [
      "29.6 ms ± 331 µs per loop (mean ± std. dev. of 7 runs, 10 loops each)\n"
     ]
    }
   ],
   "source": [
    "%%timeit\n",
    "\n",
    "map_ = [\n",
    "    Point(3, -6, 6),\n",
    "    Point(10, 7, -9),\n",
    "    Point(-3, -7, 9),\n",
    "    Point(-8, 0, 4),\n",
    "]\n",
    "velocities = [Point(0, 0, 0)] * 4\n",
    "\n",
    "for i in range(1000):\n",
    "    map_, velocities = compute_new_step_p2(map_, velocities)\n",
    "    \n",
    "compute_total_energy(map_, velocities)  # should still be 6849"
   ]
  },
  {
   "cell_type": "markdown",
   "metadata": {},
   "source": [
    "The perf is exactly the same :("
   ]
  },
  {
   "cell_type": "code",
   "execution_count": 71,
   "metadata": {},
   "outputs": [
    {
     "data": {
      "text/plain": [
       "1940"
      ]
     },
     "execution_count": 71,
     "metadata": {},
     "output_type": "execute_result"
    }
   ],
   "source": [
    "map_ = [\n",
    "    Point(-8, -10, 0),\n",
    "    Point(5, 5, 10),\n",
    "    Point(2, -7, 3),\n",
    "    Point(9, -8, -3),\n",
    "]\n",
    "velocities = [Point(0, 0, 0)] * 4\n",
    "for i in range(100):\n",
    "    map_, velocities = compute_new_step_p2(map_, velocities)\n",
    "    \n",
    "compute_total_energy(map_, velocities)  # should be 1940"
   ]
  },
  {
   "cell_type": "code",
   "execution_count": 86,
   "metadata": {},
   "outputs": [],
   "source": [
    "def find_repetition(map_):\n",
    "    map_ = tuple(map_)\n",
    "    velocities = tuple([Point(0, 0, 0)] * len(map_))\n",
    "    \n",
    "    states = set([(map_, velocities)])\n",
    "    \n",
    "    i = 0\n",
    "    while True:\n",
    "        i += 1\n",
    "        map_, velocities = compute_new_step_p2(map_, velocities)\n",
    "        map_ = tuple(map_)\n",
    "        velocities = tuple(velocities)\n",
    "\n",
    "        if (map_, velocities) in states:\n",
    "            break\n",
    "        else:\n",
    "            maps.add(map_)\n",
    "            maps_velocities.add(velocities)\n",
    "\n",
    "    return i, map_, velocities"
   ]
  },
  {
   "cell_type": "code",
   "execution_count": 87,
   "metadata": {},
   "outputs": [
    {
     "name": "stdout",
     "output_type": "stream",
     "text": [
      "CPU times: user 116 ms, sys: 3 µs, total: 116 ms\n",
      "Wall time: 115 ms\n"
     ]
    },
    {
     "data": {
      "text/plain": [
       "2772"
      ]
     },
     "execution_count": 87,
     "metadata": {},
     "output_type": "execute_result"
    }
   ],
   "source": [
    "%%time\n",
    "\n",
    "map_ = [\n",
    "    Point(-1, 0, 2),\n",
    "    Point(2, -10, -7),\n",
    "    Point(4, -8, 8),\n",
    "    Point(3, 5, -1),\n",
    "]\n",
    "i, map_, velocities = find_repetition(map_)\n",
    "i"
   ]
  },
  {
   "cell_type": "code",
   "execution_count": 88,
   "metadata": {},
   "outputs": [
    {
     "ename": "KeyboardInterrupt",
     "evalue": "",
     "output_type": "error",
     "traceback": [
      "\u001b[0;31m---------------------------------------------------------------------------\u001b[0m",
      "\u001b[0;31mKeyboardInterrupt\u001b[0m                         Traceback (most recent call last)",
      "\u001b[0;32m<timed exec>\u001b[0m in \u001b[0;36m<module>\u001b[0;34m\u001b[0m\n",
      "\u001b[0;32m<ipython-input-86-afabd0a8160d>\u001b[0m in \u001b[0;36mfind_repetition\u001b[0;34m(map_)\u001b[0m\n\u001b[1;32m      8\u001b[0m     \u001b[0;32mwhile\u001b[0m \u001b[0;32mTrue\u001b[0m\u001b[0;34m:\u001b[0m\u001b[0;34m\u001b[0m\u001b[0;34m\u001b[0m\u001b[0m\n\u001b[1;32m      9\u001b[0m         \u001b[0mi\u001b[0m \u001b[0;34m+=\u001b[0m \u001b[0;36m1\u001b[0m\u001b[0;34m\u001b[0m\u001b[0;34m\u001b[0m\u001b[0m\n\u001b[0;32m---> 10\u001b[0;31m         \u001b[0mmap_\u001b[0m\u001b[0;34m,\u001b[0m \u001b[0mvelocities\u001b[0m \u001b[0;34m=\u001b[0m \u001b[0mcompute_new_step_p2\u001b[0m\u001b[0;34m(\u001b[0m\u001b[0mmap_\u001b[0m\u001b[0;34m,\u001b[0m \u001b[0mvelocities\u001b[0m\u001b[0;34m)\u001b[0m\u001b[0;34m\u001b[0m\u001b[0;34m\u001b[0m\u001b[0m\n\u001b[0m\u001b[1;32m     11\u001b[0m         \u001b[0mmap_\u001b[0m \u001b[0;34m=\u001b[0m \u001b[0mtuple\u001b[0m\u001b[0;34m(\u001b[0m\u001b[0mmap_\u001b[0m\u001b[0;34m)\u001b[0m\u001b[0;34m\u001b[0m\u001b[0;34m\u001b[0m\u001b[0m\n\u001b[1;32m     12\u001b[0m         \u001b[0mvelocities\u001b[0m \u001b[0;34m=\u001b[0m \u001b[0mtuple\u001b[0m\u001b[0;34m(\u001b[0m\u001b[0mvelocities\u001b[0m\u001b[0;34m)\u001b[0m\u001b[0;34m\u001b[0m\u001b[0;34m\u001b[0m\u001b[0m\n",
      "\u001b[0;32m<ipython-input-55-2a06a805a726>\u001b[0m in \u001b[0;36mcompute_new_step_p2\u001b[0;34m(map_, velocities)\u001b[0m\n\u001b[1;32m     11\u001b[0m     \u001b[0;32mfor\u001b[0m \u001b[0ma\u001b[0m\u001b[0;34m,\u001b[0m \u001b[0mb\u001b[0m \u001b[0;32min\u001b[0m \u001b[0mcombinations\u001b[0m\u001b[0;34m(\u001b[0m\u001b[0mmap_\u001b[0m\u001b[0;34m,\u001b[0m \u001b[0;36m2\u001b[0m\u001b[0;34m)\u001b[0m\u001b[0;34m:\u001b[0m\u001b[0;34m\u001b[0m\u001b[0;34m\u001b[0m\u001b[0m\n\u001b[1;32m     12\u001b[0m         \u001b[0mg_ab\u001b[0m \u001b[0;34m=\u001b[0m \u001b[0mcompute_gravity\u001b[0m\u001b[0;34m(\u001b[0m\u001b[0ma\u001b[0m\u001b[0;34m,\u001b[0m \u001b[0mb\u001b[0m\u001b[0;34m)\u001b[0m\u001b[0;34m\u001b[0m\u001b[0;34m\u001b[0m\u001b[0m\n\u001b[0;32m---> 13\u001b[0;31m         \u001b[0mg_ba\u001b[0m \u001b[0;34m=\u001b[0m \u001b[0mPoint\u001b[0m\u001b[0;34m(\u001b[0m\u001b[0;34m-\u001b[0m \u001b[0mg_ab\u001b[0m\u001b[0;34m.\u001b[0m\u001b[0mx\u001b[0m\u001b[0;34m,\u001b[0m \u001b[0;34m-\u001b[0m \u001b[0mg_ab\u001b[0m\u001b[0;34m.\u001b[0m\u001b[0my\u001b[0m\u001b[0;34m,\u001b[0m \u001b[0;34m-\u001b[0m \u001b[0mg_ab\u001b[0m\u001b[0;34m.\u001b[0m\u001b[0mz\u001b[0m\u001b[0;34m)\u001b[0m\u001b[0;34m\u001b[0m\u001b[0;34m\u001b[0m\u001b[0m\n\u001b[0m\u001b[1;32m     14\u001b[0m \u001b[0;34m\u001b[0m\u001b[0m\n\u001b[1;32m     15\u001b[0m         \u001b[0mgravities\u001b[0m\u001b[0;34m[\u001b[0m\u001b[0ma\u001b[0m\u001b[0;34m]\u001b[0m\u001b[0;34m.\u001b[0m\u001b[0mappend\u001b[0m\u001b[0;34m(\u001b[0m\u001b[0mg_ab\u001b[0m\u001b[0;34m)\u001b[0m\u001b[0;34m\u001b[0m\u001b[0;34m\u001b[0m\u001b[0m\n",
      "\u001b[0;31mKeyboardInterrupt\u001b[0m: "
     ]
    }
   ],
   "source": [
    "%%time\n",
    "\n",
    "map_ = [\n",
    "    Point(-8, -10, 0),\n",
    "    Point(5, 5, 10),\n",
    "    Point(2, -7, 3),\n",
    "    Point(9, -8, -3),\n",
    "]\n",
    "i, map_, velocities = find_repetition(map_)\n",
    "i"
   ]
  },
  {
   "cell_type": "code",
   "execution_count": 73,
   "metadata": {},
   "outputs": [
    {
     "ename": "KeyboardInterrupt",
     "evalue": "",
     "output_type": "error",
     "traceback": [
      "\u001b[0;31m---------------------------------------------------------------------------\u001b[0m",
      "\u001b[0;31mKeyboardInterrupt\u001b[0m                         Traceback (most recent call last)",
      "\u001b[0;32m<ipython-input-73-170a0e375774>\u001b[0m in \u001b[0;36m<module>\u001b[0;34m\u001b[0m\n\u001b[1;32m     18\u001b[0m \u001b[0;32mwhile\u001b[0m \u001b[0;32mTrue\u001b[0m\u001b[0;34m:\u001b[0m\u001b[0;34m\u001b[0m\u001b[0;34m\u001b[0m\u001b[0m\n\u001b[1;32m     19\u001b[0m     \u001b[0mi\u001b[0m \u001b[0;34m+=\u001b[0m \u001b[0;36m1\u001b[0m\u001b[0;34m\u001b[0m\u001b[0;34m\u001b[0m\u001b[0m\n\u001b[0;32m---> 20\u001b[0;31m     \u001b[0mmap_\u001b[0m\u001b[0;34m,\u001b[0m \u001b[0mvelocities\u001b[0m \u001b[0;34m=\u001b[0m \u001b[0mcompute_new_step\u001b[0m\u001b[0;34m(\u001b[0m\u001b[0mmap_\u001b[0m\u001b[0;34m,\u001b[0m \u001b[0mvelocities\u001b[0m\u001b[0;34m)\u001b[0m\u001b[0;34m\u001b[0m\u001b[0;34m\u001b[0m\u001b[0m\n\u001b[0m\u001b[1;32m     21\u001b[0m     \u001b[0mmap_\u001b[0m \u001b[0;34m=\u001b[0m \u001b[0mtuple\u001b[0m\u001b[0;34m(\u001b[0m\u001b[0mmap_\u001b[0m\u001b[0;34m)\u001b[0m\u001b[0;34m\u001b[0m\u001b[0;34m\u001b[0m\u001b[0m\n\u001b[1;32m     22\u001b[0m     \u001b[0mvelocities\u001b[0m \u001b[0;34m=\u001b[0m \u001b[0mtuple\u001b[0m\u001b[0;34m(\u001b[0m\u001b[0mvelocities\u001b[0m\u001b[0;34m)\u001b[0m\u001b[0;34m\u001b[0m\u001b[0;34m\u001b[0m\u001b[0m\n",
      "\u001b[0;32m<ipython-input-49-e0990dbfc5a1>\u001b[0m in \u001b[0;36mcompute_new_step\u001b[0;34m(map_, velocities)\u001b[0m\n\u001b[1;32m      4\u001b[0m     \u001b[0mresult_velocities\u001b[0m \u001b[0;34m=\u001b[0m \u001b[0;34m[\u001b[0m\u001b[0;34m]\u001b[0m\u001b[0;34m\u001b[0m\u001b[0;34m\u001b[0m\u001b[0m\n\u001b[1;32m      5\u001b[0m     \u001b[0;32mfor\u001b[0m \u001b[0mpoint\u001b[0m\u001b[0;34m,\u001b[0m \u001b[0mvelocity\u001b[0m \u001b[0;32min\u001b[0m \u001b[0mzip\u001b[0m\u001b[0;34m(\u001b[0m\u001b[0mmap_\u001b[0m\u001b[0;34m,\u001b[0m \u001b[0mvelocities\u001b[0m\u001b[0;34m)\u001b[0m\u001b[0;34m:\u001b[0m\u001b[0;34m\u001b[0m\u001b[0;34m\u001b[0m\u001b[0m\n\u001b[0;32m----> 6\u001b[0;31m         \u001b[0mnew_velocity\u001b[0m \u001b[0;34m=\u001b[0m \u001b[0mcompute_velocity\u001b[0m\u001b[0;34m(\u001b[0m\u001b[0mpoint\u001b[0m\u001b[0;34m,\u001b[0m \u001b[0mvelocity\u001b[0m\u001b[0;34m,\u001b[0m \u001b[0mmap_\u001b[0m\u001b[0;34m)\u001b[0m\u001b[0;34m\u001b[0m\u001b[0;34m\u001b[0m\u001b[0m\n\u001b[0m\u001b[1;32m      7\u001b[0m         \u001b[0mnew_point\u001b[0m \u001b[0;34m=\u001b[0m \u001b[0msum_point\u001b[0m\u001b[0;34m(\u001b[0m\u001b[0mpoint\u001b[0m\u001b[0;34m,\u001b[0m \u001b[0mnew_velocity\u001b[0m\u001b[0;34m)\u001b[0m\u001b[0;34m\u001b[0m\u001b[0;34m\u001b[0m\u001b[0m\n\u001b[1;32m      8\u001b[0m \u001b[0;34m\u001b[0m\u001b[0m\n",
      "\u001b[0;32m<ipython-input-11-ad5b620ee896>\u001b[0m in \u001b[0;36mcompute_velocity\u001b[0;34m(point, velocity, map_)\u001b[0m\n\u001b[1;32m      5\u001b[0m             \u001b[0;32mcontinue\u001b[0m\u001b[0;34m\u001b[0m\u001b[0;34m\u001b[0m\u001b[0m\n\u001b[1;32m      6\u001b[0m \u001b[0;34m\u001b[0m\u001b[0m\n\u001b[0;32m----> 7\u001b[0;31m         \u001b[0mgravity\u001b[0m \u001b[0;34m=\u001b[0m \u001b[0mcompute_gravity\u001b[0m\u001b[0;34m(\u001b[0m\u001b[0mpoint\u001b[0m\u001b[0;34m,\u001b[0m \u001b[0mother\u001b[0m\u001b[0;34m)\u001b[0m\u001b[0;34m\u001b[0m\u001b[0;34m\u001b[0m\u001b[0m\n\u001b[0m\u001b[1;32m      8\u001b[0m         \u001b[0mvelocity\u001b[0m \u001b[0;34m=\u001b[0m \u001b[0msum_point\u001b[0m\u001b[0;34m(\u001b[0m\u001b[0mvelocity\u001b[0m\u001b[0;34m,\u001b[0m \u001b[0mgravity\u001b[0m\u001b[0;34m)\u001b[0m\u001b[0;34m\u001b[0m\u001b[0;34m\u001b[0m\u001b[0m\n\u001b[1;32m      9\u001b[0m \u001b[0;34m\u001b[0m\u001b[0m\n",
      "\u001b[0;32m<ipython-input-6-d35c97bbd6c6>\u001b[0m in \u001b[0;36mcompute_gravity\u001b[0;34m(a, b)\u001b[0m\n\u001b[1;32m      4\u001b[0m         \u001b[0mcmp\u001b[0m\u001b[0;34m(\u001b[0m\u001b[0mb\u001b[0m\u001b[0;34m.\u001b[0m\u001b[0mx\u001b[0m\u001b[0;34m,\u001b[0m \u001b[0ma\u001b[0m\u001b[0;34m.\u001b[0m\u001b[0mx\u001b[0m\u001b[0;34m)\u001b[0m\u001b[0;34m,\u001b[0m\u001b[0;34m\u001b[0m\u001b[0;34m\u001b[0m\u001b[0m\n\u001b[1;32m      5\u001b[0m         \u001b[0mcmp\u001b[0m\u001b[0;34m(\u001b[0m\u001b[0mb\u001b[0m\u001b[0;34m.\u001b[0m\u001b[0my\u001b[0m\u001b[0;34m,\u001b[0m \u001b[0ma\u001b[0m\u001b[0;34m.\u001b[0m\u001b[0my\u001b[0m\u001b[0;34m)\u001b[0m\u001b[0;34m,\u001b[0m\u001b[0;34m\u001b[0m\u001b[0;34m\u001b[0m\u001b[0m\n\u001b[0;32m----> 6\u001b[0;31m         \u001b[0mcmp\u001b[0m\u001b[0;34m(\u001b[0m\u001b[0mb\u001b[0m\u001b[0;34m.\u001b[0m\u001b[0mz\u001b[0m\u001b[0;34m,\u001b[0m \u001b[0ma\u001b[0m\u001b[0;34m.\u001b[0m\u001b[0mz\u001b[0m\u001b[0;34m)\u001b[0m\u001b[0;34m,\u001b[0m\u001b[0;34m\u001b[0m\u001b[0;34m\u001b[0m\u001b[0m\n\u001b[0m\u001b[1;32m      7\u001b[0m     )\n",
      "\u001b[0;32m<string>\u001b[0m in \u001b[0;36m__new__\u001b[0;34m(_cls, x, y, z)\u001b[0m\n",
      "\u001b[0;31mKeyboardInterrupt\u001b[0m: "
     ]
    }
   ],
   "source": [
    "map_ = (\n",
    "    Point(3, -6, 6),\n",
    "    Point(10, 7, -9),\n",
    "    Point(-3, -7, 9),\n",
    "    Point(-8, 0, 4),\n",
    ")\n",
    "velocities = (\n",
    "    Point(0, 0, 0),\n",
    "    Point(0, 0, 0),\n",
    "    Point(0, 0, 0),\n",
    "    Point(0, 0, 0),\n",
    ")\n",
    "\n",
    "maps = set([map_])   \n",
    "maps_velocities = set([velocities])\n",
    "\n",
    "i = 0\n",
    "while True:\n",
    "    i += 1\n",
    "    map_, velocities = compute_new_step(map_, velocities)\n",
    "    map_ = tuple(map_)\n",
    "    velocities = tuple(velocities)\n",
    "    if map_ in maps and velocities in maps_velocities:\n",
    "        break\n",
    "    else:\n",
    "        maps.add(map_)\n",
    "        maps_velocities.add(velocities)\n",
    "\n",
    "i"
   ]
  }
 ],
 "metadata": {
  "kernelspec": {
   "display_name": "Python 3",
   "language": "python",
   "name": "python3"
  },
  "language_info": {
   "codemirror_mode": {
    "name": "ipython",
    "version": 3
   },
   "file_extension": ".py",
   "mimetype": "text/x-python",
   "name": "python",
   "nbconvert_exporter": "python",
   "pygments_lexer": "ipython3",
   "version": "3.7.1"
  }
 },
 "nbformat": 4,
 "nbformat_minor": 4
}
