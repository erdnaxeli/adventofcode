{
 "cells": [
  {
   "cell_type": "markdown",
   "metadata": {},
   "source": [
    "# Day 7\n",
    "\n",
    "## Part 1\n",
    "\n",
    "We need to run a program in chain, to compute the output of some amplifier.\n",
    "\n",
    "The program take two input :\n",
    "* a config value\n",
    "* the previous output (starting from 0)\n",
    "\n",
    "The interpreter for the program is the one we wrote on day 5."
   ]
  },
  {
   "cell_type": "code",
   "execution_count": 1,
   "metadata": {},
   "outputs": [],
   "source": [
    "from collections import defaultdict\n",
    "\n",
    "\n",
    "\n",
    "def log(*args):\n",
    "    if DEBUG:\n",
    "        print(*args)\n",
    "\n",
    "\n",
    "def get_param_value(program, position, param, mode):\n",
    "    if mode == 0:  # position mode\n",
    "        return program[program[position + param]]\n",
    "    elif mode == 1:  # immediate mode\n",
    "        return program[position + param]\n",
    "    else:\n",
    "        raise ValueError(\"Unknown paremeter mode\")\n",
    "\n",
    "        \n",
    "def compute(program, read_input, write_output):\n",
    "    \"\"\"Compute the final state of a program, and return it.\n",
    "    \n",
    "    `program` is a list of int.\n",
    "    `read_input` is a method returning a value each time it is called.\n",
    "    `write_output` is a method taking a value as parameter.\n",
    "    \"\"\"\n",
    "    program = program.copy()\n",
    "    \n",
    "    # init state\n",
    "    p = 0\n",
    "    \n",
    "    # run program\n",
    "    while True:\n",
    "        # read instruction and split it into opcode and parameters mode\n",
    "        \n",
    "        try:\n",
    "            instruction = program[p]\n",
    "        except IndexError:\n",
    "            # end of program\n",
    "            break\n",
    "\n",
    "        parameters_mode = defaultdict(lambda: 0)\n",
    "        opcode = instruction % 100\n",
    "\n",
    "        value = instruction // 100\n",
    "        i = 1\n",
    "        while value > 0:\n",
    "            parameters_mode[i] = value % 10\n",
    "            value //= 10\n",
    "            i += 1\n",
    "            \n",
    "        log(p, '>', instruction, opcode, dict(parameters_mode))\n",
    "\n",
    "        # execute opcode\n",
    "        if opcode == 1:\n",
    "            # add x y\n",
    "            x = get_param_value(program, p, 1, parameters_mode[1])\n",
    "            y = get_param_value(program, p, 2, parameters_mode[2])\n",
    "            result_pos = program[p + 3]\n",
    "\n",
    "            result = x + y\n",
    "            program[result_pos] = result\n",
    "            log(\"add\", x, y, result_pos, result)\n",
    "\n",
    "            step = 4\n",
    "        elif opcode == 2:\n",
    "            # mult x y\n",
    "            x = get_param_value(program, p, 1, parameters_mode[1])\n",
    "            y = get_param_value(program, p, 2, parameters_mode[2])\n",
    "            result_pos = program[p + 3]\n",
    "            \n",
    "            result = x * y\n",
    "            program[result_pos] = result\n",
    "            log(\"mult\", x, y, result_pos, result)\n",
    "\n",
    "            step = 4\n",
    "        elif opcode == 3:\n",
    "            # read x\n",
    "            result_pos = program[p + 1]\n",
    "\n",
    "            value = read_input()\n",
    "            program[result_pos] = value\n",
    "            log(\"read\", value, result_pos)\n",
    "\n",
    "            step = 2\n",
    "        elif opcode == 4:\n",
    "            # write x\n",
    "            value = get_param_value(program, p, 1, parameters_mode[1])\n",
    "            write_output(value)\n",
    "            log(\"write\", value)\n",
    "            \n",
    "            step = 2\n",
    "        elif opcode == 5:\n",
    "            # jump-if-true x y\n",
    "            value = get_param_value(program, p, 1, parameters_mode[1])\n",
    "            jump_pos = get_param_value(program, p, 2, parameters_mode[2])\n",
    "            \n",
    "            log(\"jump-if-true\", value, jump_pos)\n",
    "            \n",
    "            if value:\n",
    "                p = jump_pos\n",
    "                step = 0\n",
    "            else:\n",
    "                step = 3\n",
    "        elif opcode == 6:\n",
    "            # jump-if-false x y\n",
    "            value = get_param_value(program, p, 1, parameters_mode[1])\n",
    "            jump_pos = get_param_value(program, p, 2, parameters_mode[2])\n",
    "            \n",
    "            log(\"jump-if-false\", value, jump_pos)\n",
    "            \n",
    "            if not value:\n",
    "                p = jump_pos\n",
    "                step = 0\n",
    "            else:\n",
    "                step = 3\n",
    "        elif opcode == 7:\n",
    "            # lt x y z\n",
    "            x = get_param_value(program, p, 1, parameters_mode[1])\n",
    "            y = get_param_value(program, p, 2, parameters_mode[2])\n",
    "            result_pos = program[p + 3]\n",
    "            \n",
    "            log(\"lt\", x, y, result_pos)\n",
    "            \n",
    "            if x < y:\n",
    "                program[result_pos] = 1\n",
    "            else:\n",
    "                program[result_pos] = 0\n",
    "                \n",
    "            step = 4\n",
    "        elif opcode == 8:\n",
    "            # eq x y z\n",
    "            x = get_param_value(program, p, 1, parameters_mode[1])\n",
    "            y = get_param_value(program, p, 2, parameters_mode[2])\n",
    "            result_pos = program[p + 3]\n",
    "            \n",
    "            log(\"eq\", x, y, result_pos)\n",
    "            \n",
    "            if x == y:\n",
    "                program[result_pos] = 1\n",
    "            else:\n",
    "                program[result_pos] = 0\n",
    "                \n",
    "            step = 4\n",
    "        elif opcode == 99:\n",
    "            # end of program\n",
    "            log(\"stop\")\n",
    "            break\n",
    "        else:\n",
    "            # unknown instruction\n",
    "            log(\"unknown opcode\")\n",
    "            break\n",
    "\n",
    "        p += step\n",
    "\n",
    "    return program"
   ]
  },
  {
   "cell_type": "code",
   "execution_count": 2,
   "metadata": {},
   "outputs": [],
   "source": [
    "def compute_amplifier_ouput(config, program):\n",
    "    \"\"\"Compute the total output of some chained amplifiers.\n",
    "    \n",
    "    The program must take two input and output one value.\n",
    "    The config is an array with the config value for each amplifier.\n",
    "    \"\"\"\n",
    "    output = 0\n",
    "    for config_value in config:\n",
    "        result = []\n",
    "        input_values = [output, config_value]\n",
    "        read_input = lambda: input_values.pop()\n",
    "        write_output = lambda v: result.append(v)\n",
    "\n",
    "        compute(program, read_input, write_output)\n",
    "        output = result[0]\n",
    "        \n",
    "    return output"
   ]
  },
  {
   "cell_type": "markdown",
   "metadata": {},
   "source": [
    "This program should output 43210 with the config values 4, 3, 2, 1 and 0."
   ]
  },
  {
   "cell_type": "code",
   "execution_count": 3,
   "metadata": {},
   "outputs": [
    {
     "data": {
      "text/plain": [
       "43210"
      ]
     },
     "execution_count": 3,
     "metadata": {},
     "output_type": "execute_result"
    }
   ],
   "source": [
    "DEBUG = False\n",
    "config = [4, 3, 2, 1, 0]\n",
    "program = [3,15,3,16,1002,16,10,16,1,16,15,15,4,15,99,0,0]\n",
    "compute_amplifier_ouput(config, program)"
   ]
  },
  {
   "cell_type": "markdown",
   "metadata": {},
   "source": [
    "This one should output 54321."
   ]
  },
  {
   "cell_type": "code",
   "execution_count": 4,
   "metadata": {},
   "outputs": [
    {
     "data": {
      "text/plain": [
       "54321"
      ]
     },
     "execution_count": 4,
     "metadata": {},
     "output_type": "execute_result"
    }
   ],
   "source": [
    "config = [0, 1, 2, 3, 4]\n",
    "program = [\n",
    "    3,23,3,24,1002,24,10,24,1002,23,-1,23,\n",
    "    101,5,23,23,1,24,23,23,4,23,99,0,0\n",
    "]\n",
    "compute_amplifier_ouput(config, program)"
   ]
  },
  {
   "cell_type": "markdown",
   "metadata": {},
   "source": [
    "This one should output 65210."
   ]
  },
  {
   "cell_type": "code",
   "execution_count": 5,
   "metadata": {},
   "outputs": [
    {
     "data": {
      "text/plain": [
       "65210"
      ]
     },
     "execution_count": 5,
     "metadata": {},
     "output_type": "execute_result"
    }
   ],
   "source": [
    "config = [1, 0, 4, 3, 2]\n",
    "program = [\n",
    "    3,31,3,32,1002,32,10,32,1001,31,-2,31,1007,31,0,33,\n",
    "    1002,33,7,33,1,33,31,31,1,32,31,31,4,31,99,0,0,0\n",
    "]\n",
    "compute_amplifier_ouput(config, program)"
   ]
  },
  {
   "cell_type": "markdown",
   "metadata": {},
   "source": [
    "### Result"
   ]
  },
  {
   "cell_type": "markdown",
   "metadata": {},
   "source": [
    "We want to find the *max output* the given program can output.\n",
    "The config values can only range from 0 to 4."
   ]
  },
  {
   "cell_type": "code",
   "execution_count": 6,
   "metadata": {},
   "outputs": [
    {
     "name": "stdout",
     "output_type": "stream",
     "text": [
      "398674\n",
      "(0, 3, 1, 2, 4)\n"
     ]
    }
   ],
   "source": [
    "from itertools import permutations\n",
    "\n",
    "program = [3,8,1001,8,10,8,105,1,0,0,21,38,63,76,93,118,199,280,361,442,99999,3,9,101,3,9,9,102,3,9,9,101,4,9,9,4,9,99,3,9,1002,9,2,9,101,5,9,9,1002,9,5,9,101,5,9,9,1002,9,4,9,4,9,99,3,9,101,2,9,9,102,3,9,9,4,9,99,3,9,101,2,9,9,102,5,9,9,1001,9,5,9,4,9,99,3,9,102,4,9,9,1001,9,3,9,1002,9,5,9,101,2,9,9,1002,9,2,9,4,9,99,3,9,1002,9,2,9,4,9,3,9,1001,9,1,9,4,9,3,9,1001,9,1,9,4,9,3,9,1001,9,1,9,4,9,3,9,1001,9,2,9,4,9,3,9,1002,9,2,9,4,9,3,9,101,2,9,9,4,9,3,9,1002,9,2,9,4,9,3,9,1001,9,1,9,4,9,3,9,101,2,9,9,4,9,99,3,9,102,2,9,9,4,9,3,9,1002,9,2,9,4,9,3,9,1001,9,2,9,4,9,3,9,102,2,9,9,4,9,3,9,101,1,9,9,4,9,3,9,102,2,9,9,4,9,3,9,102,2,9,9,4,9,3,9,1001,9,1,9,4,9,3,9,102,2,9,9,4,9,3,9,1001,9,1,9,4,9,99,3,9,101,1,9,9,4,9,3,9,101,2,9,9,4,9,3,9,1002,9,2,9,4,9,3,9,101,2,9,9,4,9,3,9,1001,9,2,9,4,9,3,9,1002,9,2,9,4,9,3,9,1002,9,2,9,4,9,3,9,102,2,9,9,4,9,3,9,1001,9,1,9,4,9,3,9,1002,9,2,9,4,9,99,3,9,1001,9,1,9,4,9,3,9,102,2,9,9,4,9,3,9,102,2,9,9,4,9,3,9,1002,9,2,9,4,9,3,9,1001,9,2,9,4,9,3,9,102,2,9,9,4,9,3,9,101,2,9,9,4,9,3,9,1002,9,2,9,4,9,3,9,101,1,9,9,4,9,3,9,1001,9,2,9,4,9,99,3,9,1002,9,2,9,4,9,3,9,102,2,9,9,4,9,3,9,101,2,9,9,4,9,3,9,101,1,9,9,4,9,3,9,1002,9,2,9,4,9,3,9,1001,9,2,9,4,9,3,9,102,2,9,9,4,9,3,9,101,1,9,9,4,9,3,9,101,2,9,9,4,9,3,9,1002,9,2,9,4,9,99]\n",
    "\n",
    "max_output = 0\n",
    "max_config = None\n",
    "for config in permutations(range(5)):\n",
    "    output = compute_amplifier_ouput(config, program)\n",
    "    if output > max_output:\n",
    "        max_output = output\n",
    "        max_config = config\n",
    "        \n",
    "print(max_output)\n",
    "print(max_config)"
   ]
  },
  {
   "cell_type": "markdown",
   "metadata": {},
   "source": [
    "## Part 2\n",
    "\n",
    "Our ampfiliers are still no powerful enough, so we will use a feedback loop.\n",
    "In this mode, the output of the 5th amplifier is connected back to the output of the first one.\n",
    "The output flows over all amplifiers in a loop, and hopefully they all stop in the last iteration.\n",
    "The output from the final iteration is the one we want to maximize.\n",
    "\n",
    "The cavea is that the program for one amplifier must not be restarted between loops.\n",
    "Instead the program will ask for as many input as loops are needed.\n",
    "\n",
    "This means we need to tweek our interpreter in order to be able to run many program at once.\n",
    "We will use async concurrency with [Trio](https://github.com/python-trio/trio) for that."
   ]
  },
  {
   "cell_type": "code",
   "execution_count": 7,
   "metadata": {},
   "outputs": [],
   "source": [
    "async def compute(program, read_input, write_output):\n",
    "    \"\"\"Compute the final state of a program, and return it.\n",
    "    \n",
    "    `program` is a list of int.\n",
    "    `read_input` is a method returning a value each time it is called.\n",
    "    `write_output` is a method taking a value as parameter.\n",
    "    \"\"\"\n",
    "    program = program.copy()\n",
    "    \n",
    "    # init state\n",
    "    p = 0\n",
    "    \n",
    "    # run program\n",
    "    while True:\n",
    "        # read instruction and split it into opcode and parameters mode\n",
    "        \n",
    "        try:\n",
    "            instruction = program[p]\n",
    "        except IndexError:\n",
    "            # end of program\n",
    "            break\n",
    "\n",
    "        parameters_mode = defaultdict(lambda: 0)\n",
    "        opcode = instruction % 100\n",
    "\n",
    "        value = instruction // 100\n",
    "        i = 1\n",
    "        while value > 0:\n",
    "            parameters_mode[i] = value % 10\n",
    "            value //= 10\n",
    "            i += 1\n",
    "            \n",
    "        log(p, '>', instruction, opcode, dict(parameters_mode))\n",
    "\n",
    "        # execute opcode\n",
    "        if opcode == 1:\n",
    "            # add x y\n",
    "            x = get_param_value(program, p, 1, parameters_mode[1])\n",
    "            y = get_param_value(program, p, 2, parameters_mode[2])\n",
    "            result_pos = program[p + 3]\n",
    "\n",
    "            result = x + y\n",
    "            program[result_pos] = result\n",
    "            log(\"add\", x, y, result_pos, result)\n",
    "\n",
    "            step = 4\n",
    "        elif opcode == 2:\n",
    "            # mult x y\n",
    "            x = get_param_value(program, p, 1, parameters_mode[1])\n",
    "            y = get_param_value(program, p, 2, parameters_mode[2])\n",
    "            result_pos = program[p + 3]\n",
    "            \n",
    "            result = x * y\n",
    "            program[result_pos] = result\n",
    "            log(\"mult\", x, y, result_pos, result)\n",
    "\n",
    "            step = 4\n",
    "        elif opcode == 3:\n",
    "            # read x\n",
    "            result_pos = program[p + 1]\n",
    "\n",
    "            value = await read_input()\n",
    "            program[result_pos] = value\n",
    "            log(\"read\", value, result_pos)\n",
    "\n",
    "            step = 2\n",
    "        elif opcode == 4:\n",
    "            # write x\n",
    "            value = get_param_value(program, p, 1, parameters_mode[1])\n",
    "            await write_output(value)\n",
    "            log(\"write\", value)\n",
    "            \n",
    "            step = 2\n",
    "        elif opcode == 5:\n",
    "            # jump-if-true x y\n",
    "            value = get_param_value(program, p, 1, parameters_mode[1])\n",
    "            jump_pos = get_param_value(program, p, 2, parameters_mode[2])\n",
    "            \n",
    "            log(\"jump-if-true\", value, jump_pos)\n",
    "            \n",
    "            if value:\n",
    "                p = jump_pos\n",
    "                step = 0\n",
    "            else:\n",
    "                step = 3\n",
    "        elif opcode == 6:\n",
    "            # jump-if-false x y\n",
    "            value = get_param_value(program, p, 1, parameters_mode[1])\n",
    "            jump_pos = get_param_value(program, p, 2, parameters_mode[2])\n",
    "            \n",
    "            log(\"jump-if-false\", value, jump_pos)\n",
    "            \n",
    "            if not value:\n",
    "                p = jump_pos\n",
    "                step = 0\n",
    "            else:\n",
    "                step = 3\n",
    "        elif opcode == 7:\n",
    "            # lt x y z\n",
    "            x = get_param_value(program, p, 1, parameters_mode[1])\n",
    "            y = get_param_value(program, p, 2, parameters_mode[2])\n",
    "            result_pos = program[p + 3]\n",
    "            \n",
    "            log(\"lt\", x, y, result_pos)\n",
    "            \n",
    "            if x < y:\n",
    "                program[result_pos] = 1\n",
    "            else:\n",
    "                program[result_pos] = 0\n",
    "                \n",
    "            step = 4\n",
    "        elif opcode == 8:\n",
    "            # eq x y z\n",
    "            x = get_param_value(program, p, 1, parameters_mode[1])\n",
    "            y = get_param_value(program, p, 2, parameters_mode[2])\n",
    "            result_pos = program[p + 3]\n",
    "            \n",
    "            log(\"eq\", x, y, result_pos)\n",
    "            \n",
    "            if x == y:\n",
    "                program[result_pos] = 1\n",
    "            else:\n",
    "                program[result_pos] = 0\n",
    "                \n",
    "            step = 4\n",
    "        elif opcode == 99:\n",
    "            # end of program\n",
    "            log(\"stop\")\n",
    "            break\n",
    "        else:\n",
    "            # unknown instruction\n",
    "            log(\"unknown opcode\")\n",
    "            break\n",
    "\n",
    "        p += step\n",
    "\n",
    "    return program"
   ]
  },
  {
   "cell_type": "code",
   "execution_count": 8,
   "metadata": {},
   "outputs": [],
   "source": [
    "import trio\n",
    "\n",
    "def read_input(queue):\n",
    "    async def read_input_from_queue():\n",
    "        value = await queue.receive()\n",
    "        return value\n",
    "    \n",
    "    return read_input_from_queue\n",
    "\n",
    "\n",
    "def write_output(queue):\n",
    "    async def write_output_to_queue(value):\n",
    "        return await queue.send(value)\n",
    "    \n",
    "    return write_output_to_queue\n",
    "\n",
    "\n",
    "async def compute_amplifier_ouput(config, program):\n",
    "    \"\"\"Compute the total output of 5 chained amplifiers.\n",
    "    \n",
    "    The config is an array with the config value for each amplifier.\n",
    "    The program must work in a feedback loop mode.\n",
    "    \"\"\"\n",
    "    # create all queues\n",
    "    \n",
    "    # We connect the output from the 5th amplifier to the input from the 1st\n",
    "    # amplifier.\n",
    "    output5, input1 = trio.open_memory_channel(2)\n",
    "    output1, input2 = trio.open_memory_channel(2)\n",
    "    output2, input3 = trio.open_memory_channel(2)\n",
    "    output3, input4 = trio.open_memory_channel(2)\n",
    "    output4, input5 = trio.open_memory_channel(2)\n",
    "    \n",
    "    # prepare initial inputs\n",
    "\n",
    "    # config values\n",
    "    # We write in output5 the config value that will be read by the 1st\n",
    "    # amplifier, in output1 the one for the 2d amplifier, and so on.\n",
    "    await output5.send(config[0])\n",
    "    await output1.send(config[1])\n",
    "    await output2.send(config[2])\n",
    "    await output3.send(config[3])\n",
    "    await output4.send(config[4])\n",
    "    # initual output value\n",
    "    await output5.send(0)\n",
    "    \n",
    "    # run amplifiers\n",
    "    async with trio.open_nursery() as nursery:\n",
    "        nursery.start_soon(\n",
    "            compute, program, read_input(input1), write_output(output1)\n",
    "        )\n",
    "        nursery.start_soon(\n",
    "            compute, program, read_input(input2), write_output(output2)\n",
    "        )\n",
    "        nursery.start_soon(\n",
    "            compute, program, read_input(input3), write_output(output3)\n",
    "        )\n",
    "        nursery.start_soon(\n",
    "            compute, program, read_input(input4), write_output(output4)\n",
    "        )\n",
    "        nursery.start_soon(\n",
    "            compute, program, read_input(input5), write_output(output5)\n",
    "        )\n",
    "    \n",
    "    # There should be one value left on the 5th amplifier output, which is the\n",
    "    # 1st one input\n",
    "    return await input1.receive()"
   ]
  },
  {
   "cell_type": "markdown",
   "metadata": {},
   "source": [
    "Ok, we are now stick to 5 amplifiers chain but it was for clarity.\n",
    "Let's test this!"
   ]
  },
  {
   "cell_type": "code",
   "execution_count": 10,
   "metadata": {},
   "outputs": [
    {
     "data": {
      "text/plain": [
       "139629729"
      ]
     },
     "execution_count": 10,
     "metadata": {},
     "output_type": "execute_result"
    }
   ],
   "source": [
    "%autoawait trio\n",
    "\n",
    "program = [\n",
    "    3,26,1001,26,-4,26,3,27,1002,27,2,27,1,27,26,\n",
    "    27,4,27,1001,28,-1,28,1005,28,6,99,0,0,5\n",
    "]\n",
    "config = [9, 8, 7, 6, 5]\n",
    "await compute_amplifier_ouput(config, program)  # should return 139629729"
   ]
  },
  {
   "cell_type": "code",
   "execution_count": 11,
   "metadata": {},
   "outputs": [
    {
     "data": {
      "text/plain": [
       "18216"
      ]
     },
     "execution_count": 11,
     "metadata": {},
     "output_type": "execute_result"
    }
   ],
   "source": [
    "%autoawait trio\n",
    "\n",
    "program = [\n",
    "    3,52,1001,52,-5,52,3,53,1,52,56,54,1007,54,5,55,1005,55,26,1001,54,\n",
    "    -5,54,1105,1,12,1,53,54,53,1008,54,0,55,1001,55,1,55,2,53,55,53,4,\n",
    "    53,1001,56,-1,56,1005,56,6,99,0,0,0,0,10\n",
    "]\n",
    "config = [9, 7, 8, 5, 6]\n",
    "await compute_amplifier_ouput(config, program)  # should return 18216"
   ]
  },
  {
   "cell_type": "markdown",
   "metadata": {},
   "source": [
    "### Result"
   ]
  },
  {
   "cell_type": "code",
   "execution_count": 12,
   "metadata": {},
   "outputs": [
    {
     "name": "stdout",
     "output_type": "stream",
     "text": [
      "39431233\n",
      "(7, 8, 5, 9, 6)\n"
     ]
    }
   ],
   "source": [
    "%autoawait trio\n",
    "\n",
    "from itertools import permutations\n",
    "\n",
    "program = [3,8,1001,8,10,8,105,1,0,0,21,38,63,76,93,118,199,280,361,442,99999,3,9,101,3,9,9,102,3,9,9,101,4,9,9,4,9,99,3,9,1002,9,2,9,101,5,9,9,1002,9,5,9,101,5,9,9,1002,9,4,9,4,9,99,3,9,101,2,9,9,102,3,9,9,4,9,99,3,9,101,2,9,9,102,5,9,9,1001,9,5,9,4,9,99,3,9,102,4,9,9,1001,9,3,9,1002,9,5,9,101,2,9,9,1002,9,2,9,4,9,99,3,9,1002,9,2,9,4,9,3,9,1001,9,1,9,4,9,3,9,1001,9,1,9,4,9,3,9,1001,9,1,9,4,9,3,9,1001,9,2,9,4,9,3,9,1002,9,2,9,4,9,3,9,101,2,9,9,4,9,3,9,1002,9,2,9,4,9,3,9,1001,9,1,9,4,9,3,9,101,2,9,9,4,9,99,3,9,102,2,9,9,4,9,3,9,1002,9,2,9,4,9,3,9,1001,9,2,9,4,9,3,9,102,2,9,9,4,9,3,9,101,1,9,9,4,9,3,9,102,2,9,9,4,9,3,9,102,2,9,9,4,9,3,9,1001,9,1,9,4,9,3,9,102,2,9,9,4,9,3,9,1001,9,1,9,4,9,99,3,9,101,1,9,9,4,9,3,9,101,2,9,9,4,9,3,9,1002,9,2,9,4,9,3,9,101,2,9,9,4,9,3,9,1001,9,2,9,4,9,3,9,1002,9,2,9,4,9,3,9,1002,9,2,9,4,9,3,9,102,2,9,9,4,9,3,9,1001,9,1,9,4,9,3,9,1002,9,2,9,4,9,99,3,9,1001,9,1,9,4,9,3,9,102,2,9,9,4,9,3,9,102,2,9,9,4,9,3,9,1002,9,2,9,4,9,3,9,1001,9,2,9,4,9,3,9,102,2,9,9,4,9,3,9,101,2,9,9,4,9,3,9,1002,9,2,9,4,9,3,9,101,1,9,9,4,9,3,9,1001,9,2,9,4,9,99,3,9,1002,9,2,9,4,9,3,9,102,2,9,9,4,9,3,9,101,2,9,9,4,9,3,9,101,1,9,9,4,9,3,9,1002,9,2,9,4,9,3,9,1001,9,2,9,4,9,3,9,102,2,9,9,4,9,3,9,101,1,9,9,4,9,3,9,101,2,9,9,4,9,3,9,1002,9,2,9,4,9,99]\n",
    "\n",
    "max_output = 0\n",
    "max_config = None\n",
    "for config in permutations(range(5, 10)):\n",
    "    output = await compute_amplifier_ouput(config, program)\n",
    "    if output > max_output:\n",
    "        max_output = output\n",
    "        max_config = config\n",
    "        \n",
    "print(max_output)\n",
    "print(max_config)"
   ]
  }
 ],
 "metadata": {
  "kernelspec": {
   "display_name": "Python 3",
   "language": "python",
   "name": "python3"
  },
  "language_info": {
   "codemirror_mode": {
    "name": "ipython",
    "version": 3
   },
   "file_extension": ".py",
   "mimetype": "text/x-python",
   "name": "python",
   "nbconvert_exporter": "python",
   "pygments_lexer": "ipython3",
   "version": "3.7.3"
  }
 },
 "nbformat": 4,
 "nbformat_minor": 4
}
