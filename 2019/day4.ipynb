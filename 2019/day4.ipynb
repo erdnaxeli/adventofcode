{
 "cells": [
  {
   "cell_type": "markdown",
   "metadata": {},
   "source": [
    "# Day 4\n",
    "\n",
    "## Part 1\n",
    "\n",
    "We must find a password:\n",
    "* It is a six-digit number.\n",
    "* The value is within the range given in your puzzle input.\n",
    "* Two adjacent digits are the same (like 22 in 122345).\n",
    "* Going from left to right, the digits never decrease; they only ever increase or stay the same (like 111123 or 135679)."
   ]
  },
  {
   "cell_type": "markdown",
   "metadata": {},
   "source": [
    "The goal is to find how many different passwords meet these criteria in the given range."
   ]
  },
  {
   "cell_type": "code",
   "execution_count": 26,
   "metadata": {},
   "outputs": [],
   "source": [
    "import re\n",
    "\n",
    "def is_valid(password, password_range):\n",
    "    adjacent = re.compile(r'(.)\\1')\n",
    "    return (\n",
    "        password >= password_range[0]\n",
    "        and password <= password_range[1]\n",
    "        and adjacent.search(str(password)) is not None\n",
    "    )"
   ]
  },
  {
   "cell_type": "markdown",
   "metadata": {},
   "source": [
    "### Test cases"
   ]
  },
  {
   "cell_type": "code",
   "execution_count": 27,
   "metadata": {},
   "outputs": [
    {
     "data": {
      "text/plain": [
       "True"
      ]
     },
     "execution_count": 27,
     "metadata": {},
     "output_type": "execute_result"
    }
   ],
   "source": [
    "is_valid(111111, (1, 999999))  # True"
   ]
  },
  {
   "cell_type": "code",
   "execution_count": 28,
   "metadata": {},
   "outputs": [
    {
     "data": {
      "text/plain": [
       "False"
      ]
     },
     "execution_count": 28,
     "metadata": {},
     "output_type": "execute_result"
    }
   ],
   "source": [
    "is_valid(123789, (1, 999999))  # False"
   ]
  },
  {
   "cell_type": "markdown",
   "metadata": {},
   "source": [
    "### Result"
   ]
  },
  {
   "cell_type": "code",
   "execution_count": 29,
   "metadata": {},
   "outputs": [],
   "source": [
    "input_range = (147981, 691423)"
   ]
  },
  {
   "cell_type": "code",
   "execution_count": 30,
   "metadata": {},
   "outputs": [],
   "source": [
    "total = 0\n",
    "\n",
    "for a in range(1, 7):\n",
    "    for b in range(a, 10):\n",
    "        for c in range(b, 10):\n",
    "            for d in range(c, 10):\n",
    "                for e in range(d, 10):\n",
    "                    for f in range(e, 10):\n",
    "                        password = a*100000 + b*10000 + c*1000 + d*100 + e*10 +f\n",
    "                        if not is_valid(password, input_range):\n",
    "                            continue\n",
    "                        else:\n",
    "                            total += 1"
   ]
  },
  {
   "cell_type": "code",
   "execution_count": 31,
   "metadata": {},
   "outputs": [
    {
     "data": {
      "text/plain": [
       "1790"
      ]
     },
     "execution_count": 31,
     "metadata": {},
     "output_type": "execute_result"
    }
   ],
   "source": [
    "total"
   ]
  },
  {
   "cell_type": "markdown",
   "metadata": {},
   "source": [
    "## Part two\n",
    "\n",
    "There was a missing rule: the two adjacent digits are not part of a larger group of matching digits."
   ]
  },
  {
   "cell_type": "code",
   "execution_count": 61,
   "metadata": {},
   "outputs": [],
   "source": [
    "adjacent = re.compile(r'(.)\\1+')\n",
    "\n",
    "def is_valid_p2(password, password_range):\n",
    "    password_str = str(password)   \n",
    "    matches = adjacent.finditer(password_str)\n",
    "\n",
    "    if password_range[0] <= password <= password_range[1]:\n",
    "        for match in matches:\n",
    "            if match is not None and len(match.group(0)) == 2:\n",
    "                return True\n",
    "        else:\n",
    "            return False"
   ]
  },
  {
   "cell_type": "markdown",
   "metadata": {},
   "source": [
    "### Test cases"
   ]
  },
  {
   "cell_type": "code",
   "execution_count": 62,
   "metadata": {},
   "outputs": [
    {
     "data": {
      "text/plain": [
       "True"
      ]
     },
     "execution_count": 62,
     "metadata": {},
     "output_type": "execute_result"
    }
   ],
   "source": [
    "is_valid_p2(112233, (0, 999999))  # True"
   ]
  },
  {
   "cell_type": "code",
   "execution_count": 63,
   "metadata": {},
   "outputs": [
    {
     "data": {
      "text/plain": [
       "False"
      ]
     },
     "execution_count": 63,
     "metadata": {},
     "output_type": "execute_result"
    }
   ],
   "source": [
    "is_valid_p2(123444, (0, 999999))  # False"
   ]
  },
  {
   "cell_type": "code",
   "execution_count": 64,
   "metadata": {},
   "outputs": [
    {
     "data": {
      "text/plain": [
       "True"
      ]
     },
     "execution_count": 64,
     "metadata": {},
     "output_type": "execute_result"
    }
   ],
   "source": [
    "is_valid_p2(111122, (0, 999999))  # True"
   ]
  },
  {
   "cell_type": "code",
   "execution_count": 65,
   "metadata": {},
   "outputs": [],
   "source": [
    "total = 0\n",
    "\n",
    "for a in range(1, 7):\n",
    "    for b in range(a, 10):\n",
    "        for c in range(b, 10):\n",
    "            for d in range(c, 10):\n",
    "                for e in range(d, 10):\n",
    "                    for f in range(e, 10):\n",
    "                        password = a*100000 + b*10000 + c*1000 + d*100 + e*10 +f\n",
    "                        if not is_valid_p2(password, input_range):\n",
    "                            continue\n",
    "                        else:\n",
    "                            total += 1"
   ]
  },
  {
   "cell_type": "code",
   "execution_count": 66,
   "metadata": {},
   "outputs": [
    {
     "data": {
      "text/plain": [
       "1206"
      ]
     },
     "execution_count": 66,
     "metadata": {},
     "output_type": "execute_result"
    }
   ],
   "source": [
    "total"
   ]
  }
 ],
 "metadata": {
  "kernelspec": {
   "display_name": "Python 3",
   "language": "python",
   "name": "python3"
  },
  "language_info": {
   "codemirror_mode": {
    "name": "ipython",
    "version": 3
   },
   "file_extension": ".py",
   "mimetype": "text/x-python",
   "name": "python",
   "nbconvert_exporter": "python",
   "pygments_lexer": "ipython3",
   "version": "3.6.7"
  }
 },
 "nbformat": 4,
 "nbformat_minor": 4
}
