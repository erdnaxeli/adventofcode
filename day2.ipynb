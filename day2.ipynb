{
 "cells": [
  {
   "cell_type": "markdown",
   "metadata": {},
   "source": [
    "# Part 1"
   ]
  },
  {
   "cell_type": "code",
   "execution_count": 11,
   "metadata": {},
   "outputs": [],
   "source": [
    "input = \"1,0,0,3,1,1,2,3,1,3,4,3,1,5,0,3,2,6,1,19,1,5,19,23,1,13,23,27,1,6,27,31,2,31,13,35,1,9,35,39,2,39,13,43,1,43,10,47,1,47,13,51,2,13,51,55,1,55,9,59,1,59,5,63,1,6,63,67,1,13,67,71,2,71,10,75,1,6,75,79,1,79,10,83,1,5,83,87,2,10,87,91,1,6,91,95,1,9,95,99,1,99,9,103,2,103,10,107,1,5,107,111,1,9,111,115,2,13,115,119,1,119,10,123,1,123,10,127,2,127,10,131,1,5,131,135,1,10,135,139,1,139,2,143,1,6,143,0,99,2,14,0,0\"\n",
    "program = [int(x) for x in input.split(\",\")]"
   ]
  },
  {
   "cell_type": "code",
   "execution_count": 12,
   "metadata": {},
   "outputs": [],
   "source": [
    "def compute(program):\n",
    "    program = program.copy()\n",
    "    i = 0\n",
    "    while True:\n",
    "        opcode = program[i]\n",
    "        if opcode in (1, 2):\n",
    "            pos_x = program[i+1]\n",
    "            pos_y = program[i+2]\n",
    "            pos_result = program[i+3]\n",
    "            \n",
    "            x = program[pos_x]\n",
    "            y = program[pos_y]\n",
    "            \n",
    "            if opcode == 1:\n",
    "                result = x + y\n",
    "            else:\n",
    "                result = x*y\n",
    "\n",
    "            program[pos_result] = result\n",
    "            i += 4\n",
    "        else:\n",
    "            # termination (99) or unknown opcode\n",
    "            return program"
   ]
  },
  {
   "cell_type": "code",
   "execution_count": 13,
   "metadata": {},
   "outputs": [
    {
     "name": "stdout",
     "output_type": "stream",
     "text": [
      "5290681\n"
     ]
    }
   ],
   "source": [
    "step1_program = program.copy()\n",
    "step1_program[1] = 12\n",
    "step1_program[2] = 2\n",
    "result = compute(step1_program)\n",
    "print(result[0])"
   ]
  },
  {
   "cell_type": "markdown",
   "metadata": {},
   "source": [
    "# Part 2"
   ]
  },
  {
   "cell_type": "code",
   "execution_count": 21,
   "metadata": {},
   "outputs": [
    {
     "name": "stdout",
     "output_type": "stream",
     "text": [
      "5741\n"
     ]
    }
   ],
   "source": [
    "step2_program = program.copy()\n",
    "stop = False\n",
    "\n",
    "for x in range(100):\n",
    "    step2_program[1] = x\n",
    "    \n",
    "    for y in range(100):\n",
    "        step2_program[2] = y\n",
    "        \n",
    "        result = compute(step2_program)\n",
    "        if result[0] == 19690720:\n",
    "            stop = True\n",
    "            break\n",
    "\n",
    "    if stop:\n",
    "        break\n",
    "            \n",
    "print(100 * x + y)"
   ]
  }
 ],
 "metadata": {
  "kernelspec": {
   "display_name": "Python 3",
   "language": "python",
   "name": "python3"
  },
  "language_info": {
   "codemirror_mode": {
    "name": "ipython",
    "version": 3
   },
   "file_extension": ".py",
   "mimetype": "text/x-python",
   "name": "python",
   "nbconvert_exporter": "python",
   "pygments_lexer": "ipython3",
   "version": "3.7.3"
  }
 },
 "nbformat": 4,
 "nbformat_minor": 4
}
